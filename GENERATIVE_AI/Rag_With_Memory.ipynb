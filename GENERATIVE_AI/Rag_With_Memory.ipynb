{
 "cells": [
  {
   "cell_type": "code",
   "execution_count": 1,
   "id": "8c3c81b5",
   "metadata": {},
   "outputs": [
    {
     "name": "stderr",
     "output_type": "stream",
     "text": [
      "C:\\Users\\KABIR\\AppData\\Local\\Temp\\ipykernel_21720\\657638532.py:5: LangChainDeprecationWarning: The class `Cohere` was deprecated in LangChain 0.1.14 and will be removed in 1.0. An updated version of the class exists in the :class:`~langchain-cohere package and should be used instead. To use it run `pip install -U :class:`~langchain-cohere` and import as `from :class:`~langchain_cohere import Cohere``.\n",
      "  llm = Cohere()\n"
     ]
    }
   ],
   "source": [
    "import os\n",
    "\n",
    "os.environ[\"COHERE_API_KEY\"]='QdWMbWNWgMbj4UpVyM5lSR5nFr1PIL0SoBrZ4XP3'\n",
    "from langchain.llms import Cohere\n",
    "llm = Cohere()"
   ]
  },
  {
   "cell_type": "code",
   "execution_count": 2,
   "id": "66baecae",
   "metadata": {},
   "outputs": [
    {
     "name": "stdout",
     "output_type": "stream",
     "text": [
      "13\n"
     ]
    }
   ],
   "source": [
    "from langchain.document_loaders import PyPDFLoader\n",
    "\n",
    "filename='EMPLOYEE_AGREEMENT.pdf'\n",
    "\n",
    "loaded= PyPDFLoader(filename)\n",
    "pages=loaded.load()\n",
    "print(len(pages))"
   ]
  },
  {
   "cell_type": "markdown",
   "id": "2625c8c9",
   "metadata": {},
   "source": [
    "# split into chunks"
   ]
  },
  {
   "cell_type": "code",
   "execution_count": 3,
   "id": "cc18136d",
   "metadata": {},
   "outputs": [],
   "source": [
    "from langchain.text_splitter import RecursiveCharacterTextSplitter\n",
    "\n",
    "text_spliter = RecursiveCharacterTextSplitter(chunk_size = 300, chunk_overlap = 30)\n",
    "chunks = text_spliter.split_documents(pages)"
   ]
  },
  {
   "cell_type": "code",
   "execution_count": 5,
   "id": "85da9c48",
   "metadata": {},
   "outputs": [
    {
     "data": {
      "text/plain": [
       "Document(metadata={'source': 'EMPLOYEE_AGREEMENT.pdf', 'page': 0}, page_content='EX-10.1 3 smtp_ex10z1.htm EMPLOYEE AGREEMENT\\nEXHIBIT 10.1\\nEMPLOYEE AGREEMENT\\nTHIS EMPLOYEE AGREEMENT made as of September___, 2014, by and between SharpSpring,\\nInc., a Delaware corporation (the “Company”), whose principal place of business is at 802 NW 5th Avenue,')"
      ]
     },
     "execution_count": 5,
     "metadata": {},
     "output_type": "execute_result"
    }
   ],
   "source": [
    "chunks[0]"
   ]
  },
  {
   "cell_type": "code",
   "execution_count": 6,
   "id": "d51d3c2b",
   "metadata": {},
   "outputs": [
    {
     "data": {
      "text/plain": [
       "133"
      ]
     },
     "execution_count": 6,
     "metadata": {},
     "output_type": "execute_result"
    }
   ],
   "source": [
    "len(chunks)"
   ]
  },
  {
   "cell_type": "markdown",
   "id": "3fd6e482",
   "metadata": {},
   "source": [
    "# create embeddding"
   ]
  },
  {
   "cell_type": "code",
   "execution_count": 8,
   "id": "28d0957e",
   "metadata": {},
   "outputs": [
    {
     "name": "stderr",
     "output_type": "stream",
     "text": [
      "C:\\Users\\KABIR\\AppData\\Local\\Temp\\ipykernel_21720\\1239584916.py:2: LangChainDeprecationWarning: The class `CohereEmbeddings` was deprecated in LangChain 0.0.30 and will be removed in 1.0. An updated version of the class exists in the :class:`~langchain-cohere package and should be used instead. To use it run `pip install -U :class:`~langchain-cohere` and import as `from :class:`~langchain_cohere import CohereEmbeddings``.\n",
      "  embeddings = CohereEmbeddings(user_agent=\"langchain\")\n"
     ]
    }
   ],
   "source": [
    "from langchain.embeddings import CohereEmbeddings\n",
    "embeddings = CohereEmbeddings(user_agent=\"langchain\")"
   ]
  },
  {
   "cell_type": "markdown",
   "id": "460dbd51",
   "metadata": {},
   "source": [
    "# vectore store"
   ]
  },
  {
   "cell_type": "code",
   "execution_count": 11,
   "id": "b2e5f4c4",
   "metadata": {},
   "outputs": [],
   "source": [
    "from langchain.vectorstores import FAISS"
   ]
  },
  {
   "cell_type": "code",
   "execution_count": 12,
   "id": "0c1f023b",
   "metadata": {},
   "outputs": [],
   "source": [
    "vectorstore = FAISS.from_documents(chunks, embeddings)"
   ]
  },
  {
   "cell_type": "code",
   "execution_count": 15,
   "id": "48dc6dc4",
   "metadata": {},
   "outputs": [],
   "source": [
    "retriever = vectorstore.as_retriever()"
   ]
  },
  {
   "cell_type": "code",
   "execution_count": 16,
   "id": "830f5809",
   "metadata": {},
   "outputs": [
    {
     "data": {
      "text/plain": [
       "VectorStoreRetriever(tags=['FAISS', 'CohereEmbeddings'], vectorstore=<langchain_community.vectorstores.faiss.FAISS object at 0x000001C19B525610>, search_kwargs={})"
      ]
     },
     "execution_count": 16,
     "metadata": {},
     "output_type": "execute_result"
    }
   ],
   "source": [
    "retriever"
   ]
  },
  {
   "cell_type": "code",
   "execution_count": 17,
   "id": "1e657186",
   "metadata": {},
   "outputs": [
    {
     "name": "stderr",
     "output_type": "stream",
     "text": [
      "C:\\Users\\KABIR\\AppData\\Local\\Temp\\ipykernel_21720\\3254707316.py:2: LangChainDeprecationWarning: The method `BaseRetriever.get_relevant_documents` was deprecated in langchain-core 0.1.46 and will be removed in 1.0. Use :meth:`~invoke` instead.\n",
      "  response = retriver.get_relevant_documents(query)\n"
     ]
    },
    {
     "name": "stdout",
     "output_type": "stream",
     "text": [
      "agreed upon by Employee.\n"
     ]
    }
   ],
   "source": [
    "query = \"What are the key clauses in the employee agreement?\"\n",
    "response = retriver.get_relevant_documents(query)\n",
    "print(response[0].page_content)"
   ]
  },
  {
   "cell_type": "code",
   "execution_count": 19,
   "id": "3e63d8d9",
   "metadata": {},
   "outputs": [
    {
     "name": "stdout",
     "output_type": "stream",
     "text": [
      "terminated by either party at any time in accordance with the provisions of Article 7.\n",
      "ARTICLE 2\n",
      "Duties\n",
      "2.1. Position and Duties. The Company agrees to employ Employee to act as its President. Employee\n"
     ]
    }
   ],
   "source": [
    "query = \"who is PM\"\n",
    "response = retriver.get_relevant_documents(query)\n",
    "print(response[0].page_content)"
   ]
  },
  {
   "cell_type": "code",
   "execution_count": 20,
   "id": "cab8f7ff",
   "metadata": {},
   "outputs": [],
   "source": [
    "from langchain.chains import ConversationalRetrievalChain"
   ]
  },
  {
   "cell_type": "code",
   "execution_count": 21,
   "id": "c11e999b",
   "metadata": {},
   "outputs": [],
   "source": [
    "from langchain.memory import ConversationBufferMemory"
   ]
  },
  {
   "cell_type": "code",
   "execution_count": 29,
   "id": "915c7dbb",
   "metadata": {},
   "outputs": [],
   "source": [
    "conversational_chain = ConversationalRetrievalChain.from_llm(\n",
    "    llm=llm,\n",
    "    retriever=vectorstore.as_retriever(),\n",
    "    memory= ConversationBufferMemory(memory_key='chat_history', return_messages=True)\n",
    ")"
   ]
  },
  {
   "cell_type": "code",
   "execution_count": 30,
   "id": "ed20c4d9",
   "metadata": {},
   "outputs": [],
   "source": [
    "res = conversational_chain({'question':\"What are the key clauses in the employee agreement?\"})"
   ]
  },
  {
   "cell_type": "code",
   "execution_count": 33,
   "id": "64f0fbbd",
   "metadata": {},
   "outputs": [
    {
     "data": {
      "text/plain": [
       "{'question': 'What are the key clauses in the employee agreement?',\n",
       " 'chat_history': [HumanMessage(content='What are the key clauses in the employee agreement?', additional_kwargs={}, response_metadata={}),\n",
       "  AIMessage(content=\" The key clauses in this employee agreement are the terms and conditions detailing the employee's role, the agreed-upon payments for their work, the length of their employment, and the date employment is to begin. These are all standard clauses in an employment contract designed to protect the interests of both the employer and employee. \", additional_kwargs={}, response_metadata={})],\n",
       " 'answer': \" The key clauses in this employee agreement are the terms and conditions detailing the employee's role, the agreed-upon payments for their work, the length of their employment, and the date employment is to begin. These are all standard clauses in an employment contract designed to protect the interests of both the employer and employee. \"}"
      ]
     },
     "execution_count": 33,
     "metadata": {},
     "output_type": "execute_result"
    }
   ],
   "source": [
    "res"
   ]
  },
  {
   "cell_type": "code",
   "execution_count": 36,
   "id": "d9568eb5",
   "metadata": {},
   "outputs": [],
   "source": [
    "m = res.get('chat_history', [])"
   ]
  },
  {
   "cell_type": "code",
   "execution_count": 38,
   "id": "67a06f4f",
   "metadata": {},
   "outputs": [
    {
     "data": {
      "text/plain": [
       "[HumanMessage(content='What are the key clauses in the employee agreement?', additional_kwargs={}, response_metadata={}),\n",
       " AIMessage(content=\" The key clauses in this employee agreement are the terms and conditions detailing the employee's role, the agreed-upon payments for their work, the length of their employment, and the date employment is to begin. These are all standard clauses in an employment contract designed to protect the interests of both the employer and employee. \", additional_kwargs={}, response_metadata={})]"
      ]
     },
     "execution_count": 38,
     "metadata": {},
     "output_type": "execute_result"
    }
   ],
   "source": [
    "m"
   ]
  },
  {
   "cell_type": "code",
   "execution_count": 41,
   "id": "a330d825",
   "metadata": {},
   "outputs": [
    {
     "name": "stdout",
     "output_type": "stream",
     "text": [
      "What are the key clauses in the employee agreement?\n",
      " The key clauses in this employee agreement are the terms and conditions detailing the employee's role, the agreed-upon payments for their work, the length of their employment, and the date employment is to begin. These are all standard clauses in an employment contract designed to protect the interests of both the employer and employee. \n"
     ]
    }
   ],
   "source": [
    "for i, message in enumerate(m):\n",
    "    print(message.content)"
   ]
  },
  {
   "cell_type": "code",
   "execution_count": 42,
   "id": "576f043d",
   "metadata": {},
   "outputs": [
    {
     "data": {
      "text/plain": [
       "'What are the key clauses in the employee agreement?'"
      ]
     },
     "execution_count": 42,
     "metadata": {},
     "output_type": "execute_result"
    }
   ],
   "source": [
    "m[0].content"
   ]
  },
  {
   "cell_type": "code",
   "execution_count": 44,
   "id": "f4822895",
   "metadata": {},
   "outputs": [
    {
     "name": "stderr",
     "output_type": "stream",
     "text": [
      "C:\\Users\\KABIR\\AppData\\Local\\Temp\\ipykernel_21720\\1738161444.py:14: LangChainDeprecationWarning: The method `Chain.run` was deprecated in langchain 0.1.0 and will be removed in 1.0. Use :meth:`~invoke` instead.\n",
      "  response = qa_chain.run(query)\n"
     ]
    },
    {
     "name": "stdout",
     "output_type": "stream",
     "text": [
      "Answer:  The key clauses in this employee agreement are the terms and conditions under which the employee will be employed. These include the agreed-upon wages and the length of employment. It also includes the context of their relationship, describing the employer and employee relationship. \n"
     ]
    }
   ],
   "source": [
    "from langchain.chains import RetrievalQA\n",
    "\n",
    "\n",
    "\n",
    "\n",
    "# Create retriever\n",
    "retriever = vectorstore.as_retriever(search_kwargs={\"k\": 3})\n",
    "\n",
    "# Create Retrieval Chain\n",
    "qa_chain = RetrievalQA.from_chain_type(llm=llm, chain_type=\"stuff\", retriever=retriever)\n",
    "\n",
    "# Ask a question\n",
    "query = \"What are the key clauses in the employee agreement?\"\n",
    "response = qa_chain.run(query)\n",
    "\n",
    "print(\"Answer:\", response)"
   ]
  },
  {
   "cell_type": "code",
   "execution_count": 45,
   "id": "e0bdb471",
   "metadata": {},
   "outputs": [],
   "source": [
    "res = qa_chain.run(\"What is machine Learning\")"
   ]
  },
  {
   "cell_type": "code",
   "execution_count": 46,
   "id": "6b01636b",
   "metadata": {},
   "outputs": [
    {
     "name": "stdout",
     "output_type": "stream",
     "text": [
      " Machine learning (ML) is a subset of artificial intelligence (AI) and refers to the ability of certain computer systems to learn and improve from experience automatically without being explicitly programmed. It focuses on developing algorithms and models that can absorb data, identify patterns and make decisions or predictions based on that data. \n",
      "\n",
      "ML can be applied to various fields, including marketing automation, customer relationship management, sales automation, and email delivery to enhance and optimize these processes. For instance, ML can be used to analyze customer behavior, predict future behaviors and trends accurately, and personalize marketing strategies. \n",
      "\n",
      "Is there anything specific you would like to know about Machine Learning, or would you like me to provide more general information on the topic.?\n",
      "\n"
     ]
    }
   ],
   "source": [
    "print(res)"
   ]
  },
  {
   "cell_type": "code",
   "execution_count": 47,
   "id": "74febe1a",
   "metadata": {},
   "outputs": [],
   "source": [
    "res = conversational_chain({'question':\"What is machine learning?\"})"
   ]
  },
  {
   "cell_type": "code",
   "execution_count": 48,
   "id": "93f14fb2",
   "metadata": {},
   "outputs": [
    {
     "data": {
      "text/plain": [
       "{'question': 'What is machine learning?',\n",
       " 'chat_history': [HumanMessage(content='What are the key clauses in the employee agreement?', additional_kwargs={}, response_metadata={}),\n",
       "  AIMessage(content=\" The key clauses in this employee agreement are the terms and conditions detailing the employee's role, the agreed-upon payments for their work, the length of their employment, and the date employment is to begin. These are all standard clauses in an employment contract designed to protect the interests of both the employer and employee. \", additional_kwargs={}, response_metadata={}),\n",
       "  HumanMessage(content='What is machine learning?', additional_kwargs={}, response_metadata={}),\n",
       "  AIMessage(content=\" I don't have access to any specific information about the context you mentioned, and this is not a topic I am trained on. That said, generally speaking, machine learning (ML) is a branch of computer science that focuses on the use of data and algorithms to imitate the way that humans learn, gradually improving its accuracy. \\n\\nML is applied to a vast number of industries and sectors today. Some examples of its applications include: \\n\\n1. Improved web search results: The purpose of search engine pages is to scour the internet for the most relevant and important results related to the user's search. This is achieved through algorithms using ML to scan the user's history, interactions, and preferences and provide the most accurate search results. \\n\\n2. Social media content delivery: Based on your engagement with certain content types on social media platforms, the algorithms employed by these platforms use machine learning to determine what type of content you might engage with and prioritize showing you content that aligns with these preferences. \\n\\n3. Sentiment Analysis: This is the process of using machine learning to understand audience sentiment towards a brand, product, or service based on their feedback and experiences. This helps businesses to understand areas of improvement, develop customer relationships, and tailor their brand image and marketing strategies.\", additional_kwargs={}, response_metadata={})],\n",
       " 'answer': \" I don't have access to any specific information about the context you mentioned, and this is not a topic I am trained on. That said, generally speaking, machine learning (ML) is a branch of computer science that focuses on the use of data and algorithms to imitate the way that humans learn, gradually improving its accuracy. \\n\\nML is applied to a vast number of industries and sectors today. Some examples of its applications include: \\n\\n1. Improved web search results: The purpose of search engine pages is to scour the internet for the most relevant and important results related to the user's search. This is achieved through algorithms using ML to scan the user's history, interactions, and preferences and provide the most accurate search results. \\n\\n2. Social media content delivery: Based on your engagement with certain content types on social media platforms, the algorithms employed by these platforms use machine learning to determine what type of content you might engage with and prioritize showing you content that aligns with these preferences. \\n\\n3. Sentiment Analysis: This is the process of using machine learning to understand audience sentiment towards a brand, product, or service based on their feedback and experiences. This helps businesses to understand areas of improvement, develop customer relationships, and tailor their brand image and marketing strategies.\"}"
      ]
     },
     "execution_count": 48,
     "metadata": {},
     "output_type": "execute_result"
    }
   ],
   "source": [
    "res"
   ]
  },
  {
   "cell_type": "code",
   "execution_count": 51,
   "id": "5a8078fe",
   "metadata": {},
   "outputs": [
    {
     "name": "stdout",
     "output_type": "stream",
     "text": [
      "Retrieved Docs: ['West Palm Beach, Florida 33401', 'ARTICLE 3\\nPlace of Employment\\n3.1. Place of Employment.   Employee shall perform his duties under this Employee Agreement at\\n802 NW 5th Avenue, Suite 100, Gainesville FL 32601.\\nARTICLE 4\\nCompensation of Employee', 'world based upon the fact that Company and /or the Affiliates currently offer their services in approximately\\n130 countries and Company and /or the Affiliates plan to launch products and']\n"
     ]
    }
   ],
   "source": [
    "query = \"Where is America?\"\n",
    "retrieved_docs = retriever.get_relevant_documents(query)\n",
    "print(\"Retrieved Docs:\", [doc.page_content for doc in retrieved_docs])"
   ]
  },
  {
   "cell_type": "code",
   "execution_count": 52,
   "id": "509e7700",
   "metadata": {},
   "outputs": [],
   "source": [
    "res = qa_chain.run(query)"
   ]
  },
  {
   "cell_type": "code",
   "execution_count": 53,
   "id": "eb306449",
   "metadata": {},
   "outputs": [
    {
     "data": {
      "text/plain": [
       "\" America is a large continent that is also referred to as the United States of America, which is a country in the continent's northern hemisphere. The geographic coordinates of the continental unity of the Northern American continent are between the Arctic and the Atlantic oceans, the Caribbean Sea and the Pacific Ocean. \\n\\nThe capital of the country is Washington DC, where the central government is located. However, the most famous city in the country is New York, which is located in the state of New York, on the northeastern border of the country. Interestingly, the city of New York, also known as NYC, is the most densely populated city in the country, with over 26,000 people per square mile. \\n\\nThe employee agreement you provided originates from Florida, located on the southeastern coast, which borders the Atlantic Ocean and the Gulf of Mexico and is the longest coastline among all states. \""
      ]
     },
     "execution_count": 53,
     "metadata": {},
     "output_type": "execute_result"
    }
   ],
   "source": [
    "res"
   ]
  },
  {
   "cell_type": "code",
   "execution_count": 54,
   "id": "619d67b6",
   "metadata": {},
   "outputs": [],
   "source": [
    "res = conversational_chain({'question':query})"
   ]
  },
  {
   "cell_type": "code",
   "execution_count": 55,
   "id": "189c1c7b",
   "metadata": {},
   "outputs": [
    {
     "data": {
      "text/plain": [
       "{'question': 'Where is America?',\n",
       " 'chat_history': [HumanMessage(content='What are the key clauses in the employee agreement?', additional_kwargs={}, response_metadata={}),\n",
       "  AIMessage(content=\" The key clauses in this employee agreement are the terms and conditions detailing the employee's role, the agreed-upon payments for their work, the length of their employment, and the date employment is to begin. These are all standard clauses in an employment contract designed to protect the interests of both the employer and employee. \", additional_kwargs={}, response_metadata={}),\n",
       "  HumanMessage(content='What is machine learning?', additional_kwargs={}, response_metadata={}),\n",
       "  AIMessage(content=\" I don't have access to any specific information about the context you mentioned, and this is not a topic I am trained on. That said, generally speaking, machine learning (ML) is a branch of computer science that focuses on the use of data and algorithms to imitate the way that humans learn, gradually improving its accuracy. \\n\\nML is applied to a vast number of industries and sectors today. Some examples of its applications include: \\n\\n1. Improved web search results: The purpose of search engine pages is to scour the internet for the most relevant and important results related to the user's search. This is achieved through algorithms using ML to scan the user's history, interactions, and preferences and provide the most accurate search results. \\n\\n2. Social media content delivery: Based on your engagement with certain content types on social media platforms, the algorithms employed by these platforms use machine learning to determine what type of content you might engage with and prioritize showing you content that aligns with these preferences. \\n\\n3. Sentiment Analysis: This is the process of using machine learning to understand audience sentiment towards a brand, product, or service based on their feedback and experiences. This helps businesses to understand areas of improvement, develop customer relationships, and tailor their brand image and marketing strategies.\", additional_kwargs={}, response_metadata={}),\n",
       "  HumanMessage(content='Where is America?', additional_kwargs={}, response_metadata={}),\n",
       "  AIMessage(content=\" The context provided does not specify if their services are for the continent of America, or the country America. I can not provide an answer to this question due to the lack of information. Can I help you with other tasks? \\n\\nLet me know if you have any other questions or concerns and I'll be happy to help! \", additional_kwargs={}, response_metadata={})],\n",
       " 'answer': \" The context provided does not specify if their services are for the continent of America, or the country America. I can not provide an answer to this question due to the lack of information. Can I help you with other tasks? \\n\\nLet me know if you have any other questions or concerns and I'll be happy to help! \"}"
      ]
     },
     "execution_count": 55,
     "metadata": {},
     "output_type": "execute_result"
    }
   ],
   "source": [
    "res"
   ]
  },
  {
   "cell_type": "code",
   "execution_count": null,
   "id": "db4c3581",
   "metadata": {},
   "outputs": [],
   "source": []
  }
 ],
 "metadata": {
  "kernelspec": {
   "display_name": "Python 3 (ipykernel)",
   "language": "python",
   "name": "python3"
  },
  "language_info": {
   "codemirror_mode": {
    "name": "ipython",
    "version": 3
   },
   "file_extension": ".py",
   "mimetype": "text/x-python",
   "name": "python",
   "nbconvert_exporter": "python",
   "pygments_lexer": "ipython3",
   "version": "3.11.5"
  }
 },
 "nbformat": 4,
 "nbformat_minor": 5
}
