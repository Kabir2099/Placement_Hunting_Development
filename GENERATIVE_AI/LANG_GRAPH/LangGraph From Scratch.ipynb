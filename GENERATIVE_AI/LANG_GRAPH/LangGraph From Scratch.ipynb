{
 "cells": [
  {
   "cell_type": "code",
   "execution_count": 1,
   "id": "9a43cb99",
   "metadata": {},
   "outputs": [
    {
     "name": "stdout",
     "output_type": "stream",
     "text": [
      "Collecting langgraph\n",
      "  Obtaining dependency information for langgraph from https://files.pythonhosted.org/packages/6c/b5/c74644217180ca7d275179b0e0602cd433dc9d4cd40b304a6c0e62d4eb7b/langgraph-0.3.21-py3-none-any.whl.metadata\n",
      "  Downloading langgraph-0.3.21-py3-none-any.whl.metadata (7.7 kB)\n",
      "Requirement already satisfied: langchain-core<0.4,>=0.1 in c:\\users\\kabir\\anaconda3\\lib\\site-packages (from langgraph) (0.3.28)\n",
      "Collecting langgraph-checkpoint<3.0.0,>=2.0.10 (from langgraph)\n",
      "  Obtaining dependency information for langgraph-checkpoint<3.0.0,>=2.0.10 from https://files.pythonhosted.org/packages/ec/8d/e23bc15809c4a29e83efab34e7ff1ffb6dadac26b87aca98242ac6033934/langgraph_checkpoint-2.0.23-py3-none-any.whl.metadata\n",
      "  Downloading langgraph_checkpoint-2.0.23-py3-none-any.whl.metadata (4.6 kB)\n",
      "Collecting langgraph-prebuilt<0.2,>=0.1.1 (from langgraph)\n",
      "  Obtaining dependency information for langgraph-prebuilt<0.2,>=0.1.1 from https://files.pythonhosted.org/packages/52/c2/e88798e0c698ae92f30b41966a781e1b28fa48ae4825462062722d1942bb/langgraph_prebuilt-0.1.7-py3-none-any.whl.metadata\n",
      "  Downloading langgraph_prebuilt-0.1.7-py3-none-any.whl.metadata (5.0 kB)\n",
      "Collecting langgraph-sdk<0.2.0,>=0.1.42 (from langgraph)\n",
      "  Obtaining dependency information for langgraph-sdk<0.2.0,>=0.1.42 from https://files.pythonhosted.org/packages/79/95/70f58cdf34a0f46131424ff16f1e3f52e196cbfc0802048475a7640f093e/langgraph_sdk-0.1.60-py3-none-any.whl.metadata\n",
      "  Downloading langgraph_sdk-0.1.60-py3-none-any.whl.metadata (1.8 kB)\n",
      "Collecting xxhash<4.0.0,>=3.5.0 (from langgraph)\n",
      "  Obtaining dependency information for xxhash<4.0.0,>=3.5.0 from https://files.pythonhosted.org/packages/52/1c/fa3b61c0cf03e1da4767213672efe186b1dfa4fc901a4a694fb184a513d1/xxhash-3.5.0-cp311-cp311-win_amd64.whl.metadata\n",
      "  Downloading xxhash-3.5.0-cp311-cp311-win_amd64.whl.metadata (13 kB)\n",
      "Requirement already satisfied: PyYAML>=5.3 in c:\\users\\kabir\\anaconda3\\lib\\site-packages (from langchain-core<0.4,>=0.1->langgraph) (6.0)\n",
      "Requirement already satisfied: jsonpatch<2.0,>=1.33 in c:\\users\\kabir\\anaconda3\\lib\\site-packages (from langchain-core<0.4,>=0.1->langgraph) (1.33)\n",
      "Requirement already satisfied: langsmith<0.3,>=0.1.125 in c:\\users\\kabir\\anaconda3\\lib\\site-packages (from langchain-core<0.4,>=0.1->langgraph) (0.2.3)\n",
      "Requirement already satisfied: packaging<25,>=23.2 in c:\\users\\kabir\\anaconda3\\lib\\site-packages (from langchain-core<0.4,>=0.1->langgraph) (24.2)\n",
      "Requirement already satisfied: pydantic<3.0.0,>=2.5.2 in c:\\users\\kabir\\anaconda3\\lib\\site-packages (from langchain-core<0.4,>=0.1->langgraph) (2.10.3)\n",
      "Requirement already satisfied: tenacity!=8.4.0,<10.0.0,>=8.1.0 in c:\\users\\kabir\\anaconda3\\lib\\site-packages (from langchain-core<0.4,>=0.1->langgraph) (9.0.0)\n",
      "Requirement already satisfied: typing-extensions>=4.7 in c:\\users\\kabir\\anaconda3\\lib\\site-packages (from langchain-core<0.4,>=0.1->langgraph) (4.12.2)\n",
      "Collecting ormsgpack<2.0.0,>=1.8.0 (from langgraph-checkpoint<3.0.0,>=2.0.10->langgraph)\n",
      "  Obtaining dependency information for ormsgpack<2.0.0,>=1.8.0 from https://files.pythonhosted.org/packages/bc/6b/60c6f4787e3e93f5eb34fccb163753a8771465983a579e3405152f2422fd/ormsgpack-1.9.1-cp311-cp311-win_amd64.whl.metadata\n",
      "  Downloading ormsgpack-1.9.1-cp311-cp311-win_amd64.whl.metadata (44 kB)\n",
      "     ---------------------------------------- 0.0/44.4 kB ? eta -:--:--\n",
      "     ------------------------------------ --- 41.0/44.4 kB ? eta -:--:--\n",
      "     ------------------------------------ --- 41.0/44.4 kB ? eta -:--:--\n",
      "     -------------------------------------- 44.4/44.4 kB 437.4 kB/s eta 0:00:00\n",
      "Requirement already satisfied: httpx>=0.25.2 in c:\\users\\kabir\\anaconda3\\lib\\site-packages (from langgraph-sdk<0.2.0,>=0.1.42->langgraph) (0.28.1)\n",
      "Requirement already satisfied: orjson>=3.10.1 in c:\\users\\kabir\\anaconda3\\lib\\site-packages (from langgraph-sdk<0.2.0,>=0.1.42->langgraph) (3.10.12)\n",
      "Requirement already satisfied: anyio in c:\\users\\kabir\\anaconda3\\lib\\site-packages (from httpx>=0.25.2->langgraph-sdk<0.2.0,>=0.1.42->langgraph) (3.5.0)\n",
      "Requirement already satisfied: certifi in c:\\users\\kabir\\anaconda3\\lib\\site-packages (from httpx>=0.25.2->langgraph-sdk<0.2.0,>=0.1.42->langgraph) (2023.7.22)\n",
      "Requirement already satisfied: httpcore==1.* in c:\\users\\kabir\\anaconda3\\lib\\site-packages (from httpx>=0.25.2->langgraph-sdk<0.2.0,>=0.1.42->langgraph) (1.0.7)\n",
      "Requirement already satisfied: idna in c:\\users\\kabir\\anaconda3\\lib\\site-packages (from httpx>=0.25.2->langgraph-sdk<0.2.0,>=0.1.42->langgraph) (3.4)\n",
      "Requirement already satisfied: h11<0.15,>=0.13 in c:\\users\\kabir\\anaconda3\\lib\\site-packages (from httpcore==1.*->httpx>=0.25.2->langgraph-sdk<0.2.0,>=0.1.42->langgraph) (0.14.0)\n",
      "Requirement already satisfied: jsonpointer>=1.9 in c:\\users\\kabir\\anaconda3\\lib\\site-packages (from jsonpatch<2.0,>=1.33->langchain-core<0.4,>=0.1->langgraph) (2.1)\n",
      "Requirement already satisfied: requests<3,>=2 in c:\\users\\kabir\\anaconda3\\lib\\site-packages (from langsmith<0.3,>=0.1.125->langchain-core<0.4,>=0.1->langgraph) (2.32.3)\n",
      "Requirement already satisfied: requests-toolbelt<2.0.0,>=1.0.0 in c:\\users\\kabir\\anaconda3\\lib\\site-packages (from langsmith<0.3,>=0.1.125->langchain-core<0.4,>=0.1->langgraph) (1.0.0)\n",
      "Requirement already satisfied: annotated-types>=0.6.0 in c:\\users\\kabir\\anaconda3\\lib\\site-packages (from pydantic<3.0.0,>=2.5.2->langchain-core<0.4,>=0.1->langgraph) (0.6.0)\n",
      "Requirement already satisfied: pydantic-core==2.27.1 in c:\\users\\kabir\\anaconda3\\lib\\site-packages (from pydantic<3.0.0,>=2.5.2->langchain-core<0.4,>=0.1->langgraph) (2.27.1)\n",
      "Requirement already satisfied: charset-normalizer<4,>=2 in c:\\users\\kabir\\anaconda3\\lib\\site-packages (from requests<3,>=2->langsmith<0.3,>=0.1.125->langchain-core<0.4,>=0.1->langgraph) (2.0.4)\n",
      "Requirement already satisfied: urllib3<3,>=1.21.1 in c:\\users\\kabir\\anaconda3\\lib\\site-packages (from requests<3,>=2->langsmith<0.3,>=0.1.125->langchain-core<0.4,>=0.1->langgraph) (2.2.3)\n",
      "Requirement already satisfied: sniffio>=1.1 in c:\\users\\kabir\\anaconda3\\lib\\site-packages (from anyio->httpx>=0.25.2->langgraph-sdk<0.2.0,>=0.1.42->langgraph) (1.2.0)\n",
      "Downloading langgraph-0.3.21-py3-none-any.whl (138 kB)\n",
      "   ---------------------------------------- 0.0/138.0 kB ? eta -:--:--\n",
      "   -------------------------------------- - 133.1/138.0 kB ? eta -:--:--\n",
      "   ---------------------------------------- 138.0/138.0 kB 1.6 MB/s eta 0:00:00\n",
      "Downloading langgraph_checkpoint-2.0.23-py3-none-any.whl (41 kB)\n",
      "   ---------------------------------------- 0.0/41.9 kB ? eta -:--:--\n",
      "   ---------------------------------------  41.0/41.9 kB ? eta -:--:--\n",
      "   ---------------------------------------  41.0/41.9 kB ? eta -:--:--\n",
      "   ---------------------------------------- 41.9/41.9 kB 253.6 kB/s eta 0:00:00\n",
      "Downloading langgraph_prebuilt-0.1.7-py3-none-any.whl (25 kB)\n",
      "Downloading langgraph_sdk-0.1.60-py3-none-any.whl (47 kB)\n",
      "   ---------------------------------------- 0.0/47.1 kB ? eta -:--:--\n",
      "   ---------------------------------- ----- 41.0/47.1 kB ? eta -:--:--\n",
      "   ---------------------------------------- 47.1/47.1 kB 585.0 kB/s eta 0:00:00\n",
      "Downloading xxhash-3.5.0-cp311-cp311-win_amd64.whl (30 kB)\n",
      "Downloading ormsgpack-1.9.1-cp311-cp311-win_amd64.whl (125 kB)\n",
      "   ---------------------------------------- 0.0/125.1 kB ? eta -:--:--\n",
      "   ---------------------------------------  122.9/125.1 kB ? eta -:--:--\n",
      "   ---------------------------------------- 125.1/125.1 kB 1.8 MB/s eta 0:00:00\n",
      "Installing collected packages: xxhash, ormsgpack, langgraph-sdk, langgraph-checkpoint, langgraph-prebuilt, langgraph\n",
      "  Attempting uninstall: xxhash\n",
      "    Found existing installation: xxhash 2.0.2\n",
      "    Uninstalling xxhash-2.0.2:\n",
      "      Successfully uninstalled xxhash-2.0.2\n",
      "Successfully installed langgraph-0.3.21 langgraph-checkpoint-2.0.23 langgraph-prebuilt-0.1.7 langgraph-sdk-0.1.60 ormsgpack-1.9.1 xxhash-3.5.0\n"
     ]
    }
   ],
   "source": [
    "!pip install langgraph"
   ]
  },
  {
   "cell_type": "code",
   "execution_count": 123,
   "id": "8f79b24e",
   "metadata": {},
   "outputs": [],
   "source": [
    "import os\n",
    "os.environ[\"GOOGLE_API_KEY\"] = 'Gemini Api Key'\n",
    "from langchain_google_genai import ChatGoogleGenerativeAI\n",
    "llm = ChatGoogleGenerativeAI(model='gemini-1.5-pro')"
   ]
  },
  {
   "cell_type": "markdown",
   "id": "9acd891e",
   "metadata": {},
   "source": [
    "# Simple workflow of Langraph"
   ]
  },
  {
   "cell_type": "code",
   "execution_count": 3,
   "id": "efe237e3",
   "metadata": {},
   "outputs": [],
   "source": [
    "def fun1(input1):\n",
    "    return input1 +\" From function 1 \"\n",
    "\n",
    "def fun2(input2):\n",
    "    return input2 + \" from function2\""
   ]
  },
  {
   "cell_type": "code",
   "execution_count": 30,
   "id": "98dfe04b",
   "metadata": {},
   "outputs": [],
   "source": [
    "from langgraph.graph import Graph"
   ]
  },
  {
   "cell_type": "code",
   "execution_count": 6,
   "id": "ee86ad09",
   "metadata": {},
   "outputs": [],
   "source": [
    "workflow = Graph()"
   ]
  },
  {
   "cell_type": "markdown",
   "id": "a553f984",
   "metadata": {},
   "source": [
    "# Creating Node"
   ]
  },
  {
   "cell_type": "code",
   "execution_count": 7,
   "id": "f9c2b863",
   "metadata": {},
   "outputs": [
    {
     "data": {
      "text/plain": [
       "<langgraph.graph.graph.Graph at 0x2349184c050>"
      ]
     },
     "execution_count": 7,
     "metadata": {},
     "output_type": "execute_result"
    }
   ],
   "source": [
    "workflow.add_node(\"fun1\", fun1)\n",
    "workflow.add_node(\"fun2\", fun2)"
   ]
  },
  {
   "cell_type": "markdown",
   "id": "12a4ab0f",
   "metadata": {},
   "source": [
    "# Add Edges"
   ]
  },
  {
   "cell_type": "code",
   "execution_count": 8,
   "id": "03a1f930",
   "metadata": {},
   "outputs": [
    {
     "data": {
      "text/plain": [
       "<langgraph.graph.graph.Graph at 0x2349184c050>"
      ]
     },
     "execution_count": 8,
     "metadata": {},
     "output_type": "execute_result"
    }
   ],
   "source": [
    "workflow.add_edge('fun1', 'fun2')"
   ]
  },
  {
   "cell_type": "markdown",
   "id": "88810098",
   "metadata": {},
   "source": [
    "# entry and exit point"
   ]
  },
  {
   "cell_type": "code",
   "execution_count": 9,
   "id": "1110b364",
   "metadata": {},
   "outputs": [
    {
     "data": {
      "text/plain": [
       "<langgraph.graph.graph.Graph at 0x2349184c050>"
      ]
     },
     "execution_count": 9,
     "metadata": {},
     "output_type": "execute_result"
    }
   ],
   "source": [
    "workflow.set_entry_point('fun1')\n",
    "workflow.set_finish_point('fun2')"
   ]
  },
  {
   "cell_type": "markdown",
   "id": "34b80a32",
   "metadata": {},
   "source": [
    "# Compile the graph"
   ]
  },
  {
   "cell_type": "code",
   "execution_count": 10,
   "id": "7c8e18cd",
   "metadata": {},
   "outputs": [],
   "source": [
    "app1 = workflow.compile()"
   ]
  },
  {
   "cell_type": "code",
   "execution_count": 11,
   "id": "b4f2833e",
   "metadata": {},
   "outputs": [
    {
     "data": {
      "image/png": "[encoded data removed]",
      "text/plain": [
       "<langgraph.graph.graph.CompiledGraph object at 0x0000023493B32FD0>"
      ]
     },
     "execution_count": 11,
     "metadata": {},
     "output_type": "execute_result"
    }
   ],
   "source": [
    "app1"
   ]
  },
  {
   "cell_type": "code",
   "execution_count": 12,
   "id": "939e4ba9",
   "metadata": {},
   "outputs": [
    {
     "data": {
      "text/plain": [
       "'Hi I am kabir From function 1  from function2'"
      ]
     },
     "execution_count": 12,
     "metadata": {},
     "output_type": "execute_result"
    }
   ],
   "source": [
    "app1.invoke(\"Hi I am kabir\")"
   ]
  },
  {
   "cell_type": "code",
   "execution_count": 15,
   "id": "69865d5b",
   "metadata": {},
   "outputs": [
    {
     "name": "stdout",
     "output_type": "stream",
     "text": [
      "here is output from fun1\n",
      "_______\n",
      "Hi I am kabir From function 1 \n",
      "\n",
      "\n",
      "here is output from fun2\n",
      "_______\n",
      "Hi I am kabir From function 1  from function2\n",
      "\n",
      "\n"
     ]
    }
   ],
   "source": [
    "input = \"Hi I am kabir\"\n",
    "\n",
    "for output in app1.stream(input):\n",
    "    for key, value in output.items():\n",
    "        print(f\"here is output from {key}\")\n",
    "        print(\"_______\")\n",
    "        print(value)\n",
    "        print(\"\\n\")\n",
    "    "
   ]
  },
  {
   "cell_type": "markdown",
   "id": "edd6718b",
   "metadata": {},
   "source": [
    "# Now lets create workflow with llm "
   ]
  },
  {
   "cell_type": "code",
   "execution_count": 17,
   "id": "cdb289fd",
   "metadata": {},
   "outputs": [],
   "source": [
    "def function3(query):\n",
    "    res = llm.invoke(query).content\n",
    "    return res\n",
    "\n",
    "def function4(res):\n",
    "    print(\" --  hello --- \")\n",
    "    return res.upper()"
   ]
  },
  {
   "cell_type": "code",
   "execution_count": 18,
   "id": "08f497e3",
   "metadata": {},
   "outputs": [],
   "source": [
    "workflow_llm = Graph()"
   ]
  },
  {
   "cell_type": "code",
   "execution_count": 19,
   "id": "9a447e7a",
   "metadata": {},
   "outputs": [
    {
     "data": {
      "text/plain": [
       "<langgraph.graph.graph.Graph at 0x234949353d0>"
      ]
     },
     "execution_count": 19,
     "metadata": {},
     "output_type": "execute_result"
    }
   ],
   "source": [
    "workflow_llm.add_node('fun3', function3)\n",
    "workflow_llm.add_node('fun4', function4)\n",
    "workflow_llm.add_edge('fun3', 'fun4')"
   ]
  },
  {
   "cell_type": "code",
   "execution_count": 20,
   "id": "2bcd5cf4",
   "metadata": {},
   "outputs": [
    {
     "data": {
      "text/plain": [
       "<langgraph.graph.graph.Graph at 0x234949353d0>"
      ]
     },
     "execution_count": 20,
     "metadata": {},
     "output_type": "execute_result"
    }
   ],
   "source": [
    "workflow_llm.set_entry_point('fun3')"
   ]
  },
  {
   "cell_type": "code",
   "execution_count": 21,
   "id": "506fc54d",
   "metadata": {},
   "outputs": [
    {
     "data": {
      "text/plain": [
       "<langgraph.graph.graph.Graph at 0x234949353d0>"
      ]
     },
     "execution_count": 21,
     "metadata": {},
     "output_type": "execute_result"
    }
   ],
   "source": [
    "workflow_llm.set_finish_point('fun4')"
   ]
  },
  {
   "cell_type": "code",
   "execution_count": 22,
   "id": "03e29a98",
   "metadata": {},
   "outputs": [],
   "source": [
    "app_llm = workflow_llm.compile()"
   ]
  },
  {
   "cell_type": "code",
   "execution_count": 24,
   "id": "e34c29db",
   "metadata": {},
   "outputs": [
    {
     "data": {
      "image/png": "[encoded data removed]",
      "text/plain": [
       "<langgraph.graph.graph.CompiledGraph object at 0x00000234950F73D0>"
      ]
     },
     "execution_count": 24,
     "metadata": {},
     "output_type": "execute_result"
    }
   ],
   "source": [
    "app_llm"
   ]
  },
  {
   "cell_type": "code",
   "execution_count": 25,
   "id": "4656c53c",
   "metadata": {},
   "outputs": [
    {
     "name": "stdout",
     "output_type": "stream",
     "text": [
      " --  hello --- \n"
     ]
    },
    {
     "data": {
      "text/plain": [
       "'MACHINE LEARNING IS TEACHING COMPUTERS TO LEARN FROM DATA WITHOUT EXPLICIT PROGRAMMING.\\n'"
      ]
     },
     "execution_count": 25,
     "metadata": {},
     "output_type": "execute_result"
    }
   ],
   "source": [
    "app_llm.invoke(\"What is machine learning in one line\")"
   ]
  },
  {
   "cell_type": "markdown",
   "id": "3abbd8db",
   "metadata": {},
   "source": [
    "# Token count"
   ]
  },
  {
   "cell_type": "code",
   "execution_count": 26,
   "id": "3f865ee7",
   "metadata": {},
   "outputs": [],
   "source": [
    "def function5(res):\n",
    "    token = res.split()\n",
    "    token_number = len(token)\n",
    "    token_number = f\" token number = {token_number}\"\n",
    "    return token_number"
   ]
  },
  {
   "cell_type": "code",
   "execution_count": 27,
   "id": "5f20bc1e",
   "metadata": {},
   "outputs": [],
   "source": [
    "workflow_token = Graph()"
   ]
  },
  {
   "cell_type": "code",
   "execution_count": 28,
   "id": "94de7a86",
   "metadata": {},
   "outputs": [
    {
     "data": {
      "text/plain": [
       "<langgraph.graph.graph.Graph at 0x234974eabd0>"
      ]
     },
     "execution_count": 28,
     "metadata": {},
     "output_type": "execute_result"
    }
   ],
   "source": [
    "workflow_token.add_node('llm', function3)\n",
    "workflow_token.add_node('token_count', function5)"
   ]
  },
  {
   "cell_type": "code",
   "execution_count": 29,
   "id": "a952c297",
   "metadata": {},
   "outputs": [
    {
     "data": {
      "text/plain": [
       "<langgraph.graph.graph.Graph at 0x234974eabd0>"
      ]
     },
     "execution_count": 29,
     "metadata": {},
     "output_type": "execute_result"
    }
   ],
   "source": [
    "workflow_token.add_edge('llm', 'token_count')"
   ]
  },
  {
   "cell_type": "code",
   "execution_count": 30,
   "id": "6d4777de",
   "metadata": {},
   "outputs": [
    {
     "data": {
      "text/plain": [
       "<langgraph.graph.graph.Graph at 0x234974eabd0>"
      ]
     },
     "execution_count": 30,
     "metadata": {},
     "output_type": "execute_result"
    }
   ],
   "source": [
    "workflow_token.set_entry_point('llm')\n",
    "workflow_token.set_finish_point('token_count')"
   ]
  },
  {
   "cell_type": "code",
   "execution_count": 31,
   "id": "a9c76c10",
   "metadata": {},
   "outputs": [],
   "source": [
    "token_app = workflow_token.compile()"
   ]
  },
  {
   "cell_type": "code",
   "execution_count": 32,
   "id": "8431eedd",
   "metadata": {},
   "outputs": [
    {
     "data": {
      "image/png": "[encoded data removed]",
      "text/plain": [
       "<langgraph.graph.graph.CompiledGraph object at 0x0000023497B31150>"
      ]
     },
     "execution_count": 32,
     "metadata": {},
     "output_type": "execute_result"
    }
   ],
   "source": [
    "token_app"
   ]
  },
  {
   "cell_type": "code",
   "execution_count": 33,
   "id": "61c8503f",
   "metadata": {},
   "outputs": [
    {
     "data": {
      "text/plain": [
       "' token number = 381'"
      ]
     },
     "execution_count": 33,
     "metadata": {},
     "output_type": "execute_result"
    }
   ],
   "source": [
    "token_app.invoke(\"what is machine learning\")"
   ]
  },
  {
   "cell_type": "code",
   "execution_count": 34,
   "id": "2c0a323a",
   "metadata": {},
   "outputs": [],
   "source": [
    "from langchain_community.tools.tavily_search import TavilySearchResults"
   ]
  },
  {
   "cell_type": "code",
   "execution_count": 38,
   "id": "cda908c4",
   "metadata": {},
   "outputs": [],
   "source": [
    "os.environ['TAVILY_API_KEY'] = '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'"
   ]
  },
  {
   "cell_type": "code",
   "execution_count": 39,
   "id": "9a612430",
   "metadata": {},
   "outputs": [
    {
     "data": {
      "text/plain": [
       "[{'url': 'https://langchain-ai.github.io/langgraph/concepts/low_level/',\n",
       "  'content': 'In LangGraph, nodes are typically python functions (sync or async) where the first positional argument is the state, and (optionally), the second positional argument is a \"config\", containing optional configurable parameters (such as a thread_id).\\nSimilar to NetworkX, you add these nodes to a graph using the add_node method:\\n[](https://langchain-ai.github.io/langgraph/concepts/low_level/#__codelineno-7-1)from langchain_core.runnables import RunnableConfig [...] By composing Nodes and Edges, you can create complex, looping workflows that evolve the State over time. The real power, though, comes from how LangGraph manages that State. To emphasize: Nodes and Edges are nothing more than Python functions - they can contain an LLM or just good ol\\' Python code.\\nIn short: nodes do the work. edges tell what to do next. [...] Nodes: Python functions that encode the logic of your agents. They receive the current State as input, perform some computation or side-effect, and return an updated State.\\n\\n\\nEdges: Python functions that determine which Node to execute next based on the current State. They can be conditional branches or fixed transitions.'},\n",
       " {'url': 'https://www.ionio.ai/blog/a-comprehensive-guide-about-langgraph-code-included',\n",
       "  'content': 'Now let’s take a look at each component of langgraph in detail 🚀\\nNodes\\nA node can be any function or tool your agent uses in langgraph and these nodes are connected with other nodes using edges. Every workflow ends with a “END” node in langgraph which shows the end of workflow. You also need to define a starting node which will be the starting point of your workflow. Optionally, you can also define an ending node if you know the ending point of your workflow. [...] Workflow Automation: \\xa0LangGraph can automate complex workflows that involve multiple steps and decision points. By defining the steps as nodes in the graph and the decision logic as edges, LangGraph can handle complex tasks easily. Langgraph can also make complex RAG systems easy to visualize and implement.'}]"
      ]
     },
     "execution_count": 39,
     "metadata": {},
     "output_type": "execute_result"
    }
   ],
   "source": [
    "tool = TavilySearchResults(max_results=2)\n",
    "tools = [tool]\n",
    "tool.invoke(\"What's a 'node' in LangGraph?\")"
   ]
  },
  {
   "cell_type": "markdown",
   "id": "d841fbc6",
   "metadata": {},
   "source": [
    "# embedding "
   ]
  },
  {
   "cell_type": "code",
   "execution_count": 2,
   "id": "72da06fd",
   "metadata": {},
   "outputs": [],
   "source": [
    "from langchain_google_genai import GoogleGenerativeAIEmbeddings\n",
    "embeddings = GoogleGenerativeAIEmbeddings(model=\"models/embedding-001\")"
   ]
  },
  {
   "cell_type": "markdown",
   "id": "db193348",
   "metadata": {},
   "source": [
    "# list of libray or class "
   ]
  },
  {
   "cell_type": "code",
   "execution_count": 4,
   "id": "1c8ee4c8",
   "metadata": {},
   "outputs": [],
   "source": [
    "from langchain_core.output_parsers import StrOutputParser\n",
    "from langchain.prompts import ChatPromptTemplate\n",
    "from langchain_core.runnables import RunnablePassthrough\n",
    "from langchain.text_splitter import RecursiveCharacterTextSplitter\n",
    "from langchain_community.document_loaders import TextLoader, DirectoryLoader\n",
    "from langchain_community.vectorstores import FAISS"
   ]
  },
  {
   "cell_type": "markdown",
   "id": "5bc6d045",
   "metadata": {},
   "source": [
    "# load the data -> chunking -> embedding -> vectore store -> searching"
   ]
  },
  {
   "cell_type": "code",
   "execution_count": 5,
   "id": "6cbc1a46",
   "metadata": {},
   "outputs": [],
   "source": [
    "loader = DirectoryLoader(\"data\",glob=\"./*.txt\",loader_cls=TextLoader)"
   ]
  },
  {
   "cell_type": "code",
   "execution_count": 6,
   "id": "ac0f1fe5",
   "metadata": {},
   "outputs": [],
   "source": [
    "docs = loader.load()"
   ]
  },
  {
   "cell_type": "code",
   "execution_count": 7,
   "id": "8438b286",
   "metadata": {},
   "outputs": [
    {
     "data": {
      "text/plain": [
       "[Document(metadata={'source': 'data\\\\srk.txt'}, page_content='\"SRK\" redirects here. For other uses, see SRK (disambiguation).\\nFor the Indian cricketer, see Shahrukh Khan (cricketer).\\nShah Rukh Khan\\n\\nKhan in 2018\\nBorn\\tShahrukh Khan\\n2 November 1965 (age 59)\\nNew Delhi, India\\nAlma mater\\tHansraj College (BA)\\nOccupations\\t\\nActorfilm producertelevision personalitybusinessman\\nYears active\\t1988–present\\nOrganisation(s)\\tRed Chillies Entertainment\\nKnight Riders Group\\nWorks\\tFull list\\nSpouse\\tGauri Khan \\u200b(m. 1991)\\u200b\\nChildren\\t3, including Aryan and Suhana\\nAwards\\tFull list\\nHonours\\tPadma Shri (2005)\\nOrder of Arts and Letters (2007)\\nLegion of Honour (2014)\\nSignature\\n\\nShah Rukh Khan[a] (pronounced [ˈʃaːɦɾʊx xäːn] ⓘ; born 2 November 1965), also known by the initialism SRK, is an Indian actor and film producer who works in Hindi cinema. Referred to in the media as the \"Baadshah of Bollywood\" and \"King Khan\",[b] he has appeared in more than 100 films, and earned numerous accolades, including 14 Filmfare Awards. He has been awarded the Padma Shri by the Government of India, as well as the Order of Arts and Letters and Legion of Honour by the Government of France. Khan has a significant following in Asia and the Indian diaspora worldwide. In terms of audience size and income, several media outlets have described him as one of the most successful film stars in the world.[c] Many of his films thematise Indian national identity and connections with diaspora communities, or gender, racial, social and religious differences and grievances.\\n\\nKhan began his career with appearances in several television series in the late 1980s and made his Bollywood debut in 1992 with the musical romance Deewana. He was initially recognised for playing villainous roles in the films Baazigar (1993) and Darr (1993). Khan established himself by starring in a series of top-grossing romantic films, including Dilwale Dulhania Le Jayenge (1995), Dil To Pagal Hai (1997), Kuch Kuch Hota Hai (1998), Mohabbatein (2000), Kabhi Khushi Kabhie Gham... (2001), Kal Ho Naa Ho (2003), Veer-Zaara (2004) and Kabhi Alvida Naa Kehna (2006). He earned critical acclaim for his portrayal of an alcoholic in the period romantic drama Devdas (2002), a NASA scientist in the social drama Swades (2004), a hockey coach in the sports drama Chak De! India (2007), and a man with Asperger syndrome in the drama My Name Is Khan (2010). Further commercial successes came with the romances Om Shanti Om (2007) and Rab Ne Bana Di Jodi (2008), and with his expansion to comedies in Chennai Express (2013) and Happy New Year (2014). Following a brief setback and hiatus, Khan made a career comeback with the 2023 action thrillers Pathaan and Jawan, both of which rank among the highest-grossing Indian films.\\n\\nAs of 2015, Khan is co-chairman of the motion picture production company Red Chillies Entertainment and its subsidiaries and is the co-owner of the Indian Premier League cricket team Kolkata Knight Riders and the Caribbean Premier League team Trinbago Knight Riders. The media often label him as \"Brand SRK\" because of his many endorsements and entrepreneurship ventures. He is a frequent television presenter and stage show performer. Khan\\'s philanthropic endeavours have provided health care and disaster relief, and he was honoured with UNESCO\\'s Pyramide con Marni award in 2011 for his support of children\\'s education and the World Economic Forum\\'s Crystal Award in 2018 for advocating for women\\'s and children\\'s rights in India. He regularly features in listings of the most influential people in Indian culture, and in 2008, Newsweek named him one of their fifty most powerful people in the world. In 2022, Khan was voted one of the 50 greatest actors of all time in a readers\\' poll by Empire, and in 2023, Time named him as one of the most influential people in the world.[3]\\n\\nEarly life and family\\nParents\\nKhan\\'s father, Meer Taj Mohammed Khan, was an Indian independence activist from Peshawar who campaigned alongside the Khudai Khidmatgar, a nonviolent resistance movement led by Abdul Ghaffar Khan that sought a united and independent India.[4][5] Mir was a follower of Abdul Ghaffar Khan,[6] and affiliated with the Indian National Congress.[7] He was also the cousin of the major general in the Indian National Army Shah Nawaz Khan.[d] According to Khan his paternal grandfather, Mir Jan Muhammad Khan, was an ethnic Pashtun (Pathan) from Afghanistan.[10][7][11] However, his paternal cousins in Peshawar later clarified that the family speaks Hindko and is originally from Kashmir, from where they settled in Peshawar centuries back, contradicting the claim that his grandfather was a Pashtun from Afghanistan.[7][12] As of 2010, Khan\\'s paternal family was still living in the Shah Wali Qataal area of Peshawar\\'s Qissa Khwani Bazaar.[7]\\n\\nIn 1946, Mir moved to Delhi to study law at Delhi University.[13] When the partition of India occurred in 1947, he was forced to stay in Delhi, and did not return to Peshawar until many years later.[14] Khan\\'s mother, Lateef Fatima, a magistrate, was the daughter of a senior government engineer.[15][d][16] His parents were married in 1959.[17]\\n\\nEarly life\\nKhan was born on 2 November 1965 into a Muslim family in New Delhi.[18] He spent the first five years of his life in Mangalore, where his maternal grandfather, Iftikhar Ahmed, served as chief engineer of the port in the 1960s.[19][20][e] Khan has described himself on Twitter as \"half Hyderabadi (mother), half Pathan (father), and some Kashmiri (grandmother)\".[22]\\n\\n\\nHis father died of cancer in 1981,[f] and his mother died in 1991 from complications of diabetes.[37] After the death of their parents, his older sister, Shahnaz Lalarukh (born 1960)[38] fell into a depressed state and Khan took on the responsibility of caring for her.[35][39] Shahnaz continues to live with her brother and his family in their Mumbai mansion.[40]\\n\\nActing career\\nSee also: Shah Rukh Khan filmography\\n1988–1992: Television and film debut\\nKhan\\'s first starring role was in Lekh Tandon\\'s television series Dil Dariya, which began shooting in 1988, but production delays led to the Raj Kumar Kapoor directed 1989 series Fauji becoming his television debut instead.[41] In the series, which depicted a realistic look at the training of army cadets, he played the leading role of Abhimanyu Rai.[42][43] This led to further appearances in Aziz Mirza\\'s television series Circus (1989–90) and Mani Kaul\\'s miniseries Idiot (1992).[44] Khan also played minor parts in the serials Umeed (1989) and Wagle Ki Duniya (1988–90),[44] and in the English-language television film In Which Annie Gives It Those Ones (1989).[45] His appearances in these serials led critics to compare his look and acting style with those of the film actor Dilip Kumar,[46] but Khan was not interested in film acting at the time, thinking that he was not good enough.[44][47]\\n\\nKhan changed his decision to act in films in April 1991,[48] citing it as a way to escape the grief of his mother\\'s death.[49] He moved from Delhi to Mumbai to pursue a full-time career in Bollywood and was quickly signed to four films.[48] His first offer was for Hema Malini\\'s directorial debut Dil Aashna Hai,[34][42] and by June, he had started his first shoot.[50] His film debut was in Deewana, which was released in June 1992.[51] In it he starred alongside Divya Bharti as the second male lead behind Rishi Kapoor. Deewana became a box office hit and launched Khan\\'s Bollywood career;[52] he earned the Filmfare Best Male Debut Award for his performance.[53] Also released in 1992 were Khan\\'s first films as the male lead, Chamatkar, Dil Aashna Hai, and the comedy Raju Ban Gaya Gentleman, which was his first of many collaborations with the actress Juhi Chawla.[54] His initial film roles saw him play characters who displayed energy and enthusiasm. According to Arnab Ray of Daily News and Analysis, Khan brought a new kind of acting as he was \"sliding down stairs on a slab of ice, cartwheeling, somersaulting, lips trembling, eyes trembling, bringing to the screen the kind of physical energy ... visceral, intense, maniacal one moment and cloyingly boyish the next.\"[55]\\n\\n\\n\\n\\n2023–present: Resurgence\\nIn 2023, Khan reunited with Yash Raj Films in the action thriller Pathaan (2023), set in the YRF Spy Universe, in which he played an exiled field agent assigned to stop a terrorist attack in India.[201] Critic Sukanya Verma took note of Khan\\'s \"weathered intensity, grizzly charisma and trademark wit\", while Kaveree Bamzai termed it a \"much-needed makeover\" of an ageing Khan into an action star.[202][203] Pathaan broke several box-office records, thus re-establishing Khan\\'s stardom.[204][205] Khan took on another action film role in the same year in Atlee\\'s Jawan, playing father and son doppelgängers.[206] Nandini Ramnath of Scroll.in wrote that \"Khan\\'s screen image – expansive, suffused with love, heroic in an old-fashioned way without being aggressively macho, irreverent but also sincere – helps sell a conceit that might have crashed with any other actor\".[207] Jawan broke the records set by Pathaan.[208] Both films grossed over ₹10 billion (US$110 million) to rank, respectively, as Hindi cinema\\'s second and third biggest grossers worldwide,[209] making Khan the first Indian actor to deliver two films that earned over ₹10 billion.[210]\\n\\nIn his final release of 2023, Khan starred in Rajkumar Hirani\\'s Dunki, a social drama about an illegal immigration technique named donkey flight.[211][212] Uday Bhatia wrote that his role as a \"romantic feminist soldier patriot friend\" marked \"a break from Khan the action star but offers no respite from the Khan the perfect screen idol\".[213] Grossing over ₹4 billion (US$46 million), Dunki emerged as Khan\\'s third consecutive commercial success of the year, although it did not match up to the record grosses of Pathaan or Jawan.[214][215]\\n\\n\\nOwnership of Kolkata Knight Riders\\nIn 2008, Khan, in partnership with Juhi Chawla and her husband Jay Mehta, acquired ownership rights for the franchise representing Kolkata in the Twenty20 cricket tournament Indian Premier League (IPL) for US$75.09 million, and named the team Kolkata Knight Riders (KKR).[242] As of 2009, KKR was one of the richest teams in the IPL, with a brand value of US$42.1 million.[243] The team performed poorly on the field during the first three years.[244] Their performance improved over time, and they became the champions for the first time in 2012[244] and repeated the feat in 2014.[245] The Knight Riders hold the record for the longest winning streak by any Indian team in T20s (14).[246] They won their third IPL title in the 2024 edition.[247]\\n\\n\\n\\nAwards and recognitions\\nMain article: List of awards and nominations received by Shah Rukh Khan\\nKhan is one of the most decorated Bollywood actors.[53] He has received 14 Filmfare Awards from 30 nominations and special awards,[313][h] including winning eight for Best Actor; he is tied for the most in this category with Dilip Kumar.[151] Khan has won the Filmfare Award for Best Actor for his performances in Baazigar (1993), Dilwale Dulhania Le Jayenge (1995), Dil To Pagal Hai (1997), Kuch Kuch Hota Hai (1998), Devdas (2002), Swades (2004), Chak De! India (2007) and My Name Is Khan (2010).[62]\\n\\nAlthough he has never won a National Film Award,[314] he was awarded the Padma Shri by the Government of India in 2005.[53] The Government of France has awarded him both the Order of Arts and Letters (2007),[315] and the fifth degree of the French Legion of Honour, the Chevalier Légion d\\'honneur (2014).[316] Khan has received five honorary doctorates; the first from The University of Bedfordshire in 2009,[317] the second from The University of Edinburgh in 2015,[318] the third from Maulana Azad National Urdu University in 2016,[319] and his latest from The University of Law and La Trobe University in 2019.[320][321]\\n\\nPersonal life\\nShah Rukh Khan standing beside his wife Gauri at a party in 2012\\nKhan with his wife Gauri in 2012\\nKhan married Gauri Chibber, a Punjabi Hindu, in a traditional Hindu wedding ceremony on 25 October 1991, after a six-year courtship.[322][323] They have a son Aryan (born 1997)[324] and a daughter Suhana (born 2000).[325] In 2013, they became parents of a third child named AbRam,[326] who was born through a surrogate mother.[327] Both his elder children have expressed interest in entering the entertainment industry; Khan has stated that Aryan, who studied filmmaking at the USC School of Cinematic Arts in California, aspires to become a writer-director,[328][329] while Suhana, who served as assistant director for Khan\\'s film Zero (2018), is studying drama and acting at NYU\\'s Tisch School of the Arts for higher education.[330][331] Suhana made her acting debut in November 2019, in a short film titled \"The Grey Part of Blue.\"[332] According to Khan, while he strongly believes in Islam, he also values his wife\\'s religion. His children follow both religions; at his home the Qur\\'an is situated next to the murti of Hindu deities.[333]\\n\\nAlthough Khan was given the birth name Shahrukh Khan, he prefers his name to be written as Shah Rukh Khan, and is commonly referred to by the initialism SRK.[334]\\n\\n')]"
      ]
     },
     "execution_count": 7,
     "metadata": {},
     "output_type": "execute_result"
    }
   ],
   "source": [
    "docs"
   ]
  },
  {
   "cell_type": "code",
   "execution_count": 8,
   "id": "01d27521",
   "metadata": {},
   "outputs": [],
   "source": [
    "text_spliter = RecursiveCharacterTextSplitter(chunk_size = 100, chunk_overlap = 50)"
   ]
  },
  {
   "cell_type": "code",
   "execution_count": 9,
   "id": "11042050",
   "metadata": {},
   "outputs": [],
   "source": [
    "new_docs = text_spliter.split_documents(docs)"
   ]
  },
  {
   "cell_type": "code",
   "execution_count": 10,
   "id": "11b5ae82",
   "metadata": {},
   "outputs": [],
   "source": [
    "doc_string = [doc.page_content for doc in new_docs]"
   ]
  },
  {
   "cell_type": "code",
   "execution_count": 11,
   "id": "c9b5e001",
   "metadata": {},
   "outputs": [
    {
     "data": {
      "text/plain": [
       "['\"SRK\" redirects here. For other uses, see SRK (disambiguation).',\n",
       " 'For the Indian cricketer, see Shahrukh Khan (cricketer).\\nShah Rukh Khan',\n",
       " 'Khan in 2018\\nBorn\\tShahrukh Khan\\n2 November 1965 (age 59)\\nNew Delhi, India',\n",
       " '2 November 1965 (age 59)\\nNew Delhi, India\\nAlma mater\\tHansraj College (BA)\\nOccupations',\n",
       " 'Alma mater\\tHansraj College (BA)\\nOccupations\\t\\nActorfilm producertelevision personalitybusinessman',\n",
       " 'Years active\\t1988–present\\nOrganisation(s)\\tRed Chillies Entertainment\\nKnight Riders Group',\n",
       " 'Knight Riders Group\\nWorks\\tFull list\\nSpouse\\tGauri Khan \\u200b(m. 1991)\\u200b',\n",
       " 'Works\\tFull list\\nSpouse\\tGauri Khan \\u200b(m. 1991)\\u200b\\nChildren\\t3, including Aryan and Suhana',\n",
       " 'Children\\t3, including Aryan and Suhana\\nAwards\\tFull list\\nHonours\\tPadma Shri (2005)',\n",
       " 'Awards\\tFull list\\nHonours\\tPadma Shri (2005)\\nOrder of Arts and Letters (2007)\\nLegion of Honour (2014)',\n",
       " 'Legion of Honour (2014)\\nSignature',\n",
       " 'Shah Rukh Khan[a] (pronounced [ˈʃaːɦɾʊx xäːn] ⓘ; born 2 November 1965), also known by the',\n",
       " 'xäːn] ⓘ; born 2 November 1965), also known by the initialism SRK, is an Indian actor and film',\n",
       " 'the initialism SRK, is an Indian actor and film producer who works in Hindi cinema. Referred to in',\n",
       " 'who works in Hindi cinema. Referred to in the media as the \"Baadshah of Bollywood\" and \"King',\n",
       " 'media as the \"Baadshah of Bollywood\" and \"King Khan\",[b] he has appeared in more than 100 films,',\n",
       " 'Khan\",[b] he has appeared in more than 100 films, and earned numerous accolades, including 14',\n",
       " 'and earned numerous accolades, including 14 Filmfare Awards. He has been awarded the Padma Shri by',\n",
       " 'Awards. He has been awarded the Padma Shri by the Government of India, as well as the Order of Arts',\n",
       " 'Government of India, as well as the Order of Arts and Letters and Legion of Honour by the',\n",
       " 'of Arts and Letters and Legion of Honour by the Government of France. Khan has a significant',\n",
       " 'the Government of France. Khan has a significant following in Asia and the Indian diaspora',\n",
       " 'following in Asia and the Indian diaspora worldwide. In terms of audience size and income, several',\n",
       " 'In terms of audience size and income, several media outlets have described him as one of the most',\n",
       " 'outlets have described him as one of the most successful film stars in the world.[c] Many of his',\n",
       " 'film stars in the world.[c] Many of his films thematise Indian national identity and connections',\n",
       " 'Indian national identity and connections with diaspora communities, or gender, racial, social and',\n",
       " 'communities, or gender, racial, social and religious differences and grievances.',\n",
       " 'Khan began his career with appearances in several television series in the late 1980s and made his',\n",
       " 'television series in the late 1980s and made his Bollywood debut in 1992 with the musical romance',\n",
       " 'Bollywood debut in 1992 with the musical romance Deewana. He was initially recognised for playing',\n",
       " 'Deewana. He was initially recognised for playing villainous roles in the films Baazigar (1993) and',\n",
       " 'villainous roles in the films Baazigar (1993) and Darr (1993). Khan established himself by starring',\n",
       " 'Darr (1993). Khan established himself by starring in a series of top-grossing romantic films,',\n",
       " 'in a series of top-grossing romantic films, including Dilwale Dulhania Le Jayenge (1995), Dil To',\n",
       " 'Dilwale Dulhania Le Jayenge (1995), Dil To Pagal Hai (1997), Kuch Kuch Hota Hai (1998), Mohabbatein',\n",
       " '(1997), Kuch Kuch Hota Hai (1998), Mohabbatein (2000), Kabhi Khushi Kabhie Gham... (2001), Kal Ho',\n",
       " 'Kabhi Khushi Kabhie Gham... (2001), Kal Ho Naa Ho (2003), Veer-Zaara (2004) and Kabhi Alvida Naa',\n",
       " 'Ho (2003), Veer-Zaara (2004) and Kabhi Alvida Naa Kehna (2006). He earned critical acclaim for his',\n",
       " 'Kehna (2006). He earned critical acclaim for his portrayal of an alcoholic in the period romantic',\n",
       " 'portrayal of an alcoholic in the period romantic drama Devdas (2002), a NASA scientist in the',\n",
       " 'drama Devdas (2002), a NASA scientist in the social drama Swades (2004), a hockey coach in the',\n",
       " 'social drama Swades (2004), a hockey coach in the sports drama Chak De! India (2007), and a man',\n",
       " 'the sports drama Chak De! India (2007), and a man with Asperger syndrome in the drama My Name Is',\n",
       " 'with Asperger syndrome in the drama My Name Is Khan (2010). Further commercial successes came with',\n",
       " '(2010). Further commercial successes came with the romances Om Shanti Om (2007) and Rab Ne Bana Di',\n",
       " 'romances Om Shanti Om (2007) and Rab Ne Bana Di Jodi (2008), and with his expansion to comedies in',\n",
       " '(2008), and with his expansion to comedies in Chennai Express (2013) and Happy New Year (2014).',\n",
       " 'Chennai Express (2013) and Happy New Year (2014). Following a brief setback and hiatus, Khan made a',\n",
       " 'Following a brief setback and hiatus, Khan made a career comeback with the 2023 action thrillers',\n",
       " 'a career comeback with the 2023 action thrillers Pathaan and Jawan, both of which rank among the',\n",
       " 'Pathaan and Jawan, both of which rank among the highest-grossing Indian films.',\n",
       " 'As of 2015, Khan is co-chairman of the motion picture production company Red Chillies Entertainment',\n",
       " 'production company Red Chillies Entertainment and its subsidiaries and is the co-owner of the',\n",
       " 'and its subsidiaries and is the co-owner of the Indian Premier League cricket team Kolkata Knight',\n",
       " 'Indian Premier League cricket team Kolkata Knight Riders and the Caribbean Premier League team',\n",
       " 'Riders and the Caribbean Premier League team Trinbago Knight Riders. The media often label him as',\n",
       " 'Knight Riders. The media often label him as \"Brand SRK\" because of his many endorsements and',\n",
       " '\"Brand SRK\" because of his many endorsements and entrepreneurship ventures. He is a frequent',\n",
       " 'and entrepreneurship ventures. He is a frequent television presenter and stage show performer.',\n",
       " \"television presenter and stage show performer. Khan's philanthropic endeavours have provided health\",\n",
       " 'philanthropic endeavours have provided health care and disaster relief, and he was honoured with',\n",
       " \"and disaster relief, and he was honoured with UNESCO's Pyramide con Marni award in 2011 for his\",\n",
       " \"UNESCO's Pyramide con Marni award in 2011 for his support of children's education and the World\",\n",
       " \"his support of children's education and the World Economic Forum's Crystal Award in 2018 for\",\n",
       " \"World Economic Forum's Crystal Award in 2018 for advocating for women's and children's rights in\",\n",
       " \"advocating for women's and children's rights in India. He regularly features in listings of the\",\n",
       " 'India. He regularly features in listings of the most influential people in Indian culture, and in',\n",
       " 'most influential people in Indian culture, and in 2008, Newsweek named him one of their fifty most',\n",
       " '2008, Newsweek named him one of their fifty most powerful people in the world. In 2022, Khan was',\n",
       " 'powerful people in the world. In 2022, Khan was voted one of the 50 greatest actors of all time in',\n",
       " \"one of the 50 greatest actors of all time in a readers' poll by Empire, and in 2023, Time named him\",\n",
       " 'poll by Empire, and in 2023, Time named him as one of the most influential people in the world.[3]',\n",
       " 'Early life and family\\nParents',\n",
       " \"Khan's father, Meer Taj Mohammed Khan, was an Indian independence activist from Peshawar who\",\n",
       " 'an Indian independence activist from Peshawar who campaigned alongside the Khudai Khidmatgar, a',\n",
       " 'who campaigned alongside the Khudai Khidmatgar, a nonviolent resistance movement led by Abdul',\n",
       " 'a nonviolent resistance movement led by Abdul Ghaffar Khan that sought a united and independent',\n",
       " 'Ghaffar Khan that sought a united and independent India.[4][5] Mir was a follower of Abdul Ghaffar',\n",
       " 'India.[4][5] Mir was a follower of Abdul Ghaffar Khan,[6] and affiliated with the Indian National',\n",
       " 'Khan,[6] and affiliated with the Indian National Congress.[7] He was also the cousin of the major',\n",
       " 'Congress.[7] He was also the cousin of the major general in the Indian National Army Shah Nawaz',\n",
       " 'general in the Indian National Army Shah Nawaz Khan.[d] According to Khan his paternal grandfather,',\n",
       " 'According to Khan his paternal grandfather, Mir Jan Muhammad Khan, was an ethnic Pashtun (Pathan)',\n",
       " 'Jan Muhammad Khan, was an ethnic Pashtun (Pathan) from Afghanistan.[10][7][11] However, his',\n",
       " 'from Afghanistan.[10][7][11] However, his paternal cousins in Peshawar later clarified that the',\n",
       " 'cousins in Peshawar later clarified that the family speaks Hindko and is originally from Kashmir,',\n",
       " 'speaks Hindko and is originally from Kashmir, from where they settled in Peshawar centuries back,',\n",
       " 'where they settled in Peshawar centuries back, contradicting the claim that his grandfather was a',\n",
       " \"the claim that his grandfather was a Pashtun from Afghanistan.[7][12] As of 2010, Khan's paternal\",\n",
       " \"Afghanistan.[7][12] As of 2010, Khan's paternal family was still living in the Shah Wali Qataal\",\n",
       " \"family was still living in the Shah Wali Qataal area of Peshawar's Qissa Khwani Bazaar.[7]\",\n",
       " 'In 1946, Mir moved to Delhi to study law at Delhi University.[13] When the partition of India',\n",
       " 'Delhi University.[13] When the partition of India occurred in 1947, he was forced to stay in Delhi,',\n",
       " 'occurred in 1947, he was forced to stay in Delhi, and did not return to Peshawar until many years',\n",
       " \"and did not return to Peshawar until many years later.[14] Khan's mother, Lateef Fatima, a\",\n",
       " \"years later.[14] Khan's mother, Lateef Fatima, a magistrate, was the daughter of a senior\",\n",
       " 'a magistrate, was the daughter of a senior government engineer.[15][d][16] His parents were married',\n",
       " 'engineer.[15][d][16] His parents were married in 1959.[17]',\n",
       " 'Early life',\n",
       " 'Khan was born on 2 November 1965 into a Muslim family in New Delhi.[18] He spent the first five',\n",
       " 'family in New Delhi.[18] He spent the first five years of his life in Mangalore, where his maternal',\n",
       " 'of his life in Mangalore, where his maternal grandfather, Iftikhar Ahmed, served as chief engineer',\n",
       " 'Iftikhar Ahmed, served as chief engineer of the port in the 1960s.[19][20][e] Khan has described',\n",
       " 'port in the 1960s.[19][20][e] Khan has described himself on Twitter as \"half Hyderabadi (mother),',\n",
       " 'himself on Twitter as \"half Hyderabadi (mother), half Pathan (father), and some Kashmiri',\n",
       " '(mother), half Pathan (father), and some Kashmiri (grandmother)\".[22]',\n",
       " 'His father died of cancer in 1981,[f] and his mother died in 1991 from complications of',\n",
       " 'and his mother died in 1991 from complications of diabetes.[37] After the death of their parents,',\n",
       " 'diabetes.[37] After the death of their parents, his older sister, Shahnaz Lalarukh (born 1960)[38]',\n",
       " 'older sister, Shahnaz Lalarukh (born 1960)[38] fell into a depressed state and Khan took on the',\n",
       " 'fell into a depressed state and Khan took on the responsibility of caring for her.[35][39] Shahnaz',\n",
       " 'responsibility of caring for her.[35][39] Shahnaz continues to live with her brother and his family',\n",
       " 'continues to live with her brother and his family in their Mumbai mansion.[40]',\n",
       " 'Acting career\\nSee also: Shah Rukh Khan filmography\\n1988–1992: Television and film debut',\n",
       " \"Khan's first starring role was in Lekh Tandon's television series Dil Dariya, which began shooting\",\n",
       " 'series Dil Dariya, which began shooting in 1988, but production delays led to the Raj Kumar Kapoor',\n",
       " 'but production delays led to the Raj Kumar Kapoor directed 1989 series Fauji becoming his',\n",
       " 'Kapoor directed 1989 series Fauji becoming his television debut instead.[41] In the series, which',\n",
       " 'debut instead.[41] In the series, which depicted a realistic look at the training of army cadets,',\n",
       " 'a realistic look at the training of army cadets, he played the leading role of Abhimanyu',\n",
       " 'cadets, he played the leading role of Abhimanyu Rai.[42][43] This led to further appearances in',\n",
       " \"Rai.[42][43] This led to further appearances in Aziz Mirza's television series Circus (1989–90) and\",\n",
       " \"Mirza's television series Circus (1989–90) and Mani Kaul's miniseries Idiot (1992).[44] Khan also\",\n",
       " \"Kaul's miniseries Idiot (1992).[44] Khan also played minor parts in the serials Umeed (1989) and\",\n",
       " 'minor parts in the serials Umeed (1989) and Wagle Ki Duniya (1988–90),[44] and in the',\n",
       " 'and Wagle Ki Duniya (1988–90),[44] and in the English-language television film In Which Annie Gives',\n",
       " 'television film In Which Annie Gives It Those Ones (1989).[45] His appearances in these serials led',\n",
       " '(1989).[45] His appearances in these serials led critics to compare his look and acting style with',\n",
       " 'critics to compare his look and acting style with those of the film actor Dilip Kumar,[46] but Khan',\n",
       " 'those of the film actor Dilip Kumar,[46] but Khan was not interested in film acting at the time,',\n",
       " 'was not interested in film acting at the time, thinking that he was not good enough.[44][47]',\n",
       " 'Khan changed his decision to act in films in April 1991,[48] citing it as a way to escape the grief',\n",
       " \"1991,[48] citing it as a way to escape the grief of his mother's death.[49] He moved from Delhi to\",\n",
       " \"of his mother's death.[49] He moved from Delhi to Mumbai to pursue a full-time career in Bollywood\",\n",
       " 'Mumbai to pursue a full-time career in Bollywood and was quickly signed to four films.[48] His',\n",
       " \"and was quickly signed to four films.[48] His first offer was for Hema Malini's directorial debut\",\n",
       " \"offer was for Hema Malini's directorial debut Dil Aashna Hai,[34][42] and by June, he had started\",\n",
       " 'Aashna Hai,[34][42] and by June, he had started his first shoot.[50] His film debut was in Deewana,',\n",
       " 'first shoot.[50] His film debut was in Deewana, which was released in June 1992.[51] In it he',\n",
       " 'which was released in June 1992.[51] In it he starred alongside Divya Bharti as the second male',\n",
       " 'starred alongside Divya Bharti as the second male lead behind Rishi Kapoor. Deewana became a box',\n",
       " \"lead behind Rishi Kapoor. Deewana became a box office hit and launched Khan's Bollywood career;[52]\",\n",
       " \"hit and launched Khan's Bollywood career;[52] he earned the Filmfare Best Male Debut Award for his\",\n",
       " 'earned the Filmfare Best Male Debut Award for his performance.[53] Also released in 1992 were',\n",
       " \"his performance.[53] Also released in 1992 were Khan's first films as the male lead, Chamatkar, Dil\",\n",
       " 'first films as the male lead, Chamatkar, Dil Aashna Hai, and the comedy Raju Ban Gaya Gentleman,',\n",
       " 'Hai, and the comedy Raju Ban Gaya Gentleman, which was his first of many collaborations with the',\n",
       " 'was his first of many collaborations with the actress Juhi Chawla.[54] His initial film roles saw',\n",
       " 'Juhi Chawla.[54] His initial film roles saw him play characters who displayed energy and',\n",
       " 'saw him play characters who displayed energy and enthusiasm. According to Arnab Ray of Daily News',\n",
       " 'enthusiasm. According to Arnab Ray of Daily News and Analysis, Khan brought a new kind of acting as',\n",
       " 'Analysis, Khan brought a new kind of acting as he was \"sliding down stairs on a slab of ice,',\n",
       " 'as he was \"sliding down stairs on a slab of ice, cartwheeling, somersaulting, lips trembling, eyes',\n",
       " 'cartwheeling, somersaulting, lips trembling, eyes trembling, bringing to the screen the kind of',\n",
       " 'trembling, bringing to the screen the kind of physical energy ... visceral, intense, maniacal one',\n",
       " 'energy ... visceral, intense, maniacal one moment and cloyingly boyish the next.\"[55]',\n",
       " '2023–present: Resurgence',\n",
       " 'In 2023, Khan reunited with Yash Raj Films in the action thriller Pathaan (2023), set in the YRF',\n",
       " 'action thriller Pathaan (2023), set in the YRF Spy Universe, in which he played an exiled field',\n",
       " 'Spy Universe, in which he played an exiled field agent assigned to stop a terrorist attack in',\n",
       " \"agent assigned to stop a terrorist attack in India.[201] Critic Sukanya Verma took note of Khan's\",\n",
       " 'Critic Sukanya Verma took note of Khan\\'s \"weathered intensity, grizzly charisma and trademark wit\",',\n",
       " 'intensity, grizzly charisma and trademark wit\", while Kaveree Bamzai termed it a \"much-needed',\n",
       " 'while Kaveree Bamzai termed it a \"much-needed makeover\" of an ageing Khan into an action',\n",
       " 'makeover\" of an ageing Khan into an action star.[202][203] Pathaan broke several box-office',\n",
       " \"star.[202][203] Pathaan broke several box-office records, thus re-establishing Khan's\",\n",
       " \"box-office records, thus re-establishing Khan's stardom.[204][205] Khan took on another action film\",\n",
       " \"Khan took on another action film role in the same year in Atlee's Jawan, playing father and son\",\n",
       " \"year in Atlee's Jawan, playing father and son doppelgängers.[206] Nandini Ramnath of Scroll.in\",\n",
       " 'doppelgängers.[206] Nandini Ramnath of Scroll.in wrote that \"Khan\\'s screen image – expansive,',\n",
       " 'wrote that \"Khan\\'s screen image – expansive, suffused with love, heroic in an old-fashioned way',\n",
       " 'with love, heroic in an old-fashioned way without being aggressively macho, irreverent but also',\n",
       " 'being aggressively macho, irreverent but also sincere – helps sell a conceit that might have',\n",
       " 'sincere – helps sell a conceit that might have crashed with any other actor\".[207] Jawan broke the',\n",
       " 'with any other actor\".[207] Jawan broke the records set by Pathaan.[208] Both films grossed over',\n",
       " 'set by Pathaan.[208] Both films grossed over ₹10 billion (US$110 million) to rank, respectively, as',\n",
       " \"(US$110 million) to rank, respectively, as Hindi cinema's second and third biggest grossers\",\n",
       " \"Hindi cinema's second and third biggest grossers worldwide,[209] making Khan the first Indian actor\",\n",
       " 'making Khan the first Indian actor to deliver two films that earned over ₹10 billion.[210]',\n",
       " \"In his final release of 2023, Khan starred in Rajkumar Hirani's Dunki, a social drama about an\",\n",
       " \"Rajkumar Hirani's Dunki, a social drama about an illegal immigration technique named donkey\",\n",
       " 'an illegal immigration technique named donkey flight.[211][212] Uday Bhatia wrote that his role as',\n",
       " 'Uday Bhatia wrote that his role as a \"romantic feminist soldier patriot friend\" marked \"a break',\n",
       " 'feminist soldier patriot friend\" marked \"a break from Khan the action star but offers no respite',\n",
       " 'from Khan the action star but offers no respite from the Khan the perfect screen idol\".[213]',\n",
       " 'from the Khan the perfect screen idol\".[213] Grossing over ₹4 billion (US$46 million), Dunki',\n",
       " \"Grossing over ₹4 billion (US$46 million), Dunki emerged as Khan's third consecutive commercial\",\n",
       " \"emerged as Khan's third consecutive commercial success of the year, although it did not match up to\",\n",
       " 'of the year, although it did not match up to the record grosses of Pathaan or Jawan.[214][215]',\n",
       " 'Ownership of Kolkata Knight Riders',\n",
       " 'In 2008, Khan, in partnership with Juhi Chawla and her husband Jay Mehta, acquired ownership rights',\n",
       " 'her husband Jay Mehta, acquired ownership rights for the franchise representing Kolkata in the',\n",
       " 'for the franchise representing Kolkata in the Twenty20 cricket tournament Indian Premier League',\n",
       " 'Twenty20 cricket tournament Indian Premier League (IPL) for US$75.09 million, and named the team',\n",
       " '(IPL) for US$75.09 million, and named the team Kolkata Knight Riders (KKR).[242] As of 2009, KKR',\n",
       " 'Kolkata Knight Riders (KKR).[242] As of 2009, KKR was one of the richest teams in the IPL, with a',\n",
       " 'was one of the richest teams in the IPL, with a brand value of US$42.1 million.[243] The team',\n",
       " 'a brand value of US$42.1 million.[243] The team performed poorly on the field during the first',\n",
       " 'performed poorly on the field during the first three years.[244] Their performance improved over',\n",
       " 'three years.[244] Their performance improved over time, and they became the champions for the first',\n",
       " 'time, and they became the champions for the first time in 2012[244] and repeated the feat in',\n",
       " 'first time in 2012[244] and repeated the feat in 2014.[245] The Knight Riders hold the record for',\n",
       " '2014.[245] The Knight Riders hold the record for the longest winning streak by any Indian team in',\n",
       " 'the longest winning streak by any Indian team in T20s (14).[246] They won their third IPL title in',\n",
       " 'T20s (14).[246] They won their third IPL title in the 2024 edition.[247]',\n",
       " 'Awards and recognitions\\nMain article: List of awards and nominations received by Shah Rukh Khan',\n",
       " 'Khan is one of the most decorated Bollywood actors.[53] He has received 14 Filmfare Awards from 30',\n",
       " 'He has received 14 Filmfare Awards from 30 nominations and special awards,[313][h] including',\n",
       " 'nominations and special awards,[313][h] including winning eight for Best Actor; he is tied for the',\n",
       " 'winning eight for Best Actor; he is tied for the most in this category with Dilip Kumar.[151] Khan',\n",
       " 'most in this category with Dilip Kumar.[151] Khan has won the Filmfare Award for Best Actor for his',\n",
       " 'has won the Filmfare Award for Best Actor for his performances in Baazigar (1993), Dilwale Dulhania',\n",
       " 'performances in Baazigar (1993), Dilwale Dulhania Le Jayenge (1995), Dil To Pagal Hai (1997), Kuch',\n",
       " 'Le Jayenge (1995), Dil To Pagal Hai (1997), Kuch Kuch Hota Hai (1998), Devdas (2002), Swades',\n",
       " 'Kuch Kuch Hota Hai (1998), Devdas (2002), Swades (2004), Chak De! India (2007) and My Name Is Khan',\n",
       " '(2004), Chak De! India (2007) and My Name Is Khan (2010).[62]',\n",
       " 'Although he has never won a National Film Award,[314] he was awarded the Padma Shri by the',\n",
       " 'Award,[314] he was awarded the Padma Shri by the Government of India in 2005.[53] The Government of',\n",
       " 'of India in 2005.[53] The Government of France has awarded him both the Order of Arts and Letters',\n",
       " 'awarded him both the Order of Arts and Letters (2007),[315] and the fifth degree of the French',\n",
       " \"(2007),[315] and the fifth degree of the French Legion of Honour, the Chevalier Légion d'honneur\",\n",
       " \"Legion of Honour, the Chevalier Légion d'honneur (2014).[316] Khan has received five honorary\",\n",
       " '(2014).[316] Khan has received five honorary doctorates; the first from The University of',\n",
       " 'doctorates; the first from The University of Bedfordshire in 2009,[317] the second from The',\n",
       " 'of Bedfordshire in 2009,[317] the second from The University of Edinburgh in 2015,[318] the third',\n",
       " 'University of Edinburgh in 2015,[318] the third from Maulana Azad National Urdu University in',\n",
       " 'from Maulana Azad National Urdu University in 2016,[319] and his latest from The University of Law',\n",
       " 'and his latest from The University of Law and La Trobe University in 2019.[320][321]',\n",
       " 'Personal life\\nShah Rukh Khan standing beside his wife Gauri at a party in 2012',\n",
       " 'Khan with his wife Gauri in 2012',\n",
       " 'Khan married Gauri Chibber, a Punjabi Hindu, in a traditional Hindu wedding ceremony on 25 October',\n",
       " 'traditional Hindu wedding ceremony on 25 October 1991, after a six-year courtship.[322][323] They',\n",
       " '1991, after a six-year courtship.[322][323] They have a son Aryan (born 1997)[324] and a daughter',\n",
       " 'have a son Aryan (born 1997)[324] and a daughter Suhana (born 2000).[325] In 2013, they became',\n",
       " 'Suhana (born 2000).[325] In 2013, they became parents of a third child named AbRam,[326] who was',\n",
       " 'of a third child named AbRam,[326] who was born through a surrogate mother.[327] Both his elder',\n",
       " 'through a surrogate mother.[327] Both his elder children have expressed interest in entering the',\n",
       " 'children have expressed interest in entering the entertainment industry; Khan has stated that',\n",
       " 'the entertainment industry; Khan has stated that Aryan, who studied filmmaking at the USC School of',\n",
       " 'who studied filmmaking at the USC School of Cinematic Arts in California, aspires to become a',\n",
       " 'Cinematic Arts in California, aspires to become a writer-director,[328][329] while Suhana, who',\n",
       " \"a writer-director,[328][329] while Suhana, who served as assistant director for Khan's film Zero\",\n",
       " \"served as assistant director for Khan's film Zero (2018), is studying drama and acting at NYU's\",\n",
       " \"(2018), is studying drama and acting at NYU's Tisch School of the Arts for higher\",\n",
       " \"at NYU's Tisch School of the Arts for higher education.[330][331] Suhana made her acting debut in\",\n",
       " 'Suhana made her acting debut in November 2019, in a short film titled \"The Grey Part of Blue.\"[332]',\n",
       " 'a short film titled \"The Grey Part of Blue.\"[332] According to Khan, while he strongly believes in',\n",
       " \"According to Khan, while he strongly believes in Islam, he also values his wife's religion. His\",\n",
       " \"in Islam, he also values his wife's religion. His children follow both religions; at his home the\",\n",
       " \"children follow both religions; at his home the Qur'an is situated next to the murti of Hindu\",\n",
       " \"the Qur'an is situated next to the murti of Hindu deities.[333]\",\n",
       " 'Although Khan was given the birth name Shahrukh Khan, he prefers his name to be written as Shah',\n",
       " 'Khan, he prefers his name to be written as Shah Rukh Khan, and is commonly referred to by the',\n",
       " 'Rukh Khan, and is commonly referred to by the initialism SRK.[334]']"
      ]
     },
     "execution_count": 11,
     "metadata": {},
     "output_type": "execute_result"
    }
   ],
   "source": [
    "doc_string"
   ]
  },
  {
   "cell_type": "code",
   "execution_count": 12,
   "id": "b51c9c03",
   "metadata": {},
   "outputs": [
    {
     "data": {
      "text/plain": [
       "255"
      ]
     },
     "execution_count": 12,
     "metadata": {},
     "output_type": "execute_result"
    }
   ],
   "source": [
    "len(doc_string)"
   ]
  },
  {
   "cell_type": "code",
   "execution_count": 13,
   "id": "2dff7073",
   "metadata": {},
   "outputs": [
    {
     "data": {
      "text/plain": [
       "[Document(metadata={'source': 'data\\\\srk.txt'}, page_content='\"SRK\" redirects here. For other uses, see SRK (disambiguation).'),\n",
       " Document(metadata={'source': 'data\\\\srk.txt'}, page_content='For the Indian cricketer, see Shahrukh Khan (cricketer).\\nShah Rukh Khan'),\n",
       " Document(metadata={'source': 'data\\\\srk.txt'}, page_content='Khan in 2018\\nBorn\\tShahrukh Khan\\n2 November 1965 (age 59)\\nNew Delhi, India'),\n",
       " Document(metadata={'source': 'data\\\\srk.txt'}, page_content='2 November 1965 (age 59)\\nNew Delhi, India\\nAlma mater\\tHansraj College (BA)\\nOccupations'),\n",
       " Document(metadata={'source': 'data\\\\srk.txt'}, page_content='Alma mater\\tHansraj College (BA)\\nOccupations\\t\\nActorfilm producertelevision personalitybusinessman'),\n",
       " Document(metadata={'source': 'data\\\\srk.txt'}, page_content='Years active\\t1988–present\\nOrganisation(s)\\tRed Chillies Entertainment\\nKnight Riders Group'),\n",
       " Document(metadata={'source': 'data\\\\srk.txt'}, page_content='Knight Riders Group\\nWorks\\tFull list\\nSpouse\\tGauri Khan \\u200b(m. 1991)\\u200b'),\n",
       " Document(metadata={'source': 'data\\\\srk.txt'}, page_content='Works\\tFull list\\nSpouse\\tGauri Khan \\u200b(m. 1991)\\u200b\\nChildren\\t3, including Aryan and Suhana'),\n",
       " Document(metadata={'source': 'data\\\\srk.txt'}, page_content='Children\\t3, including Aryan and Suhana\\nAwards\\tFull list\\nHonours\\tPadma Shri (2005)'),\n",
       " Document(metadata={'source': 'data\\\\srk.txt'}, page_content='Awards\\tFull list\\nHonours\\tPadma Shri (2005)\\nOrder of Arts and Letters (2007)\\nLegion of Honour (2014)'),\n",
       " Document(metadata={'source': 'data\\\\srk.txt'}, page_content='Legion of Honour (2014)\\nSignature'),\n",
       " Document(metadata={'source': 'data\\\\srk.txt'}, page_content='Shah Rukh Khan[a] (pronounced [ˈʃaːɦɾʊx xäːn] ⓘ; born 2 November 1965), also known by the'),\n",
       " Document(metadata={'source': 'data\\\\srk.txt'}, page_content='xäːn] ⓘ; born 2 November 1965), also known by the initialism SRK, is an Indian actor and film'),\n",
       " Document(metadata={'source': 'data\\\\srk.txt'}, page_content='the initialism SRK, is an Indian actor and film producer who works in Hindi cinema. Referred to in'),\n",
       " Document(metadata={'source': 'data\\\\srk.txt'}, page_content='who works in Hindi cinema. Referred to in the media as the \"Baadshah of Bollywood\" and \"King'),\n",
       " Document(metadata={'source': 'data\\\\srk.txt'}, page_content='media as the \"Baadshah of Bollywood\" and \"King Khan\",[b] he has appeared in more than 100 films,'),\n",
       " Document(metadata={'source': 'data\\\\srk.txt'}, page_content='Khan\",[b] he has appeared in more than 100 films, and earned numerous accolades, including 14'),\n",
       " Document(metadata={'source': 'data\\\\srk.txt'}, page_content='and earned numerous accolades, including 14 Filmfare Awards. He has been awarded the Padma Shri by'),\n",
       " Document(metadata={'source': 'data\\\\srk.txt'}, page_content='Awards. He has been awarded the Padma Shri by the Government of India, as well as the Order of Arts'),\n",
       " Document(metadata={'source': 'data\\\\srk.txt'}, page_content='Government of India, as well as the Order of Arts and Letters and Legion of Honour by the'),\n",
       " Document(metadata={'source': 'data\\\\srk.txt'}, page_content='of Arts and Letters and Legion of Honour by the Government of France. Khan has a significant'),\n",
       " Document(metadata={'source': 'data\\\\srk.txt'}, page_content='the Government of France. Khan has a significant following in Asia and the Indian diaspora'),\n",
       " Document(metadata={'source': 'data\\\\srk.txt'}, page_content='following in Asia and the Indian diaspora worldwide. In terms of audience size and income, several'),\n",
       " Document(metadata={'source': 'data\\\\srk.txt'}, page_content='In terms of audience size and income, several media outlets have described him as one of the most'),\n",
       " Document(metadata={'source': 'data\\\\srk.txt'}, page_content='outlets have described him as one of the most successful film stars in the world.[c] Many of his'),\n",
       " Document(metadata={'source': 'data\\\\srk.txt'}, page_content='film stars in the world.[c] Many of his films thematise Indian national identity and connections'),\n",
       " Document(metadata={'source': 'data\\\\srk.txt'}, page_content='Indian national identity and connections with diaspora communities, or gender, racial, social and'),\n",
       " Document(metadata={'source': 'data\\\\srk.txt'}, page_content='communities, or gender, racial, social and religious differences and grievances.'),\n",
       " Document(metadata={'source': 'data\\\\srk.txt'}, page_content='Khan began his career with appearances in several television series in the late 1980s and made his'),\n",
       " Document(metadata={'source': 'data\\\\srk.txt'}, page_content='television series in the late 1980s and made his Bollywood debut in 1992 with the musical romance'),\n",
       " Document(metadata={'source': 'data\\\\srk.txt'}, page_content='Bollywood debut in 1992 with the musical romance Deewana. He was initially recognised for playing'),\n",
       " Document(metadata={'source': 'data\\\\srk.txt'}, page_content='Deewana. He was initially recognised for playing villainous roles in the films Baazigar (1993) and'),\n",
       " Document(metadata={'source': 'data\\\\srk.txt'}, page_content='villainous roles in the films Baazigar (1993) and Darr (1993). Khan established himself by starring'),\n",
       " Document(metadata={'source': 'data\\\\srk.txt'}, page_content='Darr (1993). Khan established himself by starring in a series of top-grossing romantic films,'),\n",
       " Document(metadata={'source': 'data\\\\srk.txt'}, page_content='in a series of top-grossing romantic films, including Dilwale Dulhania Le Jayenge (1995), Dil To'),\n",
       " Document(metadata={'source': 'data\\\\srk.txt'}, page_content='Dilwale Dulhania Le Jayenge (1995), Dil To Pagal Hai (1997), Kuch Kuch Hota Hai (1998), Mohabbatein'),\n",
       " Document(metadata={'source': 'data\\\\srk.txt'}, page_content='(1997), Kuch Kuch Hota Hai (1998), Mohabbatein (2000), Kabhi Khushi Kabhie Gham... (2001), Kal Ho'),\n",
       " Document(metadata={'source': 'data\\\\srk.txt'}, page_content='Kabhi Khushi Kabhie Gham... (2001), Kal Ho Naa Ho (2003), Veer-Zaara (2004) and Kabhi Alvida Naa'),\n",
       " Document(metadata={'source': 'data\\\\srk.txt'}, page_content='Ho (2003), Veer-Zaara (2004) and Kabhi Alvida Naa Kehna (2006). He earned critical acclaim for his'),\n",
       " Document(metadata={'source': 'data\\\\srk.txt'}, page_content='Kehna (2006). He earned critical acclaim for his portrayal of an alcoholic in the period romantic'),\n",
       " Document(metadata={'source': 'data\\\\srk.txt'}, page_content='portrayal of an alcoholic in the period romantic drama Devdas (2002), a NASA scientist in the'),\n",
       " Document(metadata={'source': 'data\\\\srk.txt'}, page_content='drama Devdas (2002), a NASA scientist in the social drama Swades (2004), a hockey coach in the'),\n",
       " Document(metadata={'source': 'data\\\\srk.txt'}, page_content='social drama Swades (2004), a hockey coach in the sports drama Chak De! India (2007), and a man'),\n",
       " Document(metadata={'source': 'data\\\\srk.txt'}, page_content='the sports drama Chak De! India (2007), and a man with Asperger syndrome in the drama My Name Is'),\n",
       " Document(metadata={'source': 'data\\\\srk.txt'}, page_content='with Asperger syndrome in the drama My Name Is Khan (2010). Further commercial successes came with'),\n",
       " Document(metadata={'source': 'data\\\\srk.txt'}, page_content='(2010). Further commercial successes came with the romances Om Shanti Om (2007) and Rab Ne Bana Di'),\n",
       " Document(metadata={'source': 'data\\\\srk.txt'}, page_content='romances Om Shanti Om (2007) and Rab Ne Bana Di Jodi (2008), and with his expansion to comedies in'),\n",
       " Document(metadata={'source': 'data\\\\srk.txt'}, page_content='(2008), and with his expansion to comedies in Chennai Express (2013) and Happy New Year (2014).'),\n",
       " Document(metadata={'source': 'data\\\\srk.txt'}, page_content='Chennai Express (2013) and Happy New Year (2014). Following a brief setback and hiatus, Khan made a'),\n",
       " Document(metadata={'source': 'data\\\\srk.txt'}, page_content='Following a brief setback and hiatus, Khan made a career comeback with the 2023 action thrillers'),\n",
       " Document(metadata={'source': 'data\\\\srk.txt'}, page_content='a career comeback with the 2023 action thrillers Pathaan and Jawan, both of which rank among the'),\n",
       " Document(metadata={'source': 'data\\\\srk.txt'}, page_content='Pathaan and Jawan, both of which rank among the highest-grossing Indian films.'),\n",
       " Document(metadata={'source': 'data\\\\srk.txt'}, page_content='As of 2015, Khan is co-chairman of the motion picture production company Red Chillies Entertainment'),\n",
       " Document(metadata={'source': 'data\\\\srk.txt'}, page_content='production company Red Chillies Entertainment and its subsidiaries and is the co-owner of the'),\n",
       " Document(metadata={'source': 'data\\\\srk.txt'}, page_content='and its subsidiaries and is the co-owner of the Indian Premier League cricket team Kolkata Knight'),\n",
       " Document(metadata={'source': 'data\\\\srk.txt'}, page_content='Indian Premier League cricket team Kolkata Knight Riders and the Caribbean Premier League team'),\n",
       " Document(metadata={'source': 'data\\\\srk.txt'}, page_content='Riders and the Caribbean Premier League team Trinbago Knight Riders. The media often label him as'),\n",
       " Document(metadata={'source': 'data\\\\srk.txt'}, page_content='Knight Riders. The media often label him as \"Brand SRK\" because of his many endorsements and'),\n",
       " Document(metadata={'source': 'data\\\\srk.txt'}, page_content='\"Brand SRK\" because of his many endorsements and entrepreneurship ventures. He is a frequent'),\n",
       " Document(metadata={'source': 'data\\\\srk.txt'}, page_content='and entrepreneurship ventures. He is a frequent television presenter and stage show performer.'),\n",
       " Document(metadata={'source': 'data\\\\srk.txt'}, page_content=\"television presenter and stage show performer. Khan's philanthropic endeavours have provided health\"),\n",
       " Document(metadata={'source': 'data\\\\srk.txt'}, page_content='philanthropic endeavours have provided health care and disaster relief, and he was honoured with'),\n",
       " Document(metadata={'source': 'data\\\\srk.txt'}, page_content=\"and disaster relief, and he was honoured with UNESCO's Pyramide con Marni award in 2011 for his\"),\n",
       " Document(metadata={'source': 'data\\\\srk.txt'}, page_content=\"UNESCO's Pyramide con Marni award in 2011 for his support of children's education and the World\"),\n",
       " Document(metadata={'source': 'data\\\\srk.txt'}, page_content=\"his support of children's education and the World Economic Forum's Crystal Award in 2018 for\"),\n",
       " Document(metadata={'source': 'data\\\\srk.txt'}, page_content=\"World Economic Forum's Crystal Award in 2018 for advocating for women's and children's rights in\"),\n",
       " Document(metadata={'source': 'data\\\\srk.txt'}, page_content=\"advocating for women's and children's rights in India. He regularly features in listings of the\"),\n",
       " Document(metadata={'source': 'data\\\\srk.txt'}, page_content='India. He regularly features in listings of the most influential people in Indian culture, and in'),\n",
       " Document(metadata={'source': 'data\\\\srk.txt'}, page_content='most influential people in Indian culture, and in 2008, Newsweek named him one of their fifty most'),\n",
       " Document(metadata={'source': 'data\\\\srk.txt'}, page_content='2008, Newsweek named him one of their fifty most powerful people in the world. In 2022, Khan was'),\n",
       " Document(metadata={'source': 'data\\\\srk.txt'}, page_content='powerful people in the world. In 2022, Khan was voted one of the 50 greatest actors of all time in'),\n",
       " Document(metadata={'source': 'data\\\\srk.txt'}, page_content=\"one of the 50 greatest actors of all time in a readers' poll by Empire, and in 2023, Time named him\"),\n",
       " Document(metadata={'source': 'data\\\\srk.txt'}, page_content='poll by Empire, and in 2023, Time named him as one of the most influential people in the world.[3]'),\n",
       " Document(metadata={'source': 'data\\\\srk.txt'}, page_content='Early life and family\\nParents'),\n",
       " Document(metadata={'source': 'data\\\\srk.txt'}, page_content=\"Khan's father, Meer Taj Mohammed Khan, was an Indian independence activist from Peshawar who\"),\n",
       " Document(metadata={'source': 'data\\\\srk.txt'}, page_content='an Indian independence activist from Peshawar who campaigned alongside the Khudai Khidmatgar, a'),\n",
       " Document(metadata={'source': 'data\\\\srk.txt'}, page_content='who campaigned alongside the Khudai Khidmatgar, a nonviolent resistance movement led by Abdul'),\n",
       " Document(metadata={'source': 'data\\\\srk.txt'}, page_content='a nonviolent resistance movement led by Abdul Ghaffar Khan that sought a united and independent'),\n",
       " Document(metadata={'source': 'data\\\\srk.txt'}, page_content='Ghaffar Khan that sought a united and independent India.[4][5] Mir was a follower of Abdul Ghaffar'),\n",
       " Document(metadata={'source': 'data\\\\srk.txt'}, page_content='India.[4][5] Mir was a follower of Abdul Ghaffar Khan,[6] and affiliated with the Indian National'),\n",
       " Document(metadata={'source': 'data\\\\srk.txt'}, page_content='Khan,[6] and affiliated with the Indian National Congress.[7] He was also the cousin of the major'),\n",
       " Document(metadata={'source': 'data\\\\srk.txt'}, page_content='Congress.[7] He was also the cousin of the major general in the Indian National Army Shah Nawaz'),\n",
       " Document(metadata={'source': 'data\\\\srk.txt'}, page_content='general in the Indian National Army Shah Nawaz Khan.[d] According to Khan his paternal grandfather,'),\n",
       " Document(metadata={'source': 'data\\\\srk.txt'}, page_content='According to Khan his paternal grandfather, Mir Jan Muhammad Khan, was an ethnic Pashtun (Pathan)'),\n",
       " Document(metadata={'source': 'data\\\\srk.txt'}, page_content='Jan Muhammad Khan, was an ethnic Pashtun (Pathan) from Afghanistan.[10][7][11] However, his'),\n",
       " Document(metadata={'source': 'data\\\\srk.txt'}, page_content='from Afghanistan.[10][7][11] However, his paternal cousins in Peshawar later clarified that the'),\n",
       " Document(metadata={'source': 'data\\\\srk.txt'}, page_content='cousins in Peshawar later clarified that the family speaks Hindko and is originally from Kashmir,'),\n",
       " Document(metadata={'source': 'data\\\\srk.txt'}, page_content='speaks Hindko and is originally from Kashmir, from where they settled in Peshawar centuries back,'),\n",
       " Document(metadata={'source': 'data\\\\srk.txt'}, page_content='where they settled in Peshawar centuries back, contradicting the claim that his grandfather was a'),\n",
       " Document(metadata={'source': 'data\\\\srk.txt'}, page_content=\"the claim that his grandfather was a Pashtun from Afghanistan.[7][12] As of 2010, Khan's paternal\"),\n",
       " Document(metadata={'source': 'data\\\\srk.txt'}, page_content=\"Afghanistan.[7][12] As of 2010, Khan's paternal family was still living in the Shah Wali Qataal\"),\n",
       " Document(metadata={'source': 'data\\\\srk.txt'}, page_content=\"family was still living in the Shah Wali Qataal area of Peshawar's Qissa Khwani Bazaar.[7]\"),\n",
       " Document(metadata={'source': 'data\\\\srk.txt'}, page_content='In 1946, Mir moved to Delhi to study law at Delhi University.[13] When the partition of India'),\n",
       " Document(metadata={'source': 'data\\\\srk.txt'}, page_content='Delhi University.[13] When the partition of India occurred in 1947, he was forced to stay in Delhi,'),\n",
       " Document(metadata={'source': 'data\\\\srk.txt'}, page_content='occurred in 1947, he was forced to stay in Delhi, and did not return to Peshawar until many years'),\n",
       " Document(metadata={'source': 'data\\\\srk.txt'}, page_content=\"and did not return to Peshawar until many years later.[14] Khan's mother, Lateef Fatima, a\"),\n",
       " Document(metadata={'source': 'data\\\\srk.txt'}, page_content=\"years later.[14] Khan's mother, Lateef Fatima, a magistrate, was the daughter of a senior\"),\n",
       " Document(metadata={'source': 'data\\\\srk.txt'}, page_content='a magistrate, was the daughter of a senior government engineer.[15][d][16] His parents were married'),\n",
       " Document(metadata={'source': 'data\\\\srk.txt'}, page_content='engineer.[15][d][16] His parents were married in 1959.[17]'),\n",
       " Document(metadata={'source': 'data\\\\srk.txt'}, page_content='Early life'),\n",
       " Document(metadata={'source': 'data\\\\srk.txt'}, page_content='Khan was born on 2 November 1965 into a Muslim family in New Delhi.[18] He spent the first five'),\n",
       " Document(metadata={'source': 'data\\\\srk.txt'}, page_content='family in New Delhi.[18] He spent the first five years of his life in Mangalore, where his maternal'),\n",
       " Document(metadata={'source': 'data\\\\srk.txt'}, page_content='of his life in Mangalore, where his maternal grandfather, Iftikhar Ahmed, served as chief engineer'),\n",
       " Document(metadata={'source': 'data\\\\srk.txt'}, page_content='Iftikhar Ahmed, served as chief engineer of the port in the 1960s.[19][20][e] Khan has described'),\n",
       " Document(metadata={'source': 'data\\\\srk.txt'}, page_content='port in the 1960s.[19][20][e] Khan has described himself on Twitter as \"half Hyderabadi (mother),'),\n",
       " Document(metadata={'source': 'data\\\\srk.txt'}, page_content='himself on Twitter as \"half Hyderabadi (mother), half Pathan (father), and some Kashmiri'),\n",
       " Document(metadata={'source': 'data\\\\srk.txt'}, page_content='(mother), half Pathan (father), and some Kashmiri (grandmother)\".[22]'),\n",
       " Document(metadata={'source': 'data\\\\srk.txt'}, page_content='His father died of cancer in 1981,[f] and his mother died in 1991 from complications of'),\n",
       " Document(metadata={'source': 'data\\\\srk.txt'}, page_content='and his mother died in 1991 from complications of diabetes.[37] After the death of their parents,'),\n",
       " Document(metadata={'source': 'data\\\\srk.txt'}, page_content='diabetes.[37] After the death of their parents, his older sister, Shahnaz Lalarukh (born 1960)[38]'),\n",
       " Document(metadata={'source': 'data\\\\srk.txt'}, page_content='older sister, Shahnaz Lalarukh (born 1960)[38] fell into a depressed state and Khan took on the'),\n",
       " Document(metadata={'source': 'data\\\\srk.txt'}, page_content='fell into a depressed state and Khan took on the responsibility of caring for her.[35][39] Shahnaz'),\n",
       " Document(metadata={'source': 'data\\\\srk.txt'}, page_content='responsibility of caring for her.[35][39] Shahnaz continues to live with her brother and his family'),\n",
       " Document(metadata={'source': 'data\\\\srk.txt'}, page_content='continues to live with her brother and his family in their Mumbai mansion.[40]'),\n",
       " Document(metadata={'source': 'data\\\\srk.txt'}, page_content='Acting career\\nSee also: Shah Rukh Khan filmography\\n1988–1992: Television and film debut'),\n",
       " Document(metadata={'source': 'data\\\\srk.txt'}, page_content=\"Khan's first starring role was in Lekh Tandon's television series Dil Dariya, which began shooting\"),\n",
       " Document(metadata={'source': 'data\\\\srk.txt'}, page_content='series Dil Dariya, which began shooting in 1988, but production delays led to the Raj Kumar Kapoor'),\n",
       " Document(metadata={'source': 'data\\\\srk.txt'}, page_content='but production delays led to the Raj Kumar Kapoor directed 1989 series Fauji becoming his'),\n",
       " Document(metadata={'source': 'data\\\\srk.txt'}, page_content='Kapoor directed 1989 series Fauji becoming his television debut instead.[41] In the series, which'),\n",
       " Document(metadata={'source': 'data\\\\srk.txt'}, page_content='debut instead.[41] In the series, which depicted a realistic look at the training of army cadets,'),\n",
       " Document(metadata={'source': 'data\\\\srk.txt'}, page_content='a realistic look at the training of army cadets, he played the leading role of Abhimanyu'),\n",
       " Document(metadata={'source': 'data\\\\srk.txt'}, page_content='cadets, he played the leading role of Abhimanyu Rai.[42][43] This led to further appearances in'),\n",
       " Document(metadata={'source': 'data\\\\srk.txt'}, page_content=\"Rai.[42][43] This led to further appearances in Aziz Mirza's television series Circus (1989–90) and\"),\n",
       " Document(metadata={'source': 'data\\\\srk.txt'}, page_content=\"Mirza's television series Circus (1989–90) and Mani Kaul's miniseries Idiot (1992).[44] Khan also\"),\n",
       " Document(metadata={'source': 'data\\\\srk.txt'}, page_content=\"Kaul's miniseries Idiot (1992).[44] Khan also played minor parts in the serials Umeed (1989) and\"),\n",
       " Document(metadata={'source': 'data\\\\srk.txt'}, page_content='minor parts in the serials Umeed (1989) and Wagle Ki Duniya (1988–90),[44] and in the'),\n",
       " Document(metadata={'source': 'data\\\\srk.txt'}, page_content='and Wagle Ki Duniya (1988–90),[44] and in the English-language television film In Which Annie Gives'),\n",
       " Document(metadata={'source': 'data\\\\srk.txt'}, page_content='television film In Which Annie Gives It Those Ones (1989).[45] His appearances in these serials led'),\n",
       " Document(metadata={'source': 'data\\\\srk.txt'}, page_content='(1989).[45] His appearances in these serials led critics to compare his look and acting style with'),\n",
       " Document(metadata={'source': 'data\\\\srk.txt'}, page_content='critics to compare his look and acting style with those of the film actor Dilip Kumar,[46] but Khan'),\n",
       " Document(metadata={'source': 'data\\\\srk.txt'}, page_content='those of the film actor Dilip Kumar,[46] but Khan was not interested in film acting at the time,'),\n",
       " Document(metadata={'source': 'data\\\\srk.txt'}, page_content='was not interested in film acting at the time, thinking that he was not good enough.[44][47]'),\n",
       " Document(metadata={'source': 'data\\\\srk.txt'}, page_content='Khan changed his decision to act in films in April 1991,[48] citing it as a way to escape the grief'),\n",
       " Document(metadata={'source': 'data\\\\srk.txt'}, page_content=\"1991,[48] citing it as a way to escape the grief of his mother's death.[49] He moved from Delhi to\"),\n",
       " Document(metadata={'source': 'data\\\\srk.txt'}, page_content=\"of his mother's death.[49] He moved from Delhi to Mumbai to pursue a full-time career in Bollywood\"),\n",
       " Document(metadata={'source': 'data\\\\srk.txt'}, page_content='Mumbai to pursue a full-time career in Bollywood and was quickly signed to four films.[48] His'),\n",
       " Document(metadata={'source': 'data\\\\srk.txt'}, page_content=\"and was quickly signed to four films.[48] His first offer was for Hema Malini's directorial debut\"),\n",
       " Document(metadata={'source': 'data\\\\srk.txt'}, page_content=\"offer was for Hema Malini's directorial debut Dil Aashna Hai,[34][42] and by June, he had started\"),\n",
       " Document(metadata={'source': 'data\\\\srk.txt'}, page_content='Aashna Hai,[34][42] and by June, he had started his first shoot.[50] His film debut was in Deewana,'),\n",
       " Document(metadata={'source': 'data\\\\srk.txt'}, page_content='first shoot.[50] His film debut was in Deewana, which was released in June 1992.[51] In it he'),\n",
       " Document(metadata={'source': 'data\\\\srk.txt'}, page_content='which was released in June 1992.[51] In it he starred alongside Divya Bharti as the second male'),\n",
       " Document(metadata={'source': 'data\\\\srk.txt'}, page_content='starred alongside Divya Bharti as the second male lead behind Rishi Kapoor. Deewana became a box'),\n",
       " Document(metadata={'source': 'data\\\\srk.txt'}, page_content=\"lead behind Rishi Kapoor. Deewana became a box office hit and launched Khan's Bollywood career;[52]\"),\n",
       " Document(metadata={'source': 'data\\\\srk.txt'}, page_content=\"hit and launched Khan's Bollywood career;[52] he earned the Filmfare Best Male Debut Award for his\"),\n",
       " Document(metadata={'source': 'data\\\\srk.txt'}, page_content='earned the Filmfare Best Male Debut Award for his performance.[53] Also released in 1992 were'),\n",
       " Document(metadata={'source': 'data\\\\srk.txt'}, page_content=\"his performance.[53] Also released in 1992 were Khan's first films as the male lead, Chamatkar, Dil\"),\n",
       " Document(metadata={'source': 'data\\\\srk.txt'}, page_content='first films as the male lead, Chamatkar, Dil Aashna Hai, and the comedy Raju Ban Gaya Gentleman,'),\n",
       " Document(metadata={'source': 'data\\\\srk.txt'}, page_content='Hai, and the comedy Raju Ban Gaya Gentleman, which was his first of many collaborations with the'),\n",
       " Document(metadata={'source': 'data\\\\srk.txt'}, page_content='was his first of many collaborations with the actress Juhi Chawla.[54] His initial film roles saw'),\n",
       " Document(metadata={'source': 'data\\\\srk.txt'}, page_content='Juhi Chawla.[54] His initial film roles saw him play characters who displayed energy and'),\n",
       " Document(metadata={'source': 'data\\\\srk.txt'}, page_content='saw him play characters who displayed energy and enthusiasm. According to Arnab Ray of Daily News'),\n",
       " Document(metadata={'source': 'data\\\\srk.txt'}, page_content='enthusiasm. According to Arnab Ray of Daily News and Analysis, Khan brought a new kind of acting as'),\n",
       " Document(metadata={'source': 'data\\\\srk.txt'}, page_content='Analysis, Khan brought a new kind of acting as he was \"sliding down stairs on a slab of ice,'),\n",
       " Document(metadata={'source': 'data\\\\srk.txt'}, page_content='as he was \"sliding down stairs on a slab of ice, cartwheeling, somersaulting, lips trembling, eyes'),\n",
       " Document(metadata={'source': 'data\\\\srk.txt'}, page_content='cartwheeling, somersaulting, lips trembling, eyes trembling, bringing to the screen the kind of'),\n",
       " Document(metadata={'source': 'data\\\\srk.txt'}, page_content='trembling, bringing to the screen the kind of physical energy ... visceral, intense, maniacal one'),\n",
       " Document(metadata={'source': 'data\\\\srk.txt'}, page_content='energy ... visceral, intense, maniacal one moment and cloyingly boyish the next.\"[55]'),\n",
       " Document(metadata={'source': 'data\\\\srk.txt'}, page_content='2023–present: Resurgence'),\n",
       " Document(metadata={'source': 'data\\\\srk.txt'}, page_content='In 2023, Khan reunited with Yash Raj Films in the action thriller Pathaan (2023), set in the YRF'),\n",
       " Document(metadata={'source': 'data\\\\srk.txt'}, page_content='action thriller Pathaan (2023), set in the YRF Spy Universe, in which he played an exiled field'),\n",
       " Document(metadata={'source': 'data\\\\srk.txt'}, page_content='Spy Universe, in which he played an exiled field agent assigned to stop a terrorist attack in'),\n",
       " Document(metadata={'source': 'data\\\\srk.txt'}, page_content=\"agent assigned to stop a terrorist attack in India.[201] Critic Sukanya Verma took note of Khan's\"),\n",
       " Document(metadata={'source': 'data\\\\srk.txt'}, page_content='Critic Sukanya Verma took note of Khan\\'s \"weathered intensity, grizzly charisma and trademark wit\",'),\n",
       " Document(metadata={'source': 'data\\\\srk.txt'}, page_content='intensity, grizzly charisma and trademark wit\", while Kaveree Bamzai termed it a \"much-needed'),\n",
       " Document(metadata={'source': 'data\\\\srk.txt'}, page_content='while Kaveree Bamzai termed it a \"much-needed makeover\" of an ageing Khan into an action'),\n",
       " Document(metadata={'source': 'data\\\\srk.txt'}, page_content='makeover\" of an ageing Khan into an action star.[202][203] Pathaan broke several box-office'),\n",
       " Document(metadata={'source': 'data\\\\srk.txt'}, page_content=\"star.[202][203] Pathaan broke several box-office records, thus re-establishing Khan's\"),\n",
       " Document(metadata={'source': 'data\\\\srk.txt'}, page_content=\"box-office records, thus re-establishing Khan's stardom.[204][205] Khan took on another action film\"),\n",
       " Document(metadata={'source': 'data\\\\srk.txt'}, page_content=\"Khan took on another action film role in the same year in Atlee's Jawan, playing father and son\"),\n",
       " Document(metadata={'source': 'data\\\\srk.txt'}, page_content=\"year in Atlee's Jawan, playing father and son doppelgängers.[206] Nandini Ramnath of Scroll.in\"),\n",
       " Document(metadata={'source': 'data\\\\srk.txt'}, page_content='doppelgängers.[206] Nandini Ramnath of Scroll.in wrote that \"Khan\\'s screen image – expansive,'),\n",
       " Document(metadata={'source': 'data\\\\srk.txt'}, page_content='wrote that \"Khan\\'s screen image – expansive, suffused with love, heroic in an old-fashioned way'),\n",
       " Document(metadata={'source': 'data\\\\srk.txt'}, page_content='with love, heroic in an old-fashioned way without being aggressively macho, irreverent but also'),\n",
       " Document(metadata={'source': 'data\\\\srk.txt'}, page_content='being aggressively macho, irreverent but also sincere – helps sell a conceit that might have'),\n",
       " Document(metadata={'source': 'data\\\\srk.txt'}, page_content='sincere – helps sell a conceit that might have crashed with any other actor\".[207] Jawan broke the'),\n",
       " Document(metadata={'source': 'data\\\\srk.txt'}, page_content='with any other actor\".[207] Jawan broke the records set by Pathaan.[208] Both films grossed over'),\n",
       " Document(metadata={'source': 'data\\\\srk.txt'}, page_content='set by Pathaan.[208] Both films grossed over ₹10 billion (US$110 million) to rank, respectively, as'),\n",
       " Document(metadata={'source': 'data\\\\srk.txt'}, page_content=\"(US$110 million) to rank, respectively, as Hindi cinema's second and third biggest grossers\"),\n",
       " Document(metadata={'source': 'data\\\\srk.txt'}, page_content=\"Hindi cinema's second and third biggest grossers worldwide,[209] making Khan the first Indian actor\"),\n",
       " Document(metadata={'source': 'data\\\\srk.txt'}, page_content='making Khan the first Indian actor to deliver two films that earned over ₹10 billion.[210]'),\n",
       " Document(metadata={'source': 'data\\\\srk.txt'}, page_content=\"In his final release of 2023, Khan starred in Rajkumar Hirani's Dunki, a social drama about an\"),\n",
       " Document(metadata={'source': 'data\\\\srk.txt'}, page_content=\"Rajkumar Hirani's Dunki, a social drama about an illegal immigration technique named donkey\"),\n",
       " Document(metadata={'source': 'data\\\\srk.txt'}, page_content='an illegal immigration technique named donkey flight.[211][212] Uday Bhatia wrote that his role as'),\n",
       " Document(metadata={'source': 'data\\\\srk.txt'}, page_content='Uday Bhatia wrote that his role as a \"romantic feminist soldier patriot friend\" marked \"a break'),\n",
       " Document(metadata={'source': 'data\\\\srk.txt'}, page_content='feminist soldier patriot friend\" marked \"a break from Khan the action star but offers no respite'),\n",
       " Document(metadata={'source': 'data\\\\srk.txt'}, page_content='from Khan the action star but offers no respite from the Khan the perfect screen idol\".[213]'),\n",
       " Document(metadata={'source': 'data\\\\srk.txt'}, page_content='from the Khan the perfect screen idol\".[213] Grossing over ₹4 billion (US$46 million), Dunki'),\n",
       " Document(metadata={'source': 'data\\\\srk.txt'}, page_content=\"Grossing over ₹4 billion (US$46 million), Dunki emerged as Khan's third consecutive commercial\"),\n",
       " Document(metadata={'source': 'data\\\\srk.txt'}, page_content=\"emerged as Khan's third consecutive commercial success of the year, although it did not match up to\"),\n",
       " Document(metadata={'source': 'data\\\\srk.txt'}, page_content='of the year, although it did not match up to the record grosses of Pathaan or Jawan.[214][215]'),\n",
       " Document(metadata={'source': 'data\\\\srk.txt'}, page_content='Ownership of Kolkata Knight Riders'),\n",
       " Document(metadata={'source': 'data\\\\srk.txt'}, page_content='In 2008, Khan, in partnership with Juhi Chawla and her husband Jay Mehta, acquired ownership rights'),\n",
       " Document(metadata={'source': 'data\\\\srk.txt'}, page_content='her husband Jay Mehta, acquired ownership rights for the franchise representing Kolkata in the'),\n",
       " Document(metadata={'source': 'data\\\\srk.txt'}, page_content='for the franchise representing Kolkata in the Twenty20 cricket tournament Indian Premier League'),\n",
       " Document(metadata={'source': 'data\\\\srk.txt'}, page_content='Twenty20 cricket tournament Indian Premier League (IPL) for US$75.09 million, and named the team'),\n",
       " Document(metadata={'source': 'data\\\\srk.txt'}, page_content='(IPL) for US$75.09 million, and named the team Kolkata Knight Riders (KKR).[242] As of 2009, KKR'),\n",
       " Document(metadata={'source': 'data\\\\srk.txt'}, page_content='Kolkata Knight Riders (KKR).[242] As of 2009, KKR was one of the richest teams in the IPL, with a'),\n",
       " Document(metadata={'source': 'data\\\\srk.txt'}, page_content='was one of the richest teams in the IPL, with a brand value of US$42.1 million.[243] The team'),\n",
       " Document(metadata={'source': 'data\\\\srk.txt'}, page_content='a brand value of US$42.1 million.[243] The team performed poorly on the field during the first'),\n",
       " Document(metadata={'source': 'data\\\\srk.txt'}, page_content='performed poorly on the field during the first three years.[244] Their performance improved over'),\n",
       " Document(metadata={'source': 'data\\\\srk.txt'}, page_content='three years.[244] Their performance improved over time, and they became the champions for the first'),\n",
       " Document(metadata={'source': 'data\\\\srk.txt'}, page_content='time, and they became the champions for the first time in 2012[244] and repeated the feat in'),\n",
       " Document(metadata={'source': 'data\\\\srk.txt'}, page_content='first time in 2012[244] and repeated the feat in 2014.[245] The Knight Riders hold the record for'),\n",
       " Document(metadata={'source': 'data\\\\srk.txt'}, page_content='2014.[245] The Knight Riders hold the record for the longest winning streak by any Indian team in'),\n",
       " Document(metadata={'source': 'data\\\\srk.txt'}, page_content='the longest winning streak by any Indian team in T20s (14).[246] They won their third IPL title in'),\n",
       " Document(metadata={'source': 'data\\\\srk.txt'}, page_content='T20s (14).[246] They won their third IPL title in the 2024 edition.[247]'),\n",
       " Document(metadata={'source': 'data\\\\srk.txt'}, page_content='Awards and recognitions\\nMain article: List of awards and nominations received by Shah Rukh Khan'),\n",
       " Document(metadata={'source': 'data\\\\srk.txt'}, page_content='Khan is one of the most decorated Bollywood actors.[53] He has received 14 Filmfare Awards from 30'),\n",
       " Document(metadata={'source': 'data\\\\srk.txt'}, page_content='He has received 14 Filmfare Awards from 30 nominations and special awards,[313][h] including'),\n",
       " Document(metadata={'source': 'data\\\\srk.txt'}, page_content='nominations and special awards,[313][h] including winning eight for Best Actor; he is tied for the'),\n",
       " Document(metadata={'source': 'data\\\\srk.txt'}, page_content='winning eight for Best Actor; he is tied for the most in this category with Dilip Kumar.[151] Khan'),\n",
       " Document(metadata={'source': 'data\\\\srk.txt'}, page_content='most in this category with Dilip Kumar.[151] Khan has won the Filmfare Award for Best Actor for his'),\n",
       " Document(metadata={'source': 'data\\\\srk.txt'}, page_content='has won the Filmfare Award for Best Actor for his performances in Baazigar (1993), Dilwale Dulhania'),\n",
       " Document(metadata={'source': 'data\\\\srk.txt'}, page_content='performances in Baazigar (1993), Dilwale Dulhania Le Jayenge (1995), Dil To Pagal Hai (1997), Kuch'),\n",
       " Document(metadata={'source': 'data\\\\srk.txt'}, page_content='Le Jayenge (1995), Dil To Pagal Hai (1997), Kuch Kuch Hota Hai (1998), Devdas (2002), Swades'),\n",
       " Document(metadata={'source': 'data\\\\srk.txt'}, page_content='Kuch Kuch Hota Hai (1998), Devdas (2002), Swades (2004), Chak De! India (2007) and My Name Is Khan'),\n",
       " Document(metadata={'source': 'data\\\\srk.txt'}, page_content='(2004), Chak De! India (2007) and My Name Is Khan (2010).[62]'),\n",
       " Document(metadata={'source': 'data\\\\srk.txt'}, page_content='Although he has never won a National Film Award,[314] he was awarded the Padma Shri by the'),\n",
       " Document(metadata={'source': 'data\\\\srk.txt'}, page_content='Award,[314] he was awarded the Padma Shri by the Government of India in 2005.[53] The Government of'),\n",
       " Document(metadata={'source': 'data\\\\srk.txt'}, page_content='of India in 2005.[53] The Government of France has awarded him both the Order of Arts and Letters'),\n",
       " Document(metadata={'source': 'data\\\\srk.txt'}, page_content='awarded him both the Order of Arts and Letters (2007),[315] and the fifth degree of the French'),\n",
       " Document(metadata={'source': 'data\\\\srk.txt'}, page_content=\"(2007),[315] and the fifth degree of the French Legion of Honour, the Chevalier Légion d'honneur\"),\n",
       " Document(metadata={'source': 'data\\\\srk.txt'}, page_content=\"Legion of Honour, the Chevalier Légion d'honneur (2014).[316] Khan has received five honorary\"),\n",
       " Document(metadata={'source': 'data\\\\srk.txt'}, page_content='(2014).[316] Khan has received five honorary doctorates; the first from The University of'),\n",
       " Document(metadata={'source': 'data\\\\srk.txt'}, page_content='doctorates; the first from The University of Bedfordshire in 2009,[317] the second from The'),\n",
       " Document(metadata={'source': 'data\\\\srk.txt'}, page_content='of Bedfordshire in 2009,[317] the second from The University of Edinburgh in 2015,[318] the third'),\n",
       " Document(metadata={'source': 'data\\\\srk.txt'}, page_content='University of Edinburgh in 2015,[318] the third from Maulana Azad National Urdu University in'),\n",
       " Document(metadata={'source': 'data\\\\srk.txt'}, page_content='from Maulana Azad National Urdu University in 2016,[319] and his latest from The University of Law'),\n",
       " Document(metadata={'source': 'data\\\\srk.txt'}, page_content='and his latest from The University of Law and La Trobe University in 2019.[320][321]'),\n",
       " Document(metadata={'source': 'data\\\\srk.txt'}, page_content='Personal life\\nShah Rukh Khan standing beside his wife Gauri at a party in 2012'),\n",
       " Document(metadata={'source': 'data\\\\srk.txt'}, page_content='Khan with his wife Gauri in 2012'),\n",
       " Document(metadata={'source': 'data\\\\srk.txt'}, page_content='Khan married Gauri Chibber, a Punjabi Hindu, in a traditional Hindu wedding ceremony on 25 October'),\n",
       " Document(metadata={'source': 'data\\\\srk.txt'}, page_content='traditional Hindu wedding ceremony on 25 October 1991, after a six-year courtship.[322][323] They'),\n",
       " Document(metadata={'source': 'data\\\\srk.txt'}, page_content='1991, after a six-year courtship.[322][323] They have a son Aryan (born 1997)[324] and a daughter'),\n",
       " Document(metadata={'source': 'data\\\\srk.txt'}, page_content='have a son Aryan (born 1997)[324] and a daughter Suhana (born 2000).[325] In 2013, they became'),\n",
       " Document(metadata={'source': 'data\\\\srk.txt'}, page_content='Suhana (born 2000).[325] In 2013, they became parents of a third child named AbRam,[326] who was'),\n",
       " Document(metadata={'source': 'data\\\\srk.txt'}, page_content='of a third child named AbRam,[326] who was born through a surrogate mother.[327] Both his elder'),\n",
       " Document(metadata={'source': 'data\\\\srk.txt'}, page_content='through a surrogate mother.[327] Both his elder children have expressed interest in entering the'),\n",
       " Document(metadata={'source': 'data\\\\srk.txt'}, page_content='children have expressed interest in entering the entertainment industry; Khan has stated that'),\n",
       " Document(metadata={'source': 'data\\\\srk.txt'}, page_content='the entertainment industry; Khan has stated that Aryan, who studied filmmaking at the USC School of'),\n",
       " Document(metadata={'source': 'data\\\\srk.txt'}, page_content='who studied filmmaking at the USC School of Cinematic Arts in California, aspires to become a'),\n",
       " Document(metadata={'source': 'data\\\\srk.txt'}, page_content='Cinematic Arts in California, aspires to become a writer-director,[328][329] while Suhana, who'),\n",
       " Document(metadata={'source': 'data\\\\srk.txt'}, page_content=\"a writer-director,[328][329] while Suhana, who served as assistant director for Khan's film Zero\"),\n",
       " Document(metadata={'source': 'data\\\\srk.txt'}, page_content=\"served as assistant director for Khan's film Zero (2018), is studying drama and acting at NYU's\"),\n",
       " Document(metadata={'source': 'data\\\\srk.txt'}, page_content=\"(2018), is studying drama and acting at NYU's Tisch School of the Arts for higher\"),\n",
       " Document(metadata={'source': 'data\\\\srk.txt'}, page_content=\"at NYU's Tisch School of the Arts for higher education.[330][331] Suhana made her acting debut in\"),\n",
       " Document(metadata={'source': 'data\\\\srk.txt'}, page_content='Suhana made her acting debut in November 2019, in a short film titled \"The Grey Part of Blue.\"[332]'),\n",
       " Document(metadata={'source': 'data\\\\srk.txt'}, page_content='a short film titled \"The Grey Part of Blue.\"[332] According to Khan, while he strongly believes in'),\n",
       " Document(metadata={'source': 'data\\\\srk.txt'}, page_content=\"According to Khan, while he strongly believes in Islam, he also values his wife's religion. His\"),\n",
       " Document(metadata={'source': 'data\\\\srk.txt'}, page_content=\"in Islam, he also values his wife's religion. His children follow both religions; at his home the\"),\n",
       " Document(metadata={'source': 'data\\\\srk.txt'}, page_content=\"children follow both religions; at his home the Qur'an is situated next to the murti of Hindu\"),\n",
       " Document(metadata={'source': 'data\\\\srk.txt'}, page_content=\"the Qur'an is situated next to the murti of Hindu deities.[333]\"),\n",
       " Document(metadata={'source': 'data\\\\srk.txt'}, page_content='Although Khan was given the birth name Shahrukh Khan, he prefers his name to be written as Shah'),\n",
       " Document(metadata={'source': 'data\\\\srk.txt'}, page_content='Khan, he prefers his name to be written as Shah Rukh Khan, and is commonly referred to by the'),\n",
       " Document(metadata={'source': 'data\\\\srk.txt'}, page_content='Rukh Khan, and is commonly referred to by the initialism SRK.[334]')]"
      ]
     },
     "execution_count": 13,
     "metadata": {},
     "output_type": "execute_result"
    }
   ],
   "source": [
    "new_docs"
   ]
  },
  {
   "cell_type": "code",
   "execution_count": 3,
   "id": "c0159727",
   "metadata": {
    "scrolled": true
   },
   "outputs": [
    {
     "name": "stderr",
     "output_type": "stream",
     "text": [
      "C:\\Users\\KABIR\\AppData\\Local\\Temp\\ipykernel_17900\\1169486258.py:5: LangChainDeprecationWarning: The class `CohereEmbeddings` was deprecated in LangChain 0.0.30 and will be removed in 1.0. An updated version of the class exists in the :class:`~langchain-cohere package and should be used instead. To use it run `pip install -U :class:`~langchain-cohere` and import as `from :class:`~langchain_cohere import CohereEmbeddings``.\n",
      "  embeddings = CohereEmbeddings(user_agent=\"langchain\")\n"
     ]
    }
   ],
   "source": [
    "from langchain.embeddings import CohereEmbeddings\n",
    "import os\n",
    "\n",
    "os.environ[\"COHERE_API_KEY\"]='Cohere Api Key'\n",
    "embeddings = CohereEmbeddings(user_agent=\"langchain\")"
   ]
  },
  {
   "cell_type": "code",
   "execution_count": 14,
   "id": "93e08ef5",
   "metadata": {},
   "outputs": [],
   "source": [
    "db = FAISS.from_documents(new_docs, embeddings)"
   ]
  },
  {
   "cell_type": "code",
   "execution_count": 15,
   "id": "9e5fe49f",
   "metadata": {},
   "outputs": [],
   "source": [
    "retriever = db.as_retriever(search_kwargs={\"k\": 3})"
   ]
  },
  {
   "cell_type": "code",
   "execution_count": 16,
   "id": "a7979712",
   "metadata": {},
   "outputs": [
    {
     "name": "stderr",
     "output_type": "stream",
     "text": [
      "C:\\Users\\KABIR\\AppData\\Local\\Temp\\ipykernel_17900\\72114150.py:3: LangChainDeprecationWarning: The method `BaseRetriever.get_relevant_documents` was deprecated in langchain-core 0.1.46 and will be removed in 1.0. Use :meth:`~invoke` instead.\n",
      "  res = retriever.get_relevant_documents(query)\n"
     ]
    }
   ],
   "source": [
    "query = \"tell me abount Personal life of Shahrukh Khan\"\n",
    "\n",
    "res = retriever.get_relevant_documents(query)"
   ]
  },
  {
   "cell_type": "code",
   "execution_count": 17,
   "id": "b041e921",
   "metadata": {},
   "outputs": [
    {
     "data": {
      "text/plain": [
       "[Document(metadata={'source': 'data\\\\srk.txt'}, page_content='Personal life\\nShah Rukh Khan standing beside his wife Gauri at a party in 2012'),\n",
       " Document(metadata={'source': 'data\\\\srk.txt'}, page_content='Shah Rukh Khan[a] (pronounced [ˈʃaːɦɾʊx xäːn] ⓘ; born 2 November 1965), also known by the'),\n",
       " Document(metadata={'source': 'data\\\\srk.txt'}, page_content='Works\\tFull list\\nSpouse\\tGauri Khan \\u200b(m. 1991)\\u200b\\nChildren\\t3, including Aryan and Suhana')]"
      ]
     },
     "execution_count": 17,
     "metadata": {},
     "output_type": "execute_result"
    }
   ],
   "source": [
    "res"
   ]
  },
  {
   "cell_type": "code",
   "execution_count": 18,
   "id": "ea78cf2e",
   "metadata": {},
   "outputs": [],
   "source": [
    "res = retriever.invoke(query)"
   ]
  },
  {
   "cell_type": "code",
   "execution_count": 19,
   "id": "6a6c1b45",
   "metadata": {},
   "outputs": [
    {
     "data": {
      "text/plain": [
       "[Document(metadata={'source': 'data\\\\srk.txt'}, page_content='Personal life\\nShah Rukh Khan standing beside his wife Gauri at a party in 2012'),\n",
       " Document(metadata={'source': 'data\\\\srk.txt'}, page_content='Shah Rukh Khan[a] (pronounced [ˈʃaːɦɾʊx xäːn] ⓘ; born 2 November 1965), also known by the'),\n",
       " Document(metadata={'source': 'data\\\\srk.txt'}, page_content='Works\\tFull list\\nSpouse\\tGauri Khan \\u200b(m. 1991)\\u200b\\nChildren\\t3, including Aryan and Suhana')]"
      ]
     },
     "execution_count": 19,
     "metadata": {},
     "output_type": "execute_result"
    }
   ],
   "source": [
    "res"
   ]
  },
  {
   "cell_type": "code",
   "execution_count": 20,
   "id": "d887f756",
   "metadata": {},
   "outputs": [
    {
     "data": {
      "text/plain": [
       "{'source': 'data\\\\srk.txt'}"
      ]
     },
     "execution_count": 20,
     "metadata": {},
     "output_type": "execute_result"
    }
   ],
   "source": [
    "res[0].metadata"
   ]
  },
  {
   "cell_type": "code",
   "execution_count": 21,
   "id": "38295534",
   "metadata": {},
   "outputs": [
    {
     "name": "stdout",
     "output_type": "stream",
     "text": [
      "page_content='Personal life\n",
      "Shah Rukh Khan standing beside his wife Gauri at a party in 2012' metadata={'source': 'data\\\\srk.txt'}\n",
      "page_content='Shah Rukh Khan[a] (pronounced [ˈʃaːɦɾʊx xäːn] ⓘ; born 2 November 1965), also known by the' metadata={'source': 'data\\\\srk.txt'}\n",
      "page_content='Works\tFull list\n",
      "Spouse\tGauri Khan ​(m. 1991)​\n",
      "Children\t3, including Aryan and Suhana' metadata={'source': 'data\\\\srk.txt'}\n"
     ]
    }
   ],
   "source": [
    "for doc in res:\n",
    "    print(doc)"
   ]
  },
  {
   "cell_type": "markdown",
   "id": "cffcc362",
   "metadata": {},
   "source": [
    "# Agent State "
   ]
  },
  {
   "cell_type": "code",
   "execution_count": 22,
   "id": "fd41402b",
   "metadata": {},
   "outputs": [],
   "source": [
    "agentState = {}"
   ]
  },
  {
   "cell_type": "code",
   "execution_count": 24,
   "id": "af262733",
   "metadata": {},
   "outputs": [],
   "source": [
    "agentState['message'] = []\n",
    "agentState['message'].append(\"hi hello\")"
   ]
  },
  {
   "cell_type": "code",
   "execution_count": 25,
   "id": "cf0c362f",
   "metadata": {},
   "outputs": [
    {
     "data": {
      "text/plain": [
       "{'message': ['hi hello']}"
      ]
     },
     "execution_count": 25,
     "metadata": {},
     "output_type": "execute_result"
    }
   ],
   "source": [
    "agentState"
   ]
  },
  {
   "cell_type": "markdown",
   "id": "808025c3",
   "metadata": {},
   "source": [
    "# first function "
   ]
  },
  {
   "cell_type": "code",
   "execution_count": 27,
   "id": "5c835ae6",
   "metadata": {},
   "outputs": [],
   "source": [
    "def llm_fun(agentState):\n",
    "    message = agentState['message']\n",
    "    question = message[-1]\n",
    "    \n",
    "    chat_prompt = \"Your task is to provide only the brief answer based on the user query. \\\n",
    "        Don't include too much reasoning. Following is the user query: \" + question\n",
    "    \n",
    "    res = llm.invoke(chat_prompt)\n",
    "    \n",
    "    agentState['message'].append(res.content)\n",
    "    return agentState"
   ]
  },
  {
   "cell_type": "code",
   "execution_count": null,
   "id": "13ab8224",
   "metadata": {},
   "outputs": [],
   "source": []
  },
  {
   "cell_type": "code",
   "execution_count": 28,
   "id": "39b6068c",
   "metadata": {},
   "outputs": [],
   "source": [
    "def rag_fun(agentState):\n",
    "    message = agentState['message']\n",
    "    question = message[0]\n",
    "    \n",
    "    template = \"\"\"You are an AI assistant specializing in document retrieval. \n",
    "    Use ONLY the provided context to answer. If the context lacks an answer, reply: \n",
    "    \"I don't know based on the provided document.\"\n",
    "\n",
    "    Context:\n",
    "    {context}\n",
    "\n",
    "    User's Question:\n",
    "    {question}\n",
    "\n",
    "    Answer:\"\"\"\n",
    "    \n",
    "    \n",
    "    prompt = ChatPromptTemplate.from_template(template)\n",
    "    \n",
    "    retrieval_chain = (\n",
    "        {'context':retriever, 'question': RunnablePassthrough()}\n",
    "        | prompt\n",
    "        |llm\n",
    "        |StrOutputParser()\n",
    "    )\n",
    "    \n",
    "    result = retrieval_chain.invoke(question)\n",
    "    return result"
   ]
  },
  {
   "cell_type": "markdown",
   "id": "8badf4c7",
   "metadata": {},
   "source": [
    "# add graph"
   ]
  },
  {
   "cell_type": "code",
   "execution_count": 31,
   "id": "1ce4fe5d",
   "metadata": {},
   "outputs": [],
   "source": [
    "rag_app = Graph()\n",
    "rag_app.add_node('llm', llm_fun)\n",
    "rag_app.add_node('rag', rag_fun)\n",
    "rag_app.add_edge('llm', 'rag')\n",
    "rag_app.set_entry_point('llm')\n",
    "rag_app.set_finish_point('rag')\n",
    "rag_app = rag_app.compile()"
   ]
  },
  {
   "cell_type": "code",
   "execution_count": 32,
   "id": "de17fce4",
   "metadata": {},
   "outputs": [
    {
     "data": {
      "image/png": "[encoded data removed]",
      "text/plain": [
       "<langgraph.graph.graph.CompiledGraph object at 0x00000246F91C3010>"
      ]
     },
     "execution_count": 32,
     "metadata": {},
     "output_type": "execute_result"
    }
   ],
   "source": [
    "rag_app"
   ]
  },
  {
   "cell_type": "code",
   "execution_count": 33,
   "id": "61f45137",
   "metadata": {},
   "outputs": [
    {
     "data": {
      "text/plain": [
       "'Shah Rukh Khan standing beside his wife Gauri at a party in 2012\\n'"
      ]
     },
     "execution_count": 33,
     "metadata": {},
     "output_type": "execute_result"
    }
   ],
   "source": [
    "rag_app.invoke({'message': ['tell me about personal life of Shahrukh Khan']})"
   ]
  },
  {
   "cell_type": "code",
   "execution_count": 35,
   "id": "21687cfb",
   "metadata": {},
   "outputs": [
    {
     "data": {
      "text/plain": [
       "\"I don't know based on the provided document.\\n\""
      ]
     },
     "execution_count": 35,
     "metadata": {},
     "output_type": "execute_result"
    }
   ],
   "source": [
    "rag_app.invoke({'message': ['tell me about personal life of Ameer Khan']})"
   ]
  },
  {
   "cell_type": "code",
   "execution_count": 36,
   "id": "3d629855",
   "metadata": {},
   "outputs": [],
   "source": [
    "input = {'message': ['tell me about personal life of Shahrukh Khan']}"
   ]
  },
  {
   "cell_type": "code",
   "execution_count": 37,
   "id": "a9642ac6",
   "metadata": {},
   "outputs": [
    {
     "name": "stdout",
     "output_type": "stream",
     "text": [
      "Output from node 'llm':\n",
      "---\n",
      "{'message': ['tell me about personal life of Shahrukh Khan', 'Married to Gauri Khan since 1991, with three children: Aryan, Suhana, and AbRam.  Resides primarily in Mumbai, at their home, Mannat.\\n']}\n",
      "\n",
      "---\n",
      "\n",
      "Output from node 'rag':\n",
      "---\n",
      "Shah Rukh Khan standing beside his wife Gauri at a party in 2012\n",
      "\n",
      "\n",
      "---\n",
      "\n"
     ]
    }
   ],
   "source": [
    "for output in rag_app.stream(input):\n",
    "    for key, value in output.items():\n",
    "        print(f\"Output from node '{key}':\")\n",
    "        print(\"---\")\n",
    "        print(value)\n",
    "    print(\"\\n---\\n\")"
   ]
  },
  {
   "cell_type": "code",
   "execution_count": null,
   "id": "f539a519",
   "metadata": {},
   "outputs": [],
   "source": []
  },
  {
   "cell_type": "code",
   "execution_count": null,
   "id": "6f7baa7b",
   "metadata": {},
   "outputs": [],
   "source": []
  },
  {
   "cell_type": "code",
   "execution_count": 38,
   "id": "0491319f",
   "metadata": {},
   "outputs": [
    {
     "name": "stdout",
     "output_type": "stream",
     "text": [
      "Valid age: 25\n"
     ]
    }
   ],
   "source": [
    "from typing import Annotated\n",
    "from typing_extensions import Annotated  # For Python <3.9\n",
    "\n",
    "PositiveInt = Annotated[int, \"Must be a positive number\"]\n",
    "\n",
    "def process_age(age: PositiveInt):\n",
    "    if age <= 0:\n",
    "        raise ValueError(\"Age must be positive!\")\n",
    "    return f\"Valid age: {age}\"\n",
    "\n",
    "# ✅ Correct Input\n",
    "print(process_age(25))  # Output: \"Valid age: 25\"\n",
    "\n",
    "# ❌ Incorrect Input\n",
    "# print(process_age(-5))  # Raises ValueError: Age must be positive!\n"
   ]
  },
  {
   "cell_type": "code",
   "execution_count": 39,
   "id": "4e2a92ae",
   "metadata": {},
   "outputs": [
    {
     "ename": "ValueError",
     "evalue": "Age must be positive!",
     "output_type": "error",
     "traceback": [
      "\u001b[1;31m---------------------------------------------------------------------------\u001b[0m",
      "\u001b[1;31mValueError\u001b[0m                                Traceback (most recent call last)",
      "Cell \u001b[1;32mIn[39], line 1\u001b[0m\n\u001b[1;32m----> 1\u001b[0m \u001b[38;5;28mprint\u001b[39m(process_age(\u001b[38;5;241m-\u001b[39m\u001b[38;5;241m5\u001b[39m))\n",
      "Cell \u001b[1;32mIn[38], line 8\u001b[0m, in \u001b[0;36mprocess_age\u001b[1;34m(age)\u001b[0m\n\u001b[0;32m      6\u001b[0m \u001b[38;5;28;01mdef\u001b[39;00m \u001b[38;5;21mprocess_age\u001b[39m(age: PositiveInt):\n\u001b[0;32m      7\u001b[0m     \u001b[38;5;28;01mif\u001b[39;00m age \u001b[38;5;241m<\u001b[39m\u001b[38;5;241m=\u001b[39m \u001b[38;5;241m0\u001b[39m:\n\u001b[1;32m----> 8\u001b[0m         \u001b[38;5;28;01mraise\u001b[39;00m \u001b[38;5;167;01mValueError\u001b[39;00m(\u001b[38;5;124m\"\u001b[39m\u001b[38;5;124mAge must be positive!\u001b[39m\u001b[38;5;124m\"\u001b[39m)\n\u001b[0;32m      9\u001b[0m     \u001b[38;5;28;01mreturn\u001b[39;00m \u001b[38;5;124mf\u001b[39m\u001b[38;5;124m\"\u001b[39m\u001b[38;5;124mValid age: \u001b[39m\u001b[38;5;132;01m{\u001b[39;00mage\u001b[38;5;132;01m}\u001b[39;00m\u001b[38;5;124m\"\u001b[39m\n",
      "\u001b[1;31mValueError\u001b[0m: Age must be positive!"
     ]
    }
   ],
   "source": [
    "print(process_age(-5))"
   ]
  },
  {
   "cell_type": "code",
   "execution_count": 40,
   "id": "fbb6f829",
   "metadata": {},
   "outputs": [
    {
     "name": "stdout",
     "output_type": "stream",
     "text": [
      "6\n",
      "15\n"
     ]
    }
   ],
   "source": [
    "from typing import Sequence\n",
    "\n",
    "def sum_numbers(numbers: Sequence[int]) -> int:\n",
    "    return sum(numbers)\n",
    "\n",
    "# ✅ Works with a list\n",
    "print(sum_numbers([1, 2, 3]))  # Output: 6\n",
    "\n",
    "# ✅ Works with a tuple\n",
    "print(sum_numbers((4, 5, 6)))  # Output: 15\n",
    "\n",
    "# ❌ Incorrect usage (not a sequence)\n",
    "# print(sum_numbers({1, 2, 3}))  # Type error in static checkers\n"
   ]
  },
  {
   "cell_type": "code",
   "execution_count": 44,
   "id": "991eb6a6",
   "metadata": {},
   "outputs": [
    {
     "name": "stdout",
     "output_type": "stream",
     "text": [
      "6\n"
     ]
    }
   ],
   "source": [
    " print(sum_numbers({1:\"kabir\", 2:\"s\", 3:\"k\"}))"
   ]
  },
  {
   "cell_type": "code",
   "execution_count": 45,
   "id": "328d1f33",
   "metadata": {},
   "outputs": [],
   "source": [
    "from typing import TypedDict, Annotated, Sequence\n",
    "import operator\n",
    "from langchain_core.messages import BaseMessage\n",
    "from langchain.prompts import PromptTemplate"
   ]
  },
  {
   "cell_type": "code",
   "execution_count": 46,
   "id": "69cb25e1",
   "metadata": {},
   "outputs": [],
   "source": [
    "class AgentState(TypedDict):\n",
    "    # The 'messages' field should be a sequence of strings, and we annotate it with 'operator.add'\n",
    "    # This implies we might want to \"add\" new messages to the sequence later\n",
    "    messages: Annotated[Sequence[BaseMessage], operator.add]"
   ]
  },
  {
   "cell_type": "code",
   "execution_count": 48,
   "id": "81d19bbe",
   "metadata": {},
   "outputs": [],
   "source": [
    "from pydantic import BaseModel, Field\n",
    "\n",
    "class TopicSelectionParser(BaseModel):\n",
    "    Topic: str = Field(description='Selected Topic')\n",
    "    Reasoning: str = Field(description='Reasoning behind topic selection')\n",
    "\n",
    "\n",
    "from langchain.output_parsers import PydanticOutputParser\n",
    "parser = PydanticOutputParser(pydantic_object=TopicSelectionParser)"
   ]
  },
  {
   "cell_type": "code",
   "execution_count": 49,
   "id": "526e1847",
   "metadata": {},
   "outputs": [
    {
     "name": "stdout",
     "output_type": "stream",
     "text": [
      "The output should be formatted as a JSON instance that conforms to the JSON schema below.\n",
      "\n",
      "As an example, for the schema {\"properties\": {\"foo\": {\"title\": \"Foo\", \"description\": \"a list of strings\", \"type\": \"array\", \"items\": {\"type\": \"string\"}}}, \"required\": [\"foo\"]}\n",
      "the object {\"foo\": [\"bar\", \"baz\"]} is a well-formatted instance of the schema. The object {\"properties\": {\"foo\": [\"bar\", \"baz\"]}} is not well-formatted.\n",
      "\n",
      "Here is the output schema:\n",
      "```\n",
      "{\"properties\": {\"Topic\": {\"description\": \"Selected Topic\", \"title\": \"Topic\", \"type\": \"string\"}, \"Reasoning\": {\"description\": \"Reasoning behind topic selection\", \"title\": \"Reasoning\", \"type\": \"string\"}}, \"required\": [\"Topic\", \"Reasoning\"]}\n",
      "```\n"
     ]
    }
   ],
   "source": [
    "print(parser.get_format_instructions())"
   ]
  },
  {
   "cell_type": "markdown",
   "id": "b6c32da3",
   "metadata": {},
   "source": [
    "# graph function "
   ]
  },
  {
   "cell_type": "code",
   "execution_count": 50,
   "id": "fb2f2362",
   "metadata": {},
   "outputs": [],
   "source": [
    "def agent_fun(state):\n",
    "    message = state['messages']\n",
    "    question = message[-1]\n",
    "    print(question)\n",
    "    \n",
    "    template = \"\"\"\n",
    "    Your task is to classify the given user query into one of the following categories: [Sharukh Khan, Not Related]. \n",
    "    Only respond with the category name and nothing else.\n",
    "\n",
    "    User query: {question}\n",
    "    {format_instructions}\n",
    "    \"\"\"\n",
    "    \n",
    "    prompt = PromptTemplate(template=template,\n",
    "                                    input_variables=[question],\n",
    "                                    partial_variables={\n",
    "                                        \"format_instructions\" : parser.get_format_instructions()                                    }\n",
    "                                    )\n",
    "    chain =  prompt | llm | parser\n",
    "    \n",
    "    response = chain.invoke({\"question\":question,\"format_instructions\" : parser.get_format_instructions() })\n",
    "\n",
    "    print(response)\n",
    "\n",
    "    return {\"messages\": [response.Topic]}"
   ]
  },
  {
   "cell_type": "code",
   "execution_count": 52,
   "id": "d301629e",
   "metadata": {},
   "outputs": [
    {
     "name": "stdout",
     "output_type": "stream",
     "text": [
      "Tell me about Sharukh Khan personal Life\n",
      "Topic='Sharukh Khan' Reasoning=\"The query explicitly asks about Shahrukh Khan's personal life.\"\n"
     ]
    },
    {
     "data": {
      "text/plain": [
       "{'messages': ['Sharukh Khan']}"
      ]
     },
     "execution_count": 52,
     "metadata": {},
     "output_type": "execute_result"
    }
   ],
   "source": [
    "state={\"messages\": [\"Tell me about Sharukh Khan personal Life\"]}\n",
    "agent_fun(state)"
   ]
  },
  {
   "cell_type": "code",
   "execution_count": 53,
   "id": "fb5fd2fd",
   "metadata": {},
   "outputs": [],
   "source": [
    "def llm_function_2(state):\n",
    "    print('-> Calling LLM ->')\n",
    "\n",
    "    messages = state['messages']\n",
    "    question = messages[0] ## Fetching the user question\n",
    "\n",
    "    # Normal LLM call\n",
    "    complete_query = \"Anwer the follow question with your knowledge of the real world. Following is the user question: \" + question\n",
    "    response = llm.invoke(complete_query)\n",
    "    return {\"messages\": [response.content]}"
   ]
  },
  {
   "cell_type": "code",
   "execution_count": 54,
   "id": "1f7567fd",
   "metadata": {},
   "outputs": [],
   "source": [
    "def rag_function_2(state):\n",
    "    print('-> Calling RAG ->')\n",
    "    messages = state['messages']\n",
    "    question = messages[0] ## Fetching the user question\n",
    "    print(question)\n",
    "\n",
    "    template = \"\"\"Answer the question based only on the following context:\n",
    "    {context}\n",
    "\n",
    "    Question: {question}\n",
    "    \"\"\"\n",
    "    prompt = ChatPromptTemplate.from_template(template)\n",
    "    \n",
    "    print(prompt)\n",
    "\n",
    "    retrieval_chain = (\n",
    "        {\"context\": retriever, \"question\": RunnablePassthrough()}\n",
    "        | prompt\n",
    "        | llm\n",
    "        | StrOutputParser()\n",
    "        )\n",
    "    result = retrieval_chain.invoke(question)\n",
    "    return  {\"messages\": [result]}"
   ]
  },
  {
   "cell_type": "markdown",
   "id": "036c5fec",
   "metadata": {},
   "source": [
    "# conditional edge function"
   ]
  },
  {
   "cell_type": "code",
   "execution_count": 77,
   "id": "671979dc",
   "metadata": {},
   "outputs": [],
   "source": [
    "def router(state):\n",
    "    print(\" Router ->>> \")\n",
    "    messages = state['messages']\n",
    "    last_message = messages[-1]\n",
    "    \n",
    "    print(last_message)\n",
    "    if 'Sharukh Khan' in last_message:\n",
    "        return 'RAG Call'\n",
    "    else:\n",
    "        return 'LLM Call'\n",
    "    "
   ]
  },
  {
   "cell_type": "markdown",
   "id": "46342e37",
   "metadata": {},
   "source": [
    "# Graph deefined"
   ]
  },
  {
   "cell_type": "code",
   "execution_count": 78,
   "id": "29f4c0a9",
   "metadata": {},
   "outputs": [],
   "source": [
    "app_with_cond = Graph()"
   ]
  },
  {
   "cell_type": "code",
   "execution_count": 79,
   "id": "7fe58ead",
   "metadata": {},
   "outputs": [],
   "source": [
    "app_with_cond.add_node(\"LLM\", llm_function_2)\n",
    "app_with_cond.add_node(\"RAG\", rag_function_2)\n",
    "app_with_cond.add_node('agent', agent_fun)\n",
    "\n",
    "app_with_cond.set_entry_point('agent')\n",
    "\n",
    "app_with_cond.add_conditional_edges(\n",
    "    \"agent\",\n",
    "    router,{\n",
    "        \"RAG Call\": \"RAG\",\n",
    "        \"LLM Call\":\"LLM\"\n",
    "        \n",
    "    }\n",
    ")\n",
    "\n",
    "app_with_cond.set_finish_point(\"RAG\")\n",
    "app_with_cond.set_finish_point(\"LLM\")\n",
    "\n",
    "app_with_cond = app_with_cond.compile()\n",
    "\n"
   ]
  },
  {
   "cell_type": "code",
   "execution_count": 80,
   "id": "b4b90725",
   "metadata": {},
   "outputs": [
    {
     "data": {
      "image/png": "[encoded data removed]",
      "text/plain": [
       "<langgraph.graph.graph.CompiledGraph object at 0x00000246FEA3AA50>"
      ]
     },
     "execution_count": 80,
     "metadata": {},
     "output_type": "execute_result"
    }
   ],
   "source": [
    "app_with_cond"
   ]
  },
  {
   "cell_type": "code",
   "execution_count": 81,
   "id": "541c10c0",
   "metadata": {},
   "outputs": [],
   "source": [
    "inputs= {\"messages\": [\"Tell me about Sharukh Khan\"]}"
   ]
  },
  {
   "cell_type": "code",
   "execution_count": 82,
   "id": "883237b6",
   "metadata": {},
   "outputs": [
    {
     "name": "stdout",
     "output_type": "stream",
     "text": [
      "Tell me about Sharukh Khan\n",
      "Topic='Sharukh Khan' Reasoning='The query explicitly asks for information about Sharukh Khan.'\n",
      " Router ->>> \n",
      "Sharukh Khan\n",
      "-> Calling RAG ->\n",
      "Sharukh Khan\n",
      "input_variables=['context', 'question'] input_types={} partial_variables={} messages=[HumanMessagePromptTemplate(prompt=PromptTemplate(input_variables=['context', 'question'], input_types={}, partial_variables={}, template='Answer the question based only on the following context:\\n    {context}\\n\\n    Question: {question}\\n    '), additional_kwargs={})]\n"
     ]
    }
   ],
   "source": [
    "ouput = app_with_cond.invoke(inputs)"
   ]
  },
  {
   "cell_type": "code",
   "execution_count": 83,
   "id": "9f370ae8",
   "metadata": {},
   "outputs": [
    {
     "data": {
      "text/plain": [
       "{'messages': ['Shah Rukh Khan (sometimes with the first name spelled \"Shahrukh\") is an Indian actor.  He prefers his full name, Shah Rukh Khan, rather than the shortened \"Sharukh Khan\". He was born on November 2, 1965.\\n']}"
      ]
     },
     "execution_count": 83,
     "metadata": {},
     "output_type": "execute_result"
    }
   ],
   "source": [
    "ouput"
   ]
  },
  {
   "cell_type": "markdown",
   "id": "9d9a00a3",
   "metadata": {},
   "source": [
    "# Making tool calling Agent"
   ]
  },
  {
   "cell_type": "code",
   "execution_count": 84,
   "id": "3d723c32",
   "metadata": {},
   "outputs": [],
   "source": [
    "from langchain.tools import tool\n",
    "\n",
    "@tool\n",
    "def calculator(expression: str) -> str:\n",
    "    \"\"\"Evaluates a mathematical expression.\"\"\"\n",
    "    try:\n",
    "        return str(eval(expression))\n",
    "    except Exception as e:\n",
    "        return f\"Error: {e}\""
   ]
  },
  {
   "cell_type": "code",
   "execution_count": 89,
   "id": "817c10f3",
   "metadata": {},
   "outputs": [
    {
     "name": "stdout",
     "output_type": "stream",
     "text": [
      "Requirement already satisfied: langgraph in c:\\users\\kabir\\anaconda3\\lib\\site-packages (0.3.21)\n",
      "Requirement already satisfied: langchain-core<0.4,>=0.1 in c:\\users\\kabir\\anaconda3\\lib\\site-packages (from langgraph) (0.3.28)\n",
      "Requirement already satisfied: langgraph-checkpoint<3.0.0,>=2.0.10 in c:\\users\\kabir\\anaconda3\\lib\\site-packages (from langgraph) (2.0.23)\n",
      "Requirement already satisfied: langgraph-prebuilt<0.2,>=0.1.1 in c:\\users\\kabir\\anaconda3\\lib\\site-packages (from langgraph) (0.1.7)\n",
      "Requirement already satisfied: langgraph-sdk<0.2.0,>=0.1.42 in c:\\users\\kabir\\anaconda3\\lib\\site-packages (from langgraph) (0.1.60)\n",
      "Requirement already satisfied: xxhash<4.0.0,>=3.5.0 in c:\\users\\kabir\\anaconda3\\lib\\site-packages (from langgraph) (3.5.0)\n",
      "Requirement already satisfied: PyYAML>=5.3 in c:\\users\\kabir\\anaconda3\\lib\\site-packages (from langchain-core<0.4,>=0.1->langgraph) (6.0)\n",
      "Requirement already satisfied: jsonpatch<2.0,>=1.33 in c:\\users\\kabir\\anaconda3\\lib\\site-packages (from langchain-core<0.4,>=0.1->langgraph) (1.33)\n",
      "Requirement already satisfied: langsmith<0.3,>=0.1.125 in c:\\users\\kabir\\anaconda3\\lib\\site-packages (from langchain-core<0.4,>=0.1->langgraph) (0.2.3)\n",
      "Requirement already satisfied: packaging<25,>=23.2 in c:\\users\\kabir\\anaconda3\\lib\\site-packages (from langchain-core<0.4,>=0.1->langgraph) (24.2)\n",
      "Requirement already satisfied: pydantic<3.0.0,>=2.5.2 in c:\\users\\kabir\\anaconda3\\lib\\site-packages (from langchain-core<0.4,>=0.1->langgraph) (2.10.3)\n",
      "Requirement already satisfied: tenacity!=8.4.0,<10.0.0,>=8.1.0 in c:\\users\\kabir\\anaconda3\\lib\\site-packages (from langchain-core<0.4,>=0.1->langgraph) (9.0.0)\n",
      "Requirement already satisfied: typing-extensions>=4.7 in c:\\users\\kabir\\anaconda3\\lib\\site-packages (from langchain-core<0.4,>=0.1->langgraph) (4.12.2)\n",
      "Requirement already satisfied: ormsgpack<2.0.0,>=1.8.0 in c:\\users\\kabir\\anaconda3\\lib\\site-packages (from langgraph-checkpoint<3.0.0,>=2.0.10->langgraph) (1.9.1)\n",
      "Requirement already satisfied: httpx>=0.25.2 in c:\\users\\kabir\\anaconda3\\lib\\site-packages (from langgraph-sdk<0.2.0,>=0.1.42->langgraph) (0.28.1)\n",
      "Requirement already satisfied: orjson>=3.10.1 in c:\\users\\kabir\\anaconda3\\lib\\site-packages (from langgraph-sdk<0.2.0,>=0.1.42->langgraph) (3.10.12)\n",
      "Requirement already satisfied: anyio in c:\\users\\kabir\\anaconda3\\lib\\site-packages (from httpx>=0.25.2->langgraph-sdk<0.2.0,>=0.1.42->langgraph) (3.5.0)\n",
      "Requirement already satisfied: certifi in c:\\users\\kabir\\anaconda3\\lib\\site-packages (from httpx>=0.25.2->langgraph-sdk<0.2.0,>=0.1.42->langgraph) (2023.7.22)\n",
      "Requirement already satisfied: httpcore==1.* in c:\\users\\kabir\\anaconda3\\lib\\site-packages (from httpx>=0.25.2->langgraph-sdk<0.2.0,>=0.1.42->langgraph) (1.0.7)\n",
      "Requirement already satisfied: idna in c:\\users\\kabir\\anaconda3\\lib\\site-packages (from httpx>=0.25.2->langgraph-sdk<0.2.0,>=0.1.42->langgraph) (3.4)\n",
      "Requirement already satisfied: h11<0.15,>=0.13 in c:\\users\\kabir\\anaconda3\\lib\\site-packages (from httpcore==1.*->httpx>=0.25.2->langgraph-sdk<0.2.0,>=0.1.42->langgraph) (0.14.0)\n",
      "Requirement already satisfied: jsonpointer>=1.9 in c:\\users\\kabir\\anaconda3\\lib\\site-packages (from jsonpatch<2.0,>=1.33->langchain-core<0.4,>=0.1->langgraph) (2.1)\n",
      "Requirement already satisfied: requests<3,>=2 in c:\\users\\kabir\\anaconda3\\lib\\site-packages (from langsmith<0.3,>=0.1.125->langchain-core<0.4,>=0.1->langgraph) (2.32.3)\n",
      "Requirement already satisfied: requests-toolbelt<2.0.0,>=1.0.0 in c:\\users\\kabir\\anaconda3\\lib\\site-packages (from langsmith<0.3,>=0.1.125->langchain-core<0.4,>=0.1->langgraph) (1.0.0)\n",
      "Requirement already satisfied: annotated-types>=0.6.0 in c:\\users\\kabir\\anaconda3\\lib\\site-packages (from pydantic<3.0.0,>=2.5.2->langchain-core<0.4,>=0.1->langgraph) (0.6.0)\n",
      "Requirement already satisfied: pydantic-core==2.27.1 in c:\\users\\kabir\\anaconda3\\lib\\site-packages (from pydantic<3.0.0,>=2.5.2->langchain-core<0.4,>=0.1->langgraph) (2.27.1)\n",
      "Requirement already satisfied: charset-normalizer<4,>=2 in c:\\users\\kabir\\anaconda3\\lib\\site-packages (from requests<3,>=2->langsmith<0.3,>=0.1.125->langchain-core<0.4,>=0.1->langgraph) (2.0.4)\n",
      "Requirement already satisfied: urllib3<3,>=1.21.1 in c:\\users\\kabir\\anaconda3\\lib\\site-packages (from requests<3,>=2->langsmith<0.3,>=0.1.125->langchain-core<0.4,>=0.1->langgraph) (2.2.3)\n",
      "Requirement already satisfied: sniffio>=1.1 in c:\\users\\kabir\\anaconda3\\lib\\site-packages (from anyio->httpx>=0.25.2->langgraph-sdk<0.2.0,>=0.1.42->langgraph) (1.2.0)\n"
     ]
    }
   ],
   "source": [
    "!pip install --upgrade langgraph"
   ]
  },
  {
   "cell_type": "code",
   "execution_count": 99,
   "id": "242dd671",
   "metadata": {},
   "outputs": [],
   "source": [
    "@tool\n",
    "\n",
    "def check_weather(location: str) -> str:\n",
    "    '''Return the weather forecast for the specified location.'''\n",
    "    return f\"It's always sunny in {location}\""
   ]
  },
  {
   "cell_type": "code",
   "execution_count": 92,
   "id": "940634f3",
   "metadata": {},
   "outputs": [],
   "source": [
    "from langgraph.prebuilt import create_react_agent\n",
    "\n",
    "\n"
   ]
  },
  {
   "cell_type": "code",
   "execution_count": 94,
   "id": "56e068b4",
   "metadata": {},
   "outputs": [
    {
     "data": {
      "text/plain": [
       "ChatGoogleGenerativeAI(model='models/gemini-1.5-pro', google_api_key=SecretStr('**********'), client=<google.ai.generativelanguage_v1beta.services.generative_service.client.GenerativeServiceClient object at 0x00000246BC337A50>, default_metadata=())"
      ]
     },
     "execution_count": 94,
     "metadata": {},
     "output_type": "execute_result"
    }
   ],
   "source": [
    "llm"
   ]
  },
  {
   "cell_type": "code",
   "execution_count": 100,
   "id": "5deffa04",
   "metadata": {},
   "outputs": [
    {
     "name": "stdout",
     "output_type": "stream",
     "text": [
      "Sending Input: {'messages': [{'role': 'user', 'content': 'What is 5 + 10?'}]}\n",
      "{'messages': [HumanMessage(content='What is 5 + 10?', additional_kwargs={}, response_metadata={}, id='5eb13caf-af9e-4727-a9b1-c77af1c7249b'), AIMessage(content='', additional_kwargs={'function_call': {'name': 'calculator', 'arguments': '{\"expression\": \"5 + 10\"}'}}, response_metadata={'prompt_feedback': {'block_reason': 0, 'safety_ratings': []}, 'finish_reason': 'STOP', 'safety_ratings': []}, id='run-cb4d72c5-c4bd-4d99-a6e6-3e3c4c842618-0', tool_calls=[{'name': 'calculator', 'args': {'expression': '5 + 10'}, 'id': 'f507c117-132b-4053-b0fa-8dd8a2628192', 'type': 'tool_call'}], usage_metadata={'input_tokens': 32, 'output_tokens': 7, 'total_tokens': 39, 'input_token_details': {'cache_read': 0}}), ToolMessage(content='15', name='calculator', id='6ee210f5-2762-4a59-bce8-ca7be67bf903', tool_call_id='f507c117-132b-4053-b0fa-8dd8a2628192'), AIMessage(content='15\\n', additional_kwargs={}, response_metadata={'prompt_feedback': {'block_reason': 0, 'safety_ratings': []}, 'finish_reason': 'STOP', 'safety_ratings': []}, id='run-e4416bf7-3f0b-4be1-82b4-917c814589d3-0', usage_metadata={'input_tokens': 41, 'output_tokens': 3, 'total_tokens': 44, 'input_token_details': {'cache_read': 0}})]}\n"
     ]
    }
   ],
   "source": [
    "# ✅ Create the agent using create_react_agent\n",
    "agent = create_react_agent(llm, [calculator, check_weather])  # Pass the list of tools\n",
    "\n",
    "test_input = {\"messages\": [{\"role\": \"user\", \"content\": \"What is 5 + 10?\"}]}\n",
    "print(\"Sending Input:\", test_input)\n",
    "response = agent.invoke(test_input)\n",
    "print(response)\n"
   ]
  },
  {
   "cell_type": "code",
   "execution_count": 101,
   "id": "7b97e325",
   "metadata": {},
   "outputs": [
    {
     "name": "stdout",
     "output_type": "stream",
     "text": [
      "Final Answer: 15\n",
      "\n"
     ]
    }
   ],
   "source": [
    "# Extracting the final AIMessage\n",
    "final_response = response[\"messages\"][-1].content  # The last AIMessage usually contains the final response\n",
    "\n",
    "print(\"Final Answer:\", final_response)\n"
   ]
  },
  {
   "cell_type": "code",
   "execution_count": 98,
   "id": "96fdac7f",
   "metadata": {},
   "outputs": [
    {
     "name": "stdout",
     "output_type": "stream",
     "text": [
      "Sending Input: {'messages': [{'role': 'user', 'content': 'What is Gen AI'}]}\n",
      "{'messages': [HumanMessage(content='What is Gen AI', additional_kwargs={}, response_metadata={}, id='b132c0d0-f264-4529-8281-9b3e2ac8980a'), AIMessage(content='Generative AI, or GenAI, is a broad label for artificial intelligence systems capable of creating new content.  This content can span various formats, including text, images, audio, code, 3D models, videos, and more.  GenAI models achieve this by learning patterns and structures from existing data and then using this knowledge to generate similar yet novel outputs.\\n\\nWhile the term \"GenAI\" often refers to relatively recent models like large language models (LLMs) and diffusion models, the underlying concepts and some techniques have been around for decades.  However, advancements in computing power, data availability, and algorithms have significantly boosted the capabilities and accessibility of these models in recent years, leading to the current surge in interest and applications.\\n', additional_kwargs={}, response_metadata={'prompt_feedback': {'block_reason': 0, 'safety_ratings': []}, 'finish_reason': 'STOP', 'safety_ratings': []}, id='run-52bd0c89-ee59-4b14-9aeb-6aa8559562c4-0', usage_metadata={'input_tokens': 13, 'output_tokens': 151, 'total_tokens': 164, 'input_token_details': {'cache_read': 0}})]}\n",
      "Final Answer: Generative AI, or GenAI, is a broad label for artificial intelligence systems capable of creating new content.  This content can span various formats, including text, images, audio, code, 3D models, videos, and more.  GenAI models achieve this by learning patterns and structures from existing data and then using this knowledge to generate similar yet novel outputs.\n",
      "\n",
      "While the term \"GenAI\" often refers to relatively recent models like large language models (LLMs) and diffusion models, the underlying concepts and some techniques have been around for decades.  However, advancements in computing power, data availability, and algorithms have significantly boosted the capabilities and accessibility of these models in recent years, leading to the current surge in interest and applications.\n",
      "\n"
     ]
    }
   ],
   "source": [
    "test_input = {\"messages\": [{\"role\": \"user\", \"content\": \"What is Gen AI\"}]}\n",
    "print(\"Sending Input:\", test_input)\n",
    "response = agent.invoke(test_input)\n",
    "print(response)\n",
    "\n",
    "\n",
    "final_response = response[\"messages\"][-1].content  # The last AIMessage usually contains the final response\n",
    "\n",
    "print(\"Final Answer:\", final_response)"
   ]
  },
  {
   "cell_type": "code",
   "execution_count": 102,
   "id": "55c00a44",
   "metadata": {},
   "outputs": [
    {
     "name": "stdout",
     "output_type": "stream",
     "text": [
      "Sending Input: {'messages': [{'role': 'user', 'content': 'What is the weather of Kolkata'}]}\n",
      "Final Answer: It's always sunny in Kolkata\n",
      "\n"
     ]
    }
   ],
   "source": [
    "test_input = {\"messages\": [{\"role\": \"user\", \"content\": \"What is the weather of Kolkata\"}]}\n",
    "print(\"Sending Input:\", test_input)\n",
    "response = agent.invoke(test_input)\n",
    "# print(response)\n",
    "\n",
    "\n",
    "# Extracting the final AIMessage\n",
    "final_response = response[\"messages\"][-1].content  # The last AIMessage usually contains the final response\n",
    "\n",
    "print(\"Final Answer:\", final_response)"
   ]
  },
  {
   "cell_type": "code",
   "execution_count": 105,
   "id": "0c56e013",
   "metadata": {},
   "outputs": [],
   "source": [
    "response = agent.invoke({\"messages\": \"What is 5 + 10?\"})  # Use \"contents\" instead of \"input\"\n"
   ]
  },
  {
   "cell_type": "code",
   "execution_count": 108,
   "id": "bc48a63a",
   "metadata": {},
   "outputs": [
    {
     "data": {
      "text/plain": [
       "{'messages': [HumanMessage(content='What is 5 + 10?', additional_kwargs={}, response_metadata={}, id='93465667-6e1d-40f7-bb72-fddd3cc502d3'),\n",
       "  AIMessage(content='', additional_kwargs={'function_call': {'name': 'calculator', 'arguments': '{\"expression\": \"5 + 10\"}'}}, response_metadata={'prompt_feedback': {'block_reason': 0, 'safety_ratings': []}, 'finish_reason': 'STOP', 'safety_ratings': []}, id='run-018f5548-3bb2-49eb-bbf3-b721dad429f6-0', tool_calls=[{'name': 'calculator', 'args': {'expression': '5 + 10'}, 'id': '68d1d092-82bf-4d58-93a5-fcb5e0f82c79', 'type': 'tool_call'}], usage_metadata={'input_tokens': 32, 'output_tokens': 7, 'total_tokens': 39, 'input_token_details': {'cache_read': 0}}),\n",
       "  ToolMessage(content='15', name='calculator', id='14860908-6da9-47da-bd5e-85c7c6c00e9c', tool_call_id='68d1d092-82bf-4d58-93a5-fcb5e0f82c79'),\n",
       "  AIMessage(content='15\\n', additional_kwargs={}, response_metadata={'prompt_feedback': {'block_reason': 0, 'safety_ratings': []}, 'finish_reason': 'STOP', 'safety_ratings': []}, id='run-14442644-d308-45f1-97e3-890f4d719859-0', usage_metadata={'input_tokens': 41, 'output_tokens': 3, 'total_tokens': 44, 'input_token_details': {'cache_read': 0}})]}"
      ]
     },
     "execution_count": 108,
     "metadata": {},
     "output_type": "execute_result"
    }
   ],
   "source": [
    "response"
   ]
  },
  {
   "cell_type": "code",
   "execution_count": 110,
   "id": "fced9818",
   "metadata": {},
   "outputs": [
    {
     "data": {
      "text/plain": [
       "'15\\n'"
      ]
     },
     "execution_count": 110,
     "metadata": {},
     "output_type": "execute_result"
    }
   ],
   "source": [
    "response[\"messages\"][-1].content"
   ]
  },
  {
   "cell_type": "code",
   "execution_count": 112,
   "id": "095bcb80",
   "metadata": {},
   "outputs": [],
   "source": [
    "weather_api = 'Your api key ' # https://www.weatherapi.com/ - create api key  from here"
   ]
  },
  {
   "cell_type": "code",
   "execution_count": 125,
   "id": "688646e5",
   "metadata": {},
   "outputs": [
    {
     "name": "stdout",
     "output_type": "stream",
     "text": [
      "Current weather in New York: 21.7°C, Partly cloudy\n"
     ]
    }
   ],
   "source": [
    "import requests\n",
    "\n",
    "def get_weather(location):\n",
    "    api_key = weather_api\n",
    "    url = f\"http://api.weatherapi.com/v1/current.json?key={api_key}&q={location}\"\n",
    "    response = requests.get(url)\n",
    "    weather_data = response.json()\n",
    "    return f\"Current weather in {location}: {weather_data['current']['temp_c']}°C, {weather_data['current']['condition']['text']}\"\n",
    "\n",
    "# Fetch weather for a location\n",
    "print(get_weather(\"New York\"))\n"
   ]
  },
  {
   "cell_type": "code",
   "execution_count": 114,
   "id": "316cd576",
   "metadata": {},
   "outputs": [],
   "source": [
    "import wikipedia\n",
    "\n",
    "@tool\n",
    "def search_wikipedia(query: str) -> str:\n",
    "    \"\"\"Searches Wikipedia for a given query and returns the summary.\"\"\"\n",
    "    try:\n",
    "        return wikipedia.summary(query, sentences=2)\n",
    "    except wikipedia.exceptions.DisambiguationError as e:\n",
    "        return f\"Multiple results found: {e.options[:3]}...\"\n",
    "    except wikipedia.exceptions.PageError:\n",
    "        return \"No Wikipedia page found.\"\n"
   ]
  },
  {
   "cell_type": "code",
   "execution_count": 115,
   "id": "103dd678",
   "metadata": {},
   "outputs": [
    {
     "data": {
      "text/plain": [
       "'Shah Rukh Khan (pronounced [ˈʃaːɦɾʊx xäːn] ; born 2 November 1965), also known by the initialism SRK, is an Indian actor and film producer who works in Hindi cinema. Referred to in the media as the \"Baadshah of Bollywood\" and \"King Khan\", he has appeared in more than 100 films, and earned numerous accolades, including 14 Filmfare Awards.'"
      ]
     },
     "execution_count": 115,
     "metadata": {},
     "output_type": "execute_result"
    }
   ],
   "source": [
    "search_wikipedia.invoke(\"Tell me about SRK\")"
   ]
  },
  {
   "cell_type": "code",
   "execution_count": 121,
   "id": "2dc9b4ff",
   "metadata": {},
   "outputs": [
    {
     "name": "stderr",
     "output_type": "stream",
     "text": [
      "C:\\Users\\KABIR\\AppData\\Local\\Temp\\ipykernel_17900\\2376240304.py:6: LangChainDeprecationWarning: The class `Cohere` was deprecated in LangChain 0.1.14 and will be removed in 1.0. An updated version of the class exists in the :class:`~langchain-cohere package and should be used instead. To use it run `pip install -U :class:`~langchain-cohere` and import as `from :class:`~langchain_cohere import Cohere``.\n",
      "  llm = Cohere()\n"
     ]
    }
   ],
   "source": [
    "import os\n",
    "\n",
    "os.environ[\"COHERE_API_KEY\"]='QdWMbWNWgMbj4UpVyM5lSR5nFr1PIL0SoBrZ4XP3'\n",
    "from langchain.llms import Cohere\n",
    "\n",
    "llm = Cohere()"
   ]
  },
  {
   "cell_type": "markdown",
   "id": "a4a99b31",
   "metadata": {},
   "source": [
    "# tools add "
   ]
  },
  {
   "cell_type": "code",
   "execution_count": 133,
   "id": "fe194cdc",
   "metadata": {},
   "outputs": [
    {
     "name": "stdout",
     "output_type": "stream",
     "text": [
      "Weather Query:\n"
     ]
    },
    {
     "name": "stderr",
     "output_type": "stream",
     "text": [
      "Retrying langchain_google_genai.chat_models._chat_with_retry.<locals>._chat_with_retry in 2.0 seconds as it raised ResourceExhausted: 429 You exceeded your current quota, please check your plan and billing details. For more information on this error, head to: https://ai.google.dev/gemini-api/docs/rate-limits. [violations {\n",
      "}\n",
      ", links {\n",
      "  description: \"Learn more about Gemini API quotas\"\n",
      "  url: \"https://ai.google.dev/gemini-api/docs/rate-limits\"\n",
      "}\n",
      ", retry_delay {\n",
      "  seconds: 39\n",
      "}\n",
      "].\n"
     ]
    },
    {
     "ename": "ResourceExhausted",
     "evalue": "429 You exceeded your current quota, please check your plan and billing details. For more information on this error, head to: https://ai.google.dev/gemini-api/docs/rate-limits. [violations {\n}\n, links {\n  description: \"Learn more about Gemini API quotas\"\n  url: \"https://ai.google.dev/gemini-api/docs/rate-limits\"\n}\n, retry_delay {\n  seconds: 37\n}\n]",
     "output_type": "error",
     "traceback": [
      "\u001b[1;31m---------------------------------------------------------------------------\u001b[0m",
      "\u001b[1;31mResourceExhausted\u001b[0m                         Traceback (most recent call last)",
      "Cell \u001b[1;32mIn[133], line 49\u001b[0m\n\u001b[0;32m     46\u001b[0m \u001b[38;5;28;01mif\u001b[39;00m \u001b[38;5;18m__name__\u001b[39m \u001b[38;5;241m==\u001b[39m \u001b[38;5;124m\"\u001b[39m\u001b[38;5;124m__main__\u001b[39m\u001b[38;5;124m\"\u001b[39m:\n\u001b[0;32m     47\u001b[0m     \u001b[38;5;66;03m# Test 1: Weather query\u001b[39;00m\n\u001b[0;32m     48\u001b[0m     \u001b[38;5;28mprint\u001b[39m(\u001b[38;5;124m\"\u001b[39m\u001b[38;5;124mWeather Query:\u001b[39m\u001b[38;5;124m\"\u001b[39m)\n\u001b[1;32m---> 49\u001b[0m     invoke_agent(\u001b[38;5;124m\"\u001b[39m\u001b[38;5;124mWhat\u001b[39m\u001b[38;5;124m'\u001b[39m\u001b[38;5;124ms the weather in New York?\u001b[39m\u001b[38;5;124m\"\u001b[39m)  \u001b[38;5;66;03m# You can replace \"New York\" with any city\u001b[39;00m\n\u001b[0;32m     51\u001b[0m     \u001b[38;5;66;03m# Test 2: Wikipedia query\u001b[39;00m\n\u001b[0;32m     52\u001b[0m     \u001b[38;5;28mprint\u001b[39m(\u001b[38;5;124m\"\u001b[39m\u001b[38;5;130;01m\\n\u001b[39;00m\u001b[38;5;124mWikipedia Query:\u001b[39m\u001b[38;5;124m\"\u001b[39m)\n",
      "Cell \u001b[1;32mIn[133], line 41\u001b[0m, in \u001b[0;36minvoke_agent\u001b[1;34m(query)\u001b[0m\n\u001b[0;32m     40\u001b[0m \u001b[38;5;28;01mdef\u001b[39;00m \u001b[38;5;21minvoke_agent\u001b[39m(query):\n\u001b[1;32m---> 41\u001b[0m     response \u001b[38;5;241m=\u001b[39m agent\u001b[38;5;241m.\u001b[39minvoke({\u001b[38;5;124m\"\u001b[39m\u001b[38;5;124mmessages\u001b[39m\u001b[38;5;124m\"\u001b[39m: [{\u001b[38;5;124m\"\u001b[39m\u001b[38;5;124mrole\u001b[39m\u001b[38;5;124m\"\u001b[39m: \u001b[38;5;124m\"\u001b[39m\u001b[38;5;124muser\u001b[39m\u001b[38;5;124m\"\u001b[39m, \u001b[38;5;124m\"\u001b[39m\u001b[38;5;124mcontent\u001b[39m\u001b[38;5;124m\"\u001b[39m: query}]})\n\u001b[0;32m     42\u001b[0m     final_response \u001b[38;5;241m=\u001b[39m response[\u001b[38;5;124m\"\u001b[39m\u001b[38;5;124mmessages\u001b[39m\u001b[38;5;124m\"\u001b[39m][\u001b[38;5;241m-\u001b[39m\u001b[38;5;241m1\u001b[39m]\u001b[38;5;241m.\u001b[39mcontent\n\u001b[0;32m     43\u001b[0m     \u001b[38;5;28mprint\u001b[39m(\u001b[38;5;124m\"\u001b[39m\u001b[38;5;124m🤖 Agent Response:\u001b[39m\u001b[38;5;124m\"\u001b[39m, final_response)\n",
      "File \u001b[1;32m~\\anaconda3\\Lib\\site-packages\\langgraph\\pregel\\__init__.py:2683\u001b[0m, in \u001b[0;36mPregel.invoke\u001b[1;34m(self, input, config, stream_mode, output_keys, interrupt_before, interrupt_after, debug, **kwargs)\u001b[0m\n\u001b[0;32m   2681\u001b[0m \u001b[38;5;28;01melse\u001b[39;00m:\n\u001b[0;32m   2682\u001b[0m     chunks \u001b[38;5;241m=\u001b[39m []\n\u001b[1;32m-> 2683\u001b[0m \u001b[38;5;28;01mfor\u001b[39;00m chunk \u001b[38;5;129;01min\u001b[39;00m \u001b[38;5;28mself\u001b[39m\u001b[38;5;241m.\u001b[39mstream(\n\u001b[0;32m   2684\u001b[0m     \u001b[38;5;28minput\u001b[39m,\n\u001b[0;32m   2685\u001b[0m     config,\n\u001b[0;32m   2686\u001b[0m     stream_mode\u001b[38;5;241m=\u001b[39mstream_mode,\n\u001b[0;32m   2687\u001b[0m     output_keys\u001b[38;5;241m=\u001b[39moutput_keys,\n\u001b[0;32m   2688\u001b[0m     interrupt_before\u001b[38;5;241m=\u001b[39minterrupt_before,\n\u001b[0;32m   2689\u001b[0m     interrupt_after\u001b[38;5;241m=\u001b[39minterrupt_after,\n\u001b[0;32m   2690\u001b[0m     debug\u001b[38;5;241m=\u001b[39mdebug,\n\u001b[0;32m   2691\u001b[0m     \u001b[38;5;241m*\u001b[39m\u001b[38;5;241m*\u001b[39mkwargs,\n\u001b[0;32m   2692\u001b[0m ):\n\u001b[0;32m   2693\u001b[0m     \u001b[38;5;28;01mif\u001b[39;00m stream_mode \u001b[38;5;241m==\u001b[39m \u001b[38;5;124m\"\u001b[39m\u001b[38;5;124mvalues\u001b[39m\u001b[38;5;124m\"\u001b[39m:\n\u001b[0;32m   2694\u001b[0m         latest \u001b[38;5;241m=\u001b[39m chunk\n",
      "File \u001b[1;32m~\\anaconda3\\Lib\\site-packages\\langgraph\\pregel\\__init__.py:2331\u001b[0m, in \u001b[0;36mPregel.stream\u001b[1;34m(self, input, config, stream_mode, output_keys, interrupt_before, interrupt_after, debug, subgraphs)\u001b[0m\n\u001b[0;32m   2325\u001b[0m     \u001b[38;5;66;03m# Similarly to Bulk Synchronous Parallel / Pregel model\u001b[39;00m\n\u001b[0;32m   2326\u001b[0m     \u001b[38;5;66;03m# computation proceeds in steps, while there are channel updates.\u001b[39;00m\n\u001b[0;32m   2327\u001b[0m     \u001b[38;5;66;03m# Channel updates from step N are only visible in step N+1\u001b[39;00m\n\u001b[0;32m   2328\u001b[0m     \u001b[38;5;66;03m# channels are guaranteed to be immutable for the duration of the step,\u001b[39;00m\n\u001b[0;32m   2329\u001b[0m     \u001b[38;5;66;03m# with channel updates applied only at the transition between steps.\u001b[39;00m\n\u001b[0;32m   2330\u001b[0m     \u001b[38;5;28;01mwhile\u001b[39;00m loop\u001b[38;5;241m.\u001b[39mtick(input_keys\u001b[38;5;241m=\u001b[39m\u001b[38;5;28mself\u001b[39m\u001b[38;5;241m.\u001b[39minput_channels):\n\u001b[1;32m-> 2331\u001b[0m         \u001b[38;5;28;01mfor\u001b[39;00m _ \u001b[38;5;129;01min\u001b[39;00m runner\u001b[38;5;241m.\u001b[39mtick(\n\u001b[0;32m   2332\u001b[0m             loop\u001b[38;5;241m.\u001b[39mtasks\u001b[38;5;241m.\u001b[39mvalues(),\n\u001b[0;32m   2333\u001b[0m             timeout\u001b[38;5;241m=\u001b[39m\u001b[38;5;28mself\u001b[39m\u001b[38;5;241m.\u001b[39mstep_timeout,\n\u001b[0;32m   2334\u001b[0m             retry_policy\u001b[38;5;241m=\u001b[39m\u001b[38;5;28mself\u001b[39m\u001b[38;5;241m.\u001b[39mretry_policy,\n\u001b[0;32m   2335\u001b[0m             get_waiter\u001b[38;5;241m=\u001b[39mget_waiter,\n\u001b[0;32m   2336\u001b[0m         ):\n\u001b[0;32m   2337\u001b[0m             \u001b[38;5;66;03m# emit output\u001b[39;00m\n\u001b[0;32m   2338\u001b[0m             \u001b[38;5;28;01myield from\u001b[39;00m output()\n\u001b[0;32m   2339\u001b[0m \u001b[38;5;66;03m# emit output\u001b[39;00m\n",
      "File \u001b[1;32m~\\anaconda3\\Lib\\site-packages\\langgraph\\pregel\\runner.py:146\u001b[0m, in \u001b[0;36mPregelRunner.tick\u001b[1;34m(self, tasks, reraise, timeout, retry_policy, get_waiter)\u001b[0m\n\u001b[0;32m    144\u001b[0m t \u001b[38;5;241m=\u001b[39m tasks[\u001b[38;5;241m0\u001b[39m]\n\u001b[0;32m    145\u001b[0m \u001b[38;5;28;01mtry\u001b[39;00m:\n\u001b[1;32m--> 146\u001b[0m     run_with_retry(\n\u001b[0;32m    147\u001b[0m         t,\n\u001b[0;32m    148\u001b[0m         retry_policy,\n\u001b[0;32m    149\u001b[0m         configurable\u001b[38;5;241m=\u001b[39m{\n\u001b[0;32m    150\u001b[0m             CONFIG_KEY_CALL: partial(\n\u001b[0;32m    151\u001b[0m                 _call,\n\u001b[0;32m    152\u001b[0m                 weakref\u001b[38;5;241m.\u001b[39mref(t),\n\u001b[0;32m    153\u001b[0m                 retry\u001b[38;5;241m=\u001b[39mretry_policy,\n\u001b[0;32m    154\u001b[0m                 futures\u001b[38;5;241m=\u001b[39mweakref\u001b[38;5;241m.\u001b[39mref(futures),\n\u001b[0;32m    155\u001b[0m                 schedule_task\u001b[38;5;241m=\u001b[39m\u001b[38;5;28mself\u001b[39m\u001b[38;5;241m.\u001b[39mschedule_task,\n\u001b[0;32m    156\u001b[0m                 submit\u001b[38;5;241m=\u001b[39m\u001b[38;5;28mself\u001b[39m\u001b[38;5;241m.\u001b[39msubmit,\n\u001b[0;32m    157\u001b[0m                 reraise\u001b[38;5;241m=\u001b[39mreraise,\n\u001b[0;32m    158\u001b[0m             ),\n\u001b[0;32m    159\u001b[0m         },\n\u001b[0;32m    160\u001b[0m     )\n\u001b[0;32m    161\u001b[0m     \u001b[38;5;28mself\u001b[39m\u001b[38;5;241m.\u001b[39mcommit(t, \u001b[38;5;28;01mNone\u001b[39;00m)\n\u001b[0;32m    162\u001b[0m \u001b[38;5;28;01mexcept\u001b[39;00m \u001b[38;5;167;01mException\u001b[39;00m \u001b[38;5;28;01mas\u001b[39;00m exc:\n",
      "File \u001b[1;32m~\\anaconda3\\Lib\\site-packages\\langgraph\\pregel\\retry.py:40\u001b[0m, in \u001b[0;36mrun_with_retry\u001b[1;34m(task, retry_policy, configurable)\u001b[0m\n\u001b[0;32m     38\u001b[0m     task\u001b[38;5;241m.\u001b[39mwrites\u001b[38;5;241m.\u001b[39mclear()\n\u001b[0;32m     39\u001b[0m     \u001b[38;5;66;03m# run the task\u001b[39;00m\n\u001b[1;32m---> 40\u001b[0m     \u001b[38;5;28;01mreturn\u001b[39;00m task\u001b[38;5;241m.\u001b[39mproc\u001b[38;5;241m.\u001b[39minvoke(task\u001b[38;5;241m.\u001b[39minput, config)\n\u001b[0;32m     41\u001b[0m \u001b[38;5;28;01mexcept\u001b[39;00m ParentCommand \u001b[38;5;28;01mas\u001b[39;00m exc:\n\u001b[0;32m     42\u001b[0m     ns: \u001b[38;5;28mstr\u001b[39m \u001b[38;5;241m=\u001b[39m config[CONF][CONFIG_KEY_CHECKPOINT_NS]\n",
      "File \u001b[1;32m~\\anaconda3\\Lib\\site-packages\\langgraph\\utils\\runnable.py:606\u001b[0m, in \u001b[0;36mRunnableSeq.invoke\u001b[1;34m(self, input, config, **kwargs)\u001b[0m\n\u001b[0;32m    602\u001b[0m config \u001b[38;5;241m=\u001b[39m patch_config(\n\u001b[0;32m    603\u001b[0m     config, callbacks\u001b[38;5;241m=\u001b[39mrun_manager\u001b[38;5;241m.\u001b[39mget_child(\u001b[38;5;124mf\u001b[39m\u001b[38;5;124m\"\u001b[39m\u001b[38;5;124mseq:step:\u001b[39m\u001b[38;5;132;01m{\u001b[39;00mi\u001b[38;5;250m \u001b[39m\u001b[38;5;241m+\u001b[39m\u001b[38;5;250m \u001b[39m\u001b[38;5;241m1\u001b[39m\u001b[38;5;132;01m}\u001b[39;00m\u001b[38;5;124m\"\u001b[39m)\n\u001b[0;32m    604\u001b[0m )\n\u001b[0;32m    605\u001b[0m \u001b[38;5;28;01mif\u001b[39;00m i \u001b[38;5;241m==\u001b[39m \u001b[38;5;241m0\u001b[39m:\n\u001b[1;32m--> 606\u001b[0m     \u001b[38;5;28minput\u001b[39m \u001b[38;5;241m=\u001b[39m step\u001b[38;5;241m.\u001b[39minvoke(\u001b[38;5;28minput\u001b[39m, config, \u001b[38;5;241m*\u001b[39m\u001b[38;5;241m*\u001b[39mkwargs)\n\u001b[0;32m    607\u001b[0m \u001b[38;5;28;01melse\u001b[39;00m:\n\u001b[0;32m    608\u001b[0m     \u001b[38;5;28minput\u001b[39m \u001b[38;5;241m=\u001b[39m step\u001b[38;5;241m.\u001b[39minvoke(\u001b[38;5;28minput\u001b[39m, config)\n",
      "File \u001b[1;32m~\\anaconda3\\Lib\\site-packages\\langgraph\\utils\\runnable.py:363\u001b[0m, in \u001b[0;36mRunnableCallable.invoke\u001b[1;34m(self, input, config, **kwargs)\u001b[0m\n\u001b[0;32m    361\u001b[0m     child_config \u001b[38;5;241m=\u001b[39m patch_config(config, callbacks\u001b[38;5;241m=\u001b[39mrun_manager\u001b[38;5;241m.\u001b[39mget_child())\n\u001b[0;32m    362\u001b[0m     \u001b[38;5;28;01mwith\u001b[39;00m set_config_context(child_config) \u001b[38;5;28;01mas\u001b[39;00m context:\n\u001b[1;32m--> 363\u001b[0m         ret \u001b[38;5;241m=\u001b[39m context\u001b[38;5;241m.\u001b[39mrun(\u001b[38;5;28mself\u001b[39m\u001b[38;5;241m.\u001b[39mfunc, \u001b[38;5;241m*\u001b[39margs, \u001b[38;5;241m*\u001b[39m\u001b[38;5;241m*\u001b[39mkwargs)\n\u001b[0;32m    364\u001b[0m \u001b[38;5;28;01mexcept\u001b[39;00m \u001b[38;5;167;01mBaseException\u001b[39;00m \u001b[38;5;28;01mas\u001b[39;00m e:\n\u001b[0;32m    365\u001b[0m     run_manager\u001b[38;5;241m.\u001b[39mon_chain_error(e)\n",
      "File \u001b[1;32m~\\anaconda3\\Lib\\site-packages\\langgraph\\prebuilt\\chat_agent_executor.py:685\u001b[0m, in \u001b[0;36mcreate_react_agent.<locals>.call_model\u001b[1;34m(state, config)\u001b[0m\n\u001b[0;32m    683\u001b[0m messages \u001b[38;5;241m=\u001b[39m _get_state_value(state, \u001b[38;5;124m\"\u001b[39m\u001b[38;5;124mmessages\u001b[39m\u001b[38;5;124m\"\u001b[39m)\n\u001b[0;32m    684\u001b[0m _validate_chat_history(messages)\n\u001b[1;32m--> 685\u001b[0m response \u001b[38;5;241m=\u001b[39m cast(AIMessage, model_runnable\u001b[38;5;241m.\u001b[39minvoke(state, config))\n\u001b[0;32m    686\u001b[0m \u001b[38;5;66;03m# add agent name to the AIMessage\u001b[39;00m\n\u001b[0;32m    687\u001b[0m response\u001b[38;5;241m.\u001b[39mname \u001b[38;5;241m=\u001b[39m name\n",
      "File \u001b[1;32m~\\anaconda3\\Lib\\site-packages\\langchain_core\\runnables\\base.py:3024\u001b[0m, in \u001b[0;36mRunnableSequence.invoke\u001b[1;34m(self, input, config, **kwargs)\u001b[0m\n\u001b[0;32m   3022\u001b[0m             \u001b[38;5;28minput\u001b[39m \u001b[38;5;241m=\u001b[39m context\u001b[38;5;241m.\u001b[39mrun(step\u001b[38;5;241m.\u001b[39minvoke, \u001b[38;5;28minput\u001b[39m, config, \u001b[38;5;241m*\u001b[39m\u001b[38;5;241m*\u001b[39mkwargs)\n\u001b[0;32m   3023\u001b[0m         \u001b[38;5;28;01melse\u001b[39;00m:\n\u001b[1;32m-> 3024\u001b[0m             \u001b[38;5;28minput\u001b[39m \u001b[38;5;241m=\u001b[39m context\u001b[38;5;241m.\u001b[39mrun(step\u001b[38;5;241m.\u001b[39minvoke, \u001b[38;5;28minput\u001b[39m, config)\n\u001b[0;32m   3025\u001b[0m \u001b[38;5;66;03m# finish the root run\u001b[39;00m\n\u001b[0;32m   3026\u001b[0m \u001b[38;5;28;01mexcept\u001b[39;00m \u001b[38;5;167;01mBaseException\u001b[39;00m \u001b[38;5;28;01mas\u001b[39;00m e:\n",
      "File \u001b[1;32m~\\anaconda3\\Lib\\site-packages\\langchain_core\\runnables\\base.py:5354\u001b[0m, in \u001b[0;36mRunnableBindingBase.invoke\u001b[1;34m(self, input, config, **kwargs)\u001b[0m\n\u001b[0;32m   5348\u001b[0m \u001b[38;5;28;01mdef\u001b[39;00m \u001b[38;5;21minvoke\u001b[39m(\n\u001b[0;32m   5349\u001b[0m     \u001b[38;5;28mself\u001b[39m,\n\u001b[0;32m   5350\u001b[0m     \u001b[38;5;28minput\u001b[39m: Input,\n\u001b[0;32m   5351\u001b[0m     config: Optional[RunnableConfig] \u001b[38;5;241m=\u001b[39m \u001b[38;5;28;01mNone\u001b[39;00m,\n\u001b[0;32m   5352\u001b[0m     \u001b[38;5;241m*\u001b[39m\u001b[38;5;241m*\u001b[39mkwargs: Optional[Any],\n\u001b[0;32m   5353\u001b[0m ) \u001b[38;5;241m-\u001b[39m\u001b[38;5;241m>\u001b[39m Output:\n\u001b[1;32m-> 5354\u001b[0m     \u001b[38;5;28;01mreturn\u001b[39;00m \u001b[38;5;28mself\u001b[39m\u001b[38;5;241m.\u001b[39mbound\u001b[38;5;241m.\u001b[39minvoke(\n\u001b[0;32m   5355\u001b[0m         \u001b[38;5;28minput\u001b[39m,\n\u001b[0;32m   5356\u001b[0m         \u001b[38;5;28mself\u001b[39m\u001b[38;5;241m.\u001b[39m_merge_configs(config),\n\u001b[0;32m   5357\u001b[0m         \u001b[38;5;241m*\u001b[39m\u001b[38;5;241m*\u001b[39m{\u001b[38;5;241m*\u001b[39m\u001b[38;5;241m*\u001b[39m\u001b[38;5;28mself\u001b[39m\u001b[38;5;241m.\u001b[39mkwargs, \u001b[38;5;241m*\u001b[39m\u001b[38;5;241m*\u001b[39mkwargs},\n\u001b[0;32m   5358\u001b[0m     )\n",
      "File \u001b[1;32m~\\anaconda3\\Lib\\site-packages\\langchain_core\\language_models\\chat_models.py:286\u001b[0m, in \u001b[0;36mBaseChatModel.invoke\u001b[1;34m(self, input, config, stop, **kwargs)\u001b[0m\n\u001b[0;32m    275\u001b[0m \u001b[38;5;28;01mdef\u001b[39;00m \u001b[38;5;21minvoke\u001b[39m(\n\u001b[0;32m    276\u001b[0m     \u001b[38;5;28mself\u001b[39m,\n\u001b[0;32m    277\u001b[0m     \u001b[38;5;28minput\u001b[39m: LanguageModelInput,\n\u001b[1;32m   (...)\u001b[0m\n\u001b[0;32m    281\u001b[0m     \u001b[38;5;241m*\u001b[39m\u001b[38;5;241m*\u001b[39mkwargs: Any,\n\u001b[0;32m    282\u001b[0m ) \u001b[38;5;241m-\u001b[39m\u001b[38;5;241m>\u001b[39m BaseMessage:\n\u001b[0;32m    283\u001b[0m     config \u001b[38;5;241m=\u001b[39m ensure_config(config)\n\u001b[0;32m    284\u001b[0m     \u001b[38;5;28;01mreturn\u001b[39;00m cast(\n\u001b[0;32m    285\u001b[0m         ChatGeneration,\n\u001b[1;32m--> 286\u001b[0m         \u001b[38;5;28mself\u001b[39m\u001b[38;5;241m.\u001b[39mgenerate_prompt(\n\u001b[0;32m    287\u001b[0m             [\u001b[38;5;28mself\u001b[39m\u001b[38;5;241m.\u001b[39m_convert_input(\u001b[38;5;28minput\u001b[39m)],\n\u001b[0;32m    288\u001b[0m             stop\u001b[38;5;241m=\u001b[39mstop,\n\u001b[0;32m    289\u001b[0m             callbacks\u001b[38;5;241m=\u001b[39mconfig\u001b[38;5;241m.\u001b[39mget(\u001b[38;5;124m\"\u001b[39m\u001b[38;5;124mcallbacks\u001b[39m\u001b[38;5;124m\"\u001b[39m),\n\u001b[0;32m    290\u001b[0m             tags\u001b[38;5;241m=\u001b[39mconfig\u001b[38;5;241m.\u001b[39mget(\u001b[38;5;124m\"\u001b[39m\u001b[38;5;124mtags\u001b[39m\u001b[38;5;124m\"\u001b[39m),\n\u001b[0;32m    291\u001b[0m             metadata\u001b[38;5;241m=\u001b[39mconfig\u001b[38;5;241m.\u001b[39mget(\u001b[38;5;124m\"\u001b[39m\u001b[38;5;124mmetadata\u001b[39m\u001b[38;5;124m\"\u001b[39m),\n\u001b[0;32m    292\u001b[0m             run_name\u001b[38;5;241m=\u001b[39mconfig\u001b[38;5;241m.\u001b[39mget(\u001b[38;5;124m\"\u001b[39m\u001b[38;5;124mrun_name\u001b[39m\u001b[38;5;124m\"\u001b[39m),\n\u001b[0;32m    293\u001b[0m             run_id\u001b[38;5;241m=\u001b[39mconfig\u001b[38;5;241m.\u001b[39mpop(\u001b[38;5;124m\"\u001b[39m\u001b[38;5;124mrun_id\u001b[39m\u001b[38;5;124m\"\u001b[39m, \u001b[38;5;28;01mNone\u001b[39;00m),\n\u001b[0;32m    294\u001b[0m             \u001b[38;5;241m*\u001b[39m\u001b[38;5;241m*\u001b[39mkwargs,\n\u001b[0;32m    295\u001b[0m         )\u001b[38;5;241m.\u001b[39mgenerations[\u001b[38;5;241m0\u001b[39m][\u001b[38;5;241m0\u001b[39m],\n\u001b[0;32m    296\u001b[0m     )\u001b[38;5;241m.\u001b[39mmessage\n",
      "File \u001b[1;32m~\\anaconda3\\Lib\\site-packages\\langchain_core\\language_models\\chat_models.py:786\u001b[0m, in \u001b[0;36mBaseChatModel.generate_prompt\u001b[1;34m(self, prompts, stop, callbacks, **kwargs)\u001b[0m\n\u001b[0;32m    778\u001b[0m \u001b[38;5;28;01mdef\u001b[39;00m \u001b[38;5;21mgenerate_prompt\u001b[39m(\n\u001b[0;32m    779\u001b[0m     \u001b[38;5;28mself\u001b[39m,\n\u001b[0;32m    780\u001b[0m     prompts: \u001b[38;5;28mlist\u001b[39m[PromptValue],\n\u001b[1;32m   (...)\u001b[0m\n\u001b[0;32m    783\u001b[0m     \u001b[38;5;241m*\u001b[39m\u001b[38;5;241m*\u001b[39mkwargs: Any,\n\u001b[0;32m    784\u001b[0m ) \u001b[38;5;241m-\u001b[39m\u001b[38;5;241m>\u001b[39m LLMResult:\n\u001b[0;32m    785\u001b[0m     prompt_messages \u001b[38;5;241m=\u001b[39m [p\u001b[38;5;241m.\u001b[39mto_messages() \u001b[38;5;28;01mfor\u001b[39;00m p \u001b[38;5;129;01min\u001b[39;00m prompts]\n\u001b[1;32m--> 786\u001b[0m     \u001b[38;5;28;01mreturn\u001b[39;00m \u001b[38;5;28mself\u001b[39m\u001b[38;5;241m.\u001b[39mgenerate(prompt_messages, stop\u001b[38;5;241m=\u001b[39mstop, callbacks\u001b[38;5;241m=\u001b[39mcallbacks, \u001b[38;5;241m*\u001b[39m\u001b[38;5;241m*\u001b[39mkwargs)\n",
      "File \u001b[1;32m~\\anaconda3\\Lib\\site-packages\\langchain_core\\language_models\\chat_models.py:643\u001b[0m, in \u001b[0;36mBaseChatModel.generate\u001b[1;34m(self, messages, stop, callbacks, tags, metadata, run_name, run_id, **kwargs)\u001b[0m\n\u001b[0;32m    641\u001b[0m         \u001b[38;5;28;01mif\u001b[39;00m run_managers:\n\u001b[0;32m    642\u001b[0m             run_managers[i]\u001b[38;5;241m.\u001b[39mon_llm_error(e, response\u001b[38;5;241m=\u001b[39mLLMResult(generations\u001b[38;5;241m=\u001b[39m[]))\n\u001b[1;32m--> 643\u001b[0m         \u001b[38;5;28;01mraise\u001b[39;00m e\n\u001b[0;32m    644\u001b[0m flattened_outputs \u001b[38;5;241m=\u001b[39m [\n\u001b[0;32m    645\u001b[0m     LLMResult(generations\u001b[38;5;241m=\u001b[39m[res\u001b[38;5;241m.\u001b[39mgenerations], llm_output\u001b[38;5;241m=\u001b[39mres\u001b[38;5;241m.\u001b[39mllm_output)  \u001b[38;5;66;03m# type: ignore[list-item]\u001b[39;00m\n\u001b[0;32m    646\u001b[0m     \u001b[38;5;28;01mfor\u001b[39;00m res \u001b[38;5;129;01min\u001b[39;00m results\n\u001b[0;32m    647\u001b[0m ]\n\u001b[0;32m    648\u001b[0m llm_output \u001b[38;5;241m=\u001b[39m \u001b[38;5;28mself\u001b[39m\u001b[38;5;241m.\u001b[39m_combine_llm_outputs([res\u001b[38;5;241m.\u001b[39mllm_output \u001b[38;5;28;01mfor\u001b[39;00m res \u001b[38;5;129;01min\u001b[39;00m results])\n",
      "File \u001b[1;32m~\\anaconda3\\Lib\\site-packages\\langchain_core\\language_models\\chat_models.py:633\u001b[0m, in \u001b[0;36mBaseChatModel.generate\u001b[1;34m(self, messages, stop, callbacks, tags, metadata, run_name, run_id, **kwargs)\u001b[0m\n\u001b[0;32m    630\u001b[0m \u001b[38;5;28;01mfor\u001b[39;00m i, m \u001b[38;5;129;01min\u001b[39;00m \u001b[38;5;28menumerate\u001b[39m(messages):\n\u001b[0;32m    631\u001b[0m     \u001b[38;5;28;01mtry\u001b[39;00m:\n\u001b[0;32m    632\u001b[0m         results\u001b[38;5;241m.\u001b[39mappend(\n\u001b[1;32m--> 633\u001b[0m             \u001b[38;5;28mself\u001b[39m\u001b[38;5;241m.\u001b[39m_generate_with_cache(\n\u001b[0;32m    634\u001b[0m                 m,\n\u001b[0;32m    635\u001b[0m                 stop\u001b[38;5;241m=\u001b[39mstop,\n\u001b[0;32m    636\u001b[0m                 run_manager\u001b[38;5;241m=\u001b[39mrun_managers[i] \u001b[38;5;28;01mif\u001b[39;00m run_managers \u001b[38;5;28;01melse\u001b[39;00m \u001b[38;5;28;01mNone\u001b[39;00m,\n\u001b[0;32m    637\u001b[0m                 \u001b[38;5;241m*\u001b[39m\u001b[38;5;241m*\u001b[39mkwargs,\n\u001b[0;32m    638\u001b[0m             )\n\u001b[0;32m    639\u001b[0m         )\n\u001b[0;32m    640\u001b[0m     \u001b[38;5;28;01mexcept\u001b[39;00m \u001b[38;5;167;01mBaseException\u001b[39;00m \u001b[38;5;28;01mas\u001b[39;00m e:\n\u001b[0;32m    641\u001b[0m         \u001b[38;5;28;01mif\u001b[39;00m run_managers:\n",
      "File \u001b[1;32m~\\anaconda3\\Lib\\site-packages\\langchain_core\\language_models\\chat_models.py:851\u001b[0m, in \u001b[0;36mBaseChatModel._generate_with_cache\u001b[1;34m(self, messages, stop, run_manager, **kwargs)\u001b[0m\n\u001b[0;32m    849\u001b[0m \u001b[38;5;28;01melse\u001b[39;00m:\n\u001b[0;32m    850\u001b[0m     \u001b[38;5;28;01mif\u001b[39;00m inspect\u001b[38;5;241m.\u001b[39msignature(\u001b[38;5;28mself\u001b[39m\u001b[38;5;241m.\u001b[39m_generate)\u001b[38;5;241m.\u001b[39mparameters\u001b[38;5;241m.\u001b[39mget(\u001b[38;5;124m\"\u001b[39m\u001b[38;5;124mrun_manager\u001b[39m\u001b[38;5;124m\"\u001b[39m):\n\u001b[1;32m--> 851\u001b[0m         result \u001b[38;5;241m=\u001b[39m \u001b[38;5;28mself\u001b[39m\u001b[38;5;241m.\u001b[39m_generate(\n\u001b[0;32m    852\u001b[0m             messages, stop\u001b[38;5;241m=\u001b[39mstop, run_manager\u001b[38;5;241m=\u001b[39mrun_manager, \u001b[38;5;241m*\u001b[39m\u001b[38;5;241m*\u001b[39mkwargs\n\u001b[0;32m    853\u001b[0m         )\n\u001b[0;32m    854\u001b[0m     \u001b[38;5;28;01melse\u001b[39;00m:\n\u001b[0;32m    855\u001b[0m         result \u001b[38;5;241m=\u001b[39m \u001b[38;5;28mself\u001b[39m\u001b[38;5;241m.\u001b[39m_generate(messages, stop\u001b[38;5;241m=\u001b[39mstop, \u001b[38;5;241m*\u001b[39m\u001b[38;5;241m*\u001b[39mkwargs)\n",
      "File \u001b[1;32m~\\anaconda3\\Lib\\site-packages\\langchain_google_genai\\chat_models.py:946\u001b[0m, in \u001b[0;36mChatGoogleGenerativeAI._generate\u001b[1;34m(self, messages, stop, run_manager, tools, functions, safety_settings, tool_config, generation_config, cached_content, tool_choice, **kwargs)\u001b[0m\n\u001b[0;32m    920\u001b[0m \u001b[38;5;28;01mdef\u001b[39;00m \u001b[38;5;21m_generate\u001b[39m(\n\u001b[0;32m    921\u001b[0m     \u001b[38;5;28mself\u001b[39m,\n\u001b[0;32m    922\u001b[0m     messages: List[BaseMessage],\n\u001b[1;32m   (...)\u001b[0m\n\u001b[0;32m    933\u001b[0m     \u001b[38;5;241m*\u001b[39m\u001b[38;5;241m*\u001b[39mkwargs: Any,\n\u001b[0;32m    934\u001b[0m ) \u001b[38;5;241m-\u001b[39m\u001b[38;5;241m>\u001b[39m ChatResult:\n\u001b[0;32m    935\u001b[0m     request \u001b[38;5;241m=\u001b[39m \u001b[38;5;28mself\u001b[39m\u001b[38;5;241m.\u001b[39m_prepare_request(\n\u001b[0;32m    936\u001b[0m         messages,\n\u001b[0;32m    937\u001b[0m         stop\u001b[38;5;241m=\u001b[39mstop,\n\u001b[1;32m   (...)\u001b[0m\n\u001b[0;32m    944\u001b[0m         tool_choice\u001b[38;5;241m=\u001b[39mtool_choice,\n\u001b[0;32m    945\u001b[0m     )\n\u001b[1;32m--> 946\u001b[0m     response: GenerateContentResponse \u001b[38;5;241m=\u001b[39m _chat_with_retry(\n\u001b[0;32m    947\u001b[0m         request\u001b[38;5;241m=\u001b[39mrequest,\n\u001b[0;32m    948\u001b[0m         \u001b[38;5;241m*\u001b[39m\u001b[38;5;241m*\u001b[39mkwargs,\n\u001b[0;32m    949\u001b[0m         generation_method\u001b[38;5;241m=\u001b[39m\u001b[38;5;28mself\u001b[39m\u001b[38;5;241m.\u001b[39mclient\u001b[38;5;241m.\u001b[39mgenerate_content,\n\u001b[0;32m    950\u001b[0m         metadata\u001b[38;5;241m=\u001b[39m\u001b[38;5;28mself\u001b[39m\u001b[38;5;241m.\u001b[39mdefault_metadata,\n\u001b[0;32m    951\u001b[0m     )\n\u001b[0;32m    952\u001b[0m     \u001b[38;5;28;01mreturn\u001b[39;00m _response_to_result(response)\n",
      "File \u001b[1;32m~\\anaconda3\\Lib\\site-packages\\langchain_google_genai\\chat_models.py:196\u001b[0m, in \u001b[0;36m_chat_with_retry\u001b[1;34m(generation_method, **kwargs)\u001b[0m\n\u001b[0;32m    193\u001b[0m     \u001b[38;5;28;01mexcept\u001b[39;00m \u001b[38;5;167;01mException\u001b[39;00m \u001b[38;5;28;01mas\u001b[39;00m e:\n\u001b[0;32m    194\u001b[0m         \u001b[38;5;28;01mraise\u001b[39;00m e\n\u001b[1;32m--> 196\u001b[0m \u001b[38;5;28;01mreturn\u001b[39;00m _chat_with_retry(\u001b[38;5;241m*\u001b[39m\u001b[38;5;241m*\u001b[39mkwargs)\n",
      "File \u001b[1;32m~\\anaconda3\\Lib\\site-packages\\tenacity\\__init__.py:336\u001b[0m, in \u001b[0;36mBaseRetrying.wraps.<locals>.wrapped_f\u001b[1;34m(*args, **kw)\u001b[0m\n\u001b[0;32m    334\u001b[0m copy \u001b[38;5;241m=\u001b[39m \u001b[38;5;28mself\u001b[39m\u001b[38;5;241m.\u001b[39mcopy()\n\u001b[0;32m    335\u001b[0m wrapped_f\u001b[38;5;241m.\u001b[39mstatistics \u001b[38;5;241m=\u001b[39m copy\u001b[38;5;241m.\u001b[39mstatistics  \u001b[38;5;66;03m# type: ignore[attr-defined]\u001b[39;00m\n\u001b[1;32m--> 336\u001b[0m \u001b[38;5;28;01mreturn\u001b[39;00m copy(f, \u001b[38;5;241m*\u001b[39margs, \u001b[38;5;241m*\u001b[39m\u001b[38;5;241m*\u001b[39mkw)\n",
      "File \u001b[1;32m~\\anaconda3\\Lib\\site-packages\\tenacity\\__init__.py:475\u001b[0m, in \u001b[0;36mRetrying.__call__\u001b[1;34m(self, fn, *args, **kwargs)\u001b[0m\n\u001b[0;32m    473\u001b[0m retry_state \u001b[38;5;241m=\u001b[39m RetryCallState(retry_object\u001b[38;5;241m=\u001b[39m\u001b[38;5;28mself\u001b[39m, fn\u001b[38;5;241m=\u001b[39mfn, args\u001b[38;5;241m=\u001b[39margs, kwargs\u001b[38;5;241m=\u001b[39mkwargs)\n\u001b[0;32m    474\u001b[0m \u001b[38;5;28;01mwhile\u001b[39;00m \u001b[38;5;28;01mTrue\u001b[39;00m:\n\u001b[1;32m--> 475\u001b[0m     do \u001b[38;5;241m=\u001b[39m \u001b[38;5;28mself\u001b[39m\u001b[38;5;241m.\u001b[39miter(retry_state\u001b[38;5;241m=\u001b[39mretry_state)\n\u001b[0;32m    476\u001b[0m     \u001b[38;5;28;01mif\u001b[39;00m \u001b[38;5;28misinstance\u001b[39m(do, DoAttempt):\n\u001b[0;32m    477\u001b[0m         \u001b[38;5;28;01mtry\u001b[39;00m:\n",
      "File \u001b[1;32m~\\anaconda3\\Lib\\site-packages\\tenacity\\__init__.py:376\u001b[0m, in \u001b[0;36mBaseRetrying.iter\u001b[1;34m(self, retry_state)\u001b[0m\n\u001b[0;32m    374\u001b[0m result \u001b[38;5;241m=\u001b[39m \u001b[38;5;28;01mNone\u001b[39;00m\n\u001b[0;32m    375\u001b[0m \u001b[38;5;28;01mfor\u001b[39;00m action \u001b[38;5;129;01min\u001b[39;00m \u001b[38;5;28mself\u001b[39m\u001b[38;5;241m.\u001b[39miter_state\u001b[38;5;241m.\u001b[39mactions:\n\u001b[1;32m--> 376\u001b[0m     result \u001b[38;5;241m=\u001b[39m action(retry_state)\n\u001b[0;32m    377\u001b[0m \u001b[38;5;28;01mreturn\u001b[39;00m result\n",
      "File \u001b[1;32m~\\anaconda3\\Lib\\site-packages\\tenacity\\__init__.py:418\u001b[0m, in \u001b[0;36mBaseRetrying._post_stop_check_actions.<locals>.exc_check\u001b[1;34m(rs)\u001b[0m\n\u001b[0;32m    416\u001b[0m retry_exc \u001b[38;5;241m=\u001b[39m \u001b[38;5;28mself\u001b[39m\u001b[38;5;241m.\u001b[39mretry_error_cls(fut)\n\u001b[0;32m    417\u001b[0m \u001b[38;5;28;01mif\u001b[39;00m \u001b[38;5;28mself\u001b[39m\u001b[38;5;241m.\u001b[39mreraise:\n\u001b[1;32m--> 418\u001b[0m     \u001b[38;5;28;01mraise\u001b[39;00m retry_exc\u001b[38;5;241m.\u001b[39mreraise()\n\u001b[0;32m    419\u001b[0m \u001b[38;5;28;01mraise\u001b[39;00m retry_exc \u001b[38;5;28;01mfrom\u001b[39;00m \u001b[38;5;21;01mfut\u001b[39;00m\u001b[38;5;21;01m.\u001b[39;00m\u001b[38;5;21;01mexception\u001b[39;00m()\n",
      "File \u001b[1;32m~\\anaconda3\\Lib\\site-packages\\tenacity\\__init__.py:185\u001b[0m, in \u001b[0;36mRetryError.reraise\u001b[1;34m(self)\u001b[0m\n\u001b[0;32m    183\u001b[0m \u001b[38;5;28;01mdef\u001b[39;00m \u001b[38;5;21mreraise\u001b[39m(\u001b[38;5;28mself\u001b[39m) \u001b[38;5;241m-\u001b[39m\u001b[38;5;241m>\u001b[39m t\u001b[38;5;241m.\u001b[39mNoReturn:\n\u001b[0;32m    184\u001b[0m     \u001b[38;5;28;01mif\u001b[39;00m \u001b[38;5;28mself\u001b[39m\u001b[38;5;241m.\u001b[39mlast_attempt\u001b[38;5;241m.\u001b[39mfailed:\n\u001b[1;32m--> 185\u001b[0m         \u001b[38;5;28;01mraise\u001b[39;00m \u001b[38;5;28mself\u001b[39m\u001b[38;5;241m.\u001b[39mlast_attempt\u001b[38;5;241m.\u001b[39mresult()\n\u001b[0;32m    186\u001b[0m     \u001b[38;5;28;01mraise\u001b[39;00m \u001b[38;5;28mself\u001b[39m\n",
      "File \u001b[1;32m~\\anaconda3\\Lib\\concurrent\\futures\\_base.py:449\u001b[0m, in \u001b[0;36mFuture.result\u001b[1;34m(self, timeout)\u001b[0m\n\u001b[0;32m    447\u001b[0m     \u001b[38;5;28;01mraise\u001b[39;00m CancelledError()\n\u001b[0;32m    448\u001b[0m \u001b[38;5;28;01melif\u001b[39;00m \u001b[38;5;28mself\u001b[39m\u001b[38;5;241m.\u001b[39m_state \u001b[38;5;241m==\u001b[39m FINISHED:\n\u001b[1;32m--> 449\u001b[0m     \u001b[38;5;28;01mreturn\u001b[39;00m \u001b[38;5;28mself\u001b[39m\u001b[38;5;241m.\u001b[39m__get_result()\n\u001b[0;32m    451\u001b[0m \u001b[38;5;28mself\u001b[39m\u001b[38;5;241m.\u001b[39m_condition\u001b[38;5;241m.\u001b[39mwait(timeout)\n\u001b[0;32m    453\u001b[0m \u001b[38;5;28;01mif\u001b[39;00m \u001b[38;5;28mself\u001b[39m\u001b[38;5;241m.\u001b[39m_state \u001b[38;5;129;01min\u001b[39;00m [CANCELLED, CANCELLED_AND_NOTIFIED]:\n",
      "File \u001b[1;32m~\\anaconda3\\Lib\\concurrent\\futures\\_base.py:401\u001b[0m, in \u001b[0;36mFuture.__get_result\u001b[1;34m(self)\u001b[0m\n\u001b[0;32m    399\u001b[0m \u001b[38;5;28;01mif\u001b[39;00m \u001b[38;5;28mself\u001b[39m\u001b[38;5;241m.\u001b[39m_exception:\n\u001b[0;32m    400\u001b[0m     \u001b[38;5;28;01mtry\u001b[39;00m:\n\u001b[1;32m--> 401\u001b[0m         \u001b[38;5;28;01mraise\u001b[39;00m \u001b[38;5;28mself\u001b[39m\u001b[38;5;241m.\u001b[39m_exception\n\u001b[0;32m    402\u001b[0m     \u001b[38;5;28;01mfinally\u001b[39;00m:\n\u001b[0;32m    403\u001b[0m         \u001b[38;5;66;03m# Break a reference cycle with the exception in self._exception\u001b[39;00m\n\u001b[0;32m    404\u001b[0m         \u001b[38;5;28mself\u001b[39m \u001b[38;5;241m=\u001b[39m \u001b[38;5;28;01mNone\u001b[39;00m\n",
      "File \u001b[1;32m~\\anaconda3\\Lib\\site-packages\\tenacity\\__init__.py:478\u001b[0m, in \u001b[0;36mRetrying.__call__\u001b[1;34m(self, fn, *args, **kwargs)\u001b[0m\n\u001b[0;32m    476\u001b[0m \u001b[38;5;28;01mif\u001b[39;00m \u001b[38;5;28misinstance\u001b[39m(do, DoAttempt):\n\u001b[0;32m    477\u001b[0m     \u001b[38;5;28;01mtry\u001b[39;00m:\n\u001b[1;32m--> 478\u001b[0m         result \u001b[38;5;241m=\u001b[39m fn(\u001b[38;5;241m*\u001b[39margs, \u001b[38;5;241m*\u001b[39m\u001b[38;5;241m*\u001b[39mkwargs)\n\u001b[0;32m    479\u001b[0m     \u001b[38;5;28;01mexcept\u001b[39;00m \u001b[38;5;167;01mBaseException\u001b[39;00m:  \u001b[38;5;66;03m# noqa: B902\u001b[39;00m\n\u001b[0;32m    480\u001b[0m         retry_state\u001b[38;5;241m.\u001b[39mset_exception(sys\u001b[38;5;241m.\u001b[39mexc_info())  \u001b[38;5;66;03m# type: ignore[arg-type]\u001b[39;00m\n",
      "File \u001b[1;32m~\\anaconda3\\Lib\\site-packages\\langchain_google_genai\\chat_models.py:194\u001b[0m, in \u001b[0;36m_chat_with_retry.<locals>._chat_with_retry\u001b[1;34m(**kwargs)\u001b[0m\n\u001b[0;32m    190\u001b[0m     \u001b[38;5;28;01mraise\u001b[39;00m ChatGoogleGenerativeAIError(\n\u001b[0;32m    191\u001b[0m         \u001b[38;5;124mf\u001b[39m\u001b[38;5;124m\"\u001b[39m\u001b[38;5;124mInvalid argument provided to Gemini: \u001b[39m\u001b[38;5;132;01m{\u001b[39;00me\u001b[38;5;132;01m}\u001b[39;00m\u001b[38;5;124m\"\u001b[39m\n\u001b[0;32m    192\u001b[0m     ) \u001b[38;5;28;01mfrom\u001b[39;00m \u001b[38;5;21;01me\u001b[39;00m\n\u001b[0;32m    193\u001b[0m \u001b[38;5;28;01mexcept\u001b[39;00m \u001b[38;5;167;01mException\u001b[39;00m \u001b[38;5;28;01mas\u001b[39;00m e:\n\u001b[1;32m--> 194\u001b[0m     \u001b[38;5;28;01mraise\u001b[39;00m e\n",
      "File \u001b[1;32m~\\anaconda3\\Lib\\site-packages\\langchain_google_genai\\chat_models.py:178\u001b[0m, in \u001b[0;36m_chat_with_retry.<locals>._chat_with_retry\u001b[1;34m(**kwargs)\u001b[0m\n\u001b[0;32m    175\u001b[0m \u001b[38;5;129m@retry_decorator\u001b[39m\n\u001b[0;32m    176\u001b[0m \u001b[38;5;28;01mdef\u001b[39;00m \u001b[38;5;21m_chat_with_retry\u001b[39m(\u001b[38;5;241m*\u001b[39m\u001b[38;5;241m*\u001b[39mkwargs: Any) \u001b[38;5;241m-\u001b[39m\u001b[38;5;241m>\u001b[39m Any:\n\u001b[0;32m    177\u001b[0m     \u001b[38;5;28;01mtry\u001b[39;00m:\n\u001b[1;32m--> 178\u001b[0m         \u001b[38;5;28;01mreturn\u001b[39;00m generation_method(\u001b[38;5;241m*\u001b[39m\u001b[38;5;241m*\u001b[39mkwargs)\n\u001b[0;32m    179\u001b[0m     \u001b[38;5;66;03m# Do not retry for these errors.\u001b[39;00m\n\u001b[0;32m    180\u001b[0m     \u001b[38;5;28;01mexcept\u001b[39;00m google\u001b[38;5;241m.\u001b[39mapi_core\u001b[38;5;241m.\u001b[39mexceptions\u001b[38;5;241m.\u001b[39mFailedPrecondition \u001b[38;5;28;01mas\u001b[39;00m exc:\n",
      "File \u001b[1;32m~\\anaconda3\\Lib\\site-packages\\google\\ai\\generativelanguage_v1beta\\services\\generative_service\\client.py:830\u001b[0m, in \u001b[0;36mGenerativeServiceClient.generate_content\u001b[1;34m(self, request, model, contents, retry, timeout, metadata)\u001b[0m\n\u001b[0;32m    827\u001b[0m \u001b[38;5;28mself\u001b[39m\u001b[38;5;241m.\u001b[39m_validate_universe_domain()\n\u001b[0;32m    829\u001b[0m \u001b[38;5;66;03m# Send the request.\u001b[39;00m\n\u001b[1;32m--> 830\u001b[0m response \u001b[38;5;241m=\u001b[39m rpc(\n\u001b[0;32m    831\u001b[0m     request,\n\u001b[0;32m    832\u001b[0m     retry\u001b[38;5;241m=\u001b[39mretry,\n\u001b[0;32m    833\u001b[0m     timeout\u001b[38;5;241m=\u001b[39mtimeout,\n\u001b[0;32m    834\u001b[0m     metadata\u001b[38;5;241m=\u001b[39mmetadata,\n\u001b[0;32m    835\u001b[0m )\n\u001b[0;32m    837\u001b[0m \u001b[38;5;66;03m# Done; return the response.\u001b[39;00m\n\u001b[0;32m    838\u001b[0m \u001b[38;5;28;01mreturn\u001b[39;00m response\n",
      "File \u001b[1;32m~\\anaconda3\\Lib\\site-packages\\google\\api_core\\gapic_v1\\method.py:131\u001b[0m, in \u001b[0;36m_GapicCallable.__call__\u001b[1;34m(self, timeout, retry, compression, *args, **kwargs)\u001b[0m\n\u001b[0;32m    128\u001b[0m \u001b[38;5;28;01mif\u001b[39;00m \u001b[38;5;28mself\u001b[39m\u001b[38;5;241m.\u001b[39m_compression \u001b[38;5;129;01mis\u001b[39;00m \u001b[38;5;129;01mnot\u001b[39;00m \u001b[38;5;28;01mNone\u001b[39;00m:\n\u001b[0;32m    129\u001b[0m     kwargs[\u001b[38;5;124m\"\u001b[39m\u001b[38;5;124mcompression\u001b[39m\u001b[38;5;124m\"\u001b[39m] \u001b[38;5;241m=\u001b[39m compression\n\u001b[1;32m--> 131\u001b[0m \u001b[38;5;28;01mreturn\u001b[39;00m wrapped_func(\u001b[38;5;241m*\u001b[39margs, \u001b[38;5;241m*\u001b[39m\u001b[38;5;241m*\u001b[39mkwargs)\n",
      "File \u001b[1;32m~\\anaconda3\\Lib\\site-packages\\google\\api_core\\retry\\retry_unary.py:293\u001b[0m, in \u001b[0;36mRetry.__call__.<locals>.retry_wrapped_func\u001b[1;34m(*args, **kwargs)\u001b[0m\n\u001b[0;32m    289\u001b[0m target \u001b[38;5;241m=\u001b[39m functools\u001b[38;5;241m.\u001b[39mpartial(func, \u001b[38;5;241m*\u001b[39margs, \u001b[38;5;241m*\u001b[39m\u001b[38;5;241m*\u001b[39mkwargs)\n\u001b[0;32m    290\u001b[0m sleep_generator \u001b[38;5;241m=\u001b[39m exponential_sleep_generator(\n\u001b[0;32m    291\u001b[0m     \u001b[38;5;28mself\u001b[39m\u001b[38;5;241m.\u001b[39m_initial, \u001b[38;5;28mself\u001b[39m\u001b[38;5;241m.\u001b[39m_maximum, multiplier\u001b[38;5;241m=\u001b[39m\u001b[38;5;28mself\u001b[39m\u001b[38;5;241m.\u001b[39m_multiplier\n\u001b[0;32m    292\u001b[0m )\n\u001b[1;32m--> 293\u001b[0m \u001b[38;5;28;01mreturn\u001b[39;00m retry_target(\n\u001b[0;32m    294\u001b[0m     target,\n\u001b[0;32m    295\u001b[0m     \u001b[38;5;28mself\u001b[39m\u001b[38;5;241m.\u001b[39m_predicate,\n\u001b[0;32m    296\u001b[0m     sleep_generator,\n\u001b[0;32m    297\u001b[0m     timeout\u001b[38;5;241m=\u001b[39m\u001b[38;5;28mself\u001b[39m\u001b[38;5;241m.\u001b[39m_timeout,\n\u001b[0;32m    298\u001b[0m     on_error\u001b[38;5;241m=\u001b[39mon_error,\n\u001b[0;32m    299\u001b[0m )\n",
      "File \u001b[1;32m~\\anaconda3\\Lib\\site-packages\\google\\api_core\\retry\\retry_unary.py:153\u001b[0m, in \u001b[0;36mretry_target\u001b[1;34m(target, predicate, sleep_generator, timeout, on_error, exception_factory, **kwargs)\u001b[0m\n\u001b[0;32m    149\u001b[0m \u001b[38;5;66;03m# pylint: disable=broad-except\u001b[39;00m\n\u001b[0;32m    150\u001b[0m \u001b[38;5;66;03m# This function explicitly must deal with broad exceptions.\u001b[39;00m\n\u001b[0;32m    151\u001b[0m \u001b[38;5;28;01mexcept\u001b[39;00m \u001b[38;5;167;01mException\u001b[39;00m \u001b[38;5;28;01mas\u001b[39;00m exc:\n\u001b[0;32m    152\u001b[0m     \u001b[38;5;66;03m# defer to shared logic for handling errors\u001b[39;00m\n\u001b[1;32m--> 153\u001b[0m     _retry_error_helper(\n\u001b[0;32m    154\u001b[0m         exc,\n\u001b[0;32m    155\u001b[0m         deadline,\n\u001b[0;32m    156\u001b[0m         sleep,\n\u001b[0;32m    157\u001b[0m         error_list,\n\u001b[0;32m    158\u001b[0m         predicate,\n\u001b[0;32m    159\u001b[0m         on_error,\n\u001b[0;32m    160\u001b[0m         exception_factory,\n\u001b[0;32m    161\u001b[0m         timeout,\n\u001b[0;32m    162\u001b[0m     )\n\u001b[0;32m    163\u001b[0m     \u001b[38;5;66;03m# if exception not raised, sleep before next attempt\u001b[39;00m\n\u001b[0;32m    164\u001b[0m     time\u001b[38;5;241m.\u001b[39msleep(sleep)\n",
      "File \u001b[1;32m~\\anaconda3\\Lib\\site-packages\\google\\api_core\\retry\\retry_base.py:212\u001b[0m, in \u001b[0;36m_retry_error_helper\u001b[1;34m(exc, deadline, next_sleep, error_list, predicate_fn, on_error_fn, exc_factory_fn, original_timeout)\u001b[0m\n\u001b[0;32m    206\u001b[0m \u001b[38;5;28;01mif\u001b[39;00m \u001b[38;5;129;01mnot\u001b[39;00m predicate_fn(exc):\n\u001b[0;32m    207\u001b[0m     final_exc, source_exc \u001b[38;5;241m=\u001b[39m exc_factory_fn(\n\u001b[0;32m    208\u001b[0m         error_list,\n\u001b[0;32m    209\u001b[0m         RetryFailureReason\u001b[38;5;241m.\u001b[39mNON_RETRYABLE_ERROR,\n\u001b[0;32m    210\u001b[0m         original_timeout,\n\u001b[0;32m    211\u001b[0m     )\n\u001b[1;32m--> 212\u001b[0m     \u001b[38;5;28;01mraise\u001b[39;00m final_exc \u001b[38;5;28;01mfrom\u001b[39;00m \u001b[38;5;21;01msource_exc\u001b[39;00m\n\u001b[0;32m    213\u001b[0m \u001b[38;5;28;01mif\u001b[39;00m on_error_fn \u001b[38;5;129;01mis\u001b[39;00m \u001b[38;5;129;01mnot\u001b[39;00m \u001b[38;5;28;01mNone\u001b[39;00m:\n\u001b[0;32m    214\u001b[0m     on_error_fn(exc)\n",
      "File \u001b[1;32m~\\anaconda3\\Lib\\site-packages\\google\\api_core\\retry\\retry_unary.py:144\u001b[0m, in \u001b[0;36mretry_target\u001b[1;34m(target, predicate, sleep_generator, timeout, on_error, exception_factory, **kwargs)\u001b[0m\n\u001b[0;32m    142\u001b[0m \u001b[38;5;28;01mfor\u001b[39;00m sleep \u001b[38;5;129;01min\u001b[39;00m sleep_generator:\n\u001b[0;32m    143\u001b[0m     \u001b[38;5;28;01mtry\u001b[39;00m:\n\u001b[1;32m--> 144\u001b[0m         result \u001b[38;5;241m=\u001b[39m target()\n\u001b[0;32m    145\u001b[0m         \u001b[38;5;28;01mif\u001b[39;00m inspect\u001b[38;5;241m.\u001b[39misawaitable(result):\n\u001b[0;32m    146\u001b[0m             warnings\u001b[38;5;241m.\u001b[39mwarn(_ASYNC_RETRY_WARNING)\n",
      "File \u001b[1;32m~\\anaconda3\\Lib\\site-packages\\google\\api_core\\timeout.py:120\u001b[0m, in \u001b[0;36mTimeToDeadlineTimeout.__call__.<locals>.func_with_timeout\u001b[1;34m(*args, **kwargs)\u001b[0m\n\u001b[0;32m    117\u001b[0m     \u001b[38;5;66;03m# Avoid setting negative timeout\u001b[39;00m\n\u001b[0;32m    118\u001b[0m     kwargs[\u001b[38;5;124m\"\u001b[39m\u001b[38;5;124mtimeout\u001b[39m\u001b[38;5;124m\"\u001b[39m] \u001b[38;5;241m=\u001b[39m \u001b[38;5;28mmax\u001b[39m(\u001b[38;5;241m0\u001b[39m, \u001b[38;5;28mself\u001b[39m\u001b[38;5;241m.\u001b[39m_timeout \u001b[38;5;241m-\u001b[39m time_since_first_attempt)\n\u001b[1;32m--> 120\u001b[0m \u001b[38;5;28;01mreturn\u001b[39;00m func(\u001b[38;5;241m*\u001b[39margs, \u001b[38;5;241m*\u001b[39m\u001b[38;5;241m*\u001b[39mkwargs)\n",
      "File \u001b[1;32m~\\anaconda3\\Lib\\site-packages\\google\\api_core\\grpc_helpers.py:78\u001b[0m, in \u001b[0;36m_wrap_unary_errors.<locals>.error_remapped_callable\u001b[1;34m(*args, **kwargs)\u001b[0m\n\u001b[0;32m     76\u001b[0m     \u001b[38;5;28;01mreturn\u001b[39;00m callable_(\u001b[38;5;241m*\u001b[39margs, \u001b[38;5;241m*\u001b[39m\u001b[38;5;241m*\u001b[39mkwargs)\n\u001b[0;32m     77\u001b[0m \u001b[38;5;28;01mexcept\u001b[39;00m grpc\u001b[38;5;241m.\u001b[39mRpcError \u001b[38;5;28;01mas\u001b[39;00m exc:\n\u001b[1;32m---> 78\u001b[0m     \u001b[38;5;28;01mraise\u001b[39;00m exceptions\u001b[38;5;241m.\u001b[39mfrom_grpc_error(exc) \u001b[38;5;28;01mfrom\u001b[39;00m \u001b[38;5;21;01mexc\u001b[39;00m\n",
      "\u001b[1;31mResourceExhausted\u001b[0m: 429 You exceeded your current quota, please check your plan and billing details. For more information on this error, head to: https://ai.google.dev/gemini-api/docs/rate-limits. [violations {\n}\n, links {\n  description: \"Learn more about Gemini API quotas\"\n  url: \"https://ai.google.dev/gemini-api/docs/rate-limits\"\n}\n, retry_delay {\n  seconds: 37\n}\n]",
      "\u001b[0mDuring task with name 'agent' and id 'f4c77759-6ef5-b982-75b4-53ffbba2751d'"
     ]
    }
   ],
   "source": [
    "import requests\n",
    "import wikipedia\n",
    "from langchain_core.tools import tool\n",
    "from langgraph.prebuilt import create_react_agent\n",
    "\n",
    "\n",
    "# Tool 1: Weather Fetcher\n",
    "@tool\n",
    "def get_weather(location: str) -> str:\n",
    "    \"\"\"Fetches real-time weather for a given location using the WeatherAPI.\"\"\"\n",
    "    api_key = weather_api  # Replace with your free WeatherAPI key\n",
    "    url = f\"http://api.weatherapi.com/v1/current.json?key={api_key}&q={location}\"\n",
    "    response = requests.get(url)\n",
    "    weather_data = response.json()\n",
    "    # Extract relevant weather info\n",
    "    if \"current\" in weather_data:\n",
    "        temp = weather_data['current']['temp_c']\n",
    "        condition = weather_data['current']['condition']['text']\n",
    "        return f\"Current weather in {location}: {temp}°C, {condition}\"\n",
    "    else:\n",
    "        return \"Sorry, I couldn't fetch the weather data.\"\n",
    "\n",
    "# Tool 2: Wikipedia Searcher\n",
    "@tool\n",
    "def search_wikipedia(query: str) -> str:\n",
    "    \"\"\"Searches Wikipedia for a given query and returns a short summary.\"\"\"\n",
    "    try:\n",
    "        return wikipedia.summary(query, sentences=2)\n",
    "    except wikipedia.exceptions.DisambiguationError as e:\n",
    "        return f\"Multiple results found: {e.options[:3]}...\"\n",
    "    except wikipedia.exceptions.PageError:\n",
    "        return \"No Wikipedia page found for the query.\"\n",
    "\n",
    "\n",
    "\n",
    "# Create ReAct Agent with the Weather and Wikipedia tools\n",
    "agent = create_react_agent(llm, [get_weather, search_wikipedia])\n",
    "\n",
    "# Example function to invoke the agent\n",
    "def invoke_agent(query):\n",
    "    response = agent.invoke({\"messages\": [{\"role\": \"user\", \"content\": query}]})\n",
    "    final_response = response[\"messages\"][-1].content\n",
    "    print(\"🤖 Agent Response:\", final_response)\n",
    "\n",
    "# Example Usage\n",
    "if __name__ == \"__main__\":\n",
    "    # Test 1: Weather query\n",
    "    print(\"Weather Query:\")\n",
    "    invoke_agent(\"What's the weather in New York?\")  # You can replace \"New York\" with any city\n",
    "    \n",
    "    # Test 2: Wikipedia query\n",
    "    print(\"\\nWikipedia Query:\")\n",
    "    invoke_agent(\"Who is Albert Einstein?\")\n"
   ]
  },
  {
   "cell_type": "code",
   "execution_count": null,
   "id": "a8baa2e1",
   "metadata": {},
   "outputs": [],
   "source": []
  }
 ],
 "metadata": {
  "kernelspec": {
   "display_name": "Python 3 (ipykernel)",
   "language": "python",
   "name": "python3"
  },
  "language_info": {
   "codemirror_mode": {
    "name": "ipython",
    "version": 3
   },
   "file_extension": ".py",
   "mimetype": "text/x-python",
   "name": "python",
   "nbconvert_exporter": "python",
   "pygments_lexer": "ipython3",
   "version": "3.11.5"
  }
 },
 "nbformat": 4,
 "nbformat_minor": 5
}
