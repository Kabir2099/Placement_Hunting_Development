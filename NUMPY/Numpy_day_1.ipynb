{
 "cells": [
  {
   "cell_type": "code",
   "execution_count": 1,
   "id": "87f78951",
   "metadata": {},
   "outputs": [
    {
     "name": "stdout",
     "output_type": "stream",
     "text": [
      "^C\n"
     ]
    }
   ],
   "source": [
    "!pip install numpy"
   ]
  },
  {
   "cell_type": "code",
   "execution_count": 4,
   "id": "0a26bff9",
   "metadata": {},
   "outputs": [
    {
     "name": "stdout",
     "output_type": "stream",
     "text": [
      "hi\n"
     ]
    }
   ],
   "source": [
    "print('hi')"
   ]
  },
  {
   "cell_type": "code",
   "execution_count": 5,
   "id": "572031fb",
   "metadata": {},
   "outputs": [
    {
     "name": "stdout",
     "output_type": "stream",
     "text": [
      "hello\n"
     ]
    }
   ],
   "source": [
    "print('hello')  # control+enter ->run"
   ]
  },
  {
   "cell_type": "code",
   "execution_count": 6,
   "id": "4c4ed0f2",
   "metadata": {},
   "outputs": [
    {
     "name": "stdout",
     "output_type": "stream",
     "text": [
      "hi\n"
     ]
    }
   ],
   "source": [
    "print(\"hi\") # run + create new cell -> shiht + enter"
   ]
  },
  {
   "cell_type": "markdown",
   "id": "36029084",
   "metadata": {},
   "source": [
    "# first program"
   ]
  },
  {
   "cell_type": "code",
   "execution_count": 7,
   "id": "171b63e8",
   "metadata": {},
   "outputs": [],
   "source": [
    "import numpy"
   ]
  },
  {
   "cell_type": "code",
   "execution_count": 8,
   "id": "5d818a6e",
   "metadata": {},
   "outputs": [
    {
     "data": {
      "text/plain": [
       "array([1, 2, 3, 4, 6])"
      ]
     },
     "execution_count": 8,
     "metadata": {},
     "output_type": "execute_result"
    }
   ],
   "source": [
    "#numpy.array(object,dtype)\n",
    "numpy.array([1,2,3,4,6])"
   ]
  },
  {
   "cell_type": "code",
   "execution_count": 9,
   "id": "8db50fe6",
   "metadata": {},
   "outputs": [],
   "source": [
    "arr=numpy.array([1,2,3,4,6])"
   ]
  },
  {
   "cell_type": "code",
   "execution_count": 10,
   "id": "10138369",
   "metadata": {},
   "outputs": [
    {
     "data": {
      "text/plain": [
       "array([1, 2, 3, 4, 6])"
      ]
     },
     "execution_count": 10,
     "metadata": {},
     "output_type": "execute_result"
    }
   ],
   "source": [
    "arr"
   ]
  },
  {
   "cell_type": "code",
   "execution_count": 11,
   "id": "aafb416e",
   "metadata": {},
   "outputs": [
    {
     "data": {
      "text/plain": [
       "numpy.ndarray"
      ]
     },
     "execution_count": 11,
     "metadata": {},
     "output_type": "execute_result"
    }
   ],
   "source": [
    "type(arr) #checking type"
   ]
  },
  {
   "cell_type": "code",
   "execution_count": 12,
   "id": "e681f7b3",
   "metadata": {},
   "outputs": [
    {
     "data": {
      "text/plain": [
       "1"
      ]
     },
     "execution_count": 12,
     "metadata": {},
     "output_type": "execute_result"
    }
   ],
   "source": [
    "arr[0] # access by indexing : arr[i] ->ith index"
   ]
  },
  {
   "cell_type": "code",
   "execution_count": 13,
   "id": "157a2630",
   "metadata": {},
   "outputs": [
    {
     "data": {
      "text/plain": [
       "numpy.int32"
      ]
     },
     "execution_count": 13,
     "metadata": {},
     "output_type": "execute_result"
    }
   ],
   "source": [
    "type(arr[0])"
   ]
  },
  {
   "cell_type": "code",
   "execution_count": 17,
   "id": "223f66a8",
   "metadata": {},
   "outputs": [
    {
     "data": {
      "text/plain": [
       "5"
      ]
     },
     "execution_count": 17,
     "metadata": {},
     "output_type": "execute_result"
    }
   ],
   "source": [
    "# check size\n",
    "arr.size"
   ]
  },
  {
   "cell_type": "code",
   "execution_count": 18,
   "id": "8b4aee09",
   "metadata": {},
   "outputs": [
    {
     "data": {
      "text/plain": [
       "20"
      ]
     },
     "execution_count": 18,
     "metadata": {},
     "output_type": "execute_result"
    }
   ],
   "source": [
    "# total bytes\n",
    "arr.nbytes"
   ]
  },
  {
   "cell_type": "code",
   "execution_count": 19,
   "id": "7de4217c",
   "metadata": {},
   "outputs": [
    {
     "data": {
      "text/plain": [
       "1"
      ]
     },
     "execution_count": 19,
     "metadata": {},
     "output_type": "execute_result"
    }
   ],
   "source": [
    "#check dimension\n",
    "arr.ndim"
   ]
  },
  {
   "cell_type": "code",
   "execution_count": 20,
   "id": "b7309ca2",
   "metadata": {},
   "outputs": [
    {
     "data": {
      "text/plain": [
       "dtype('int32')"
      ]
     },
     "execution_count": 20,
     "metadata": {},
     "output_type": "execute_result"
    }
   ],
   "source": [
    "arr.dtype #data type"
   ]
  },
  {
   "cell_type": "code",
   "execution_count": 21,
   "id": "d5cb9104",
   "metadata": {},
   "outputs": [
    {
     "data": {
      "text/plain": [
       "(5,)"
      ]
     },
     "execution_count": 21,
     "metadata": {},
     "output_type": "execute_result"
    }
   ],
   "source": [
    "arr.shape # tuples (row,col) : for"
   ]
  },
  {
   "cell_type": "code",
   "execution_count": 22,
   "id": "b750d3d5",
   "metadata": {},
   "outputs": [],
   "source": [
    "import numpy as np # as gives new name"
   ]
  },
  {
   "cell_type": "code",
   "execution_count": 26,
   "id": "2ff4a40b",
   "metadata": {},
   "outputs": [],
   "source": [
    "arr1=np.array([1,2,8,'hi','hello']) #add string/char"
   ]
  },
  {
   "cell_type": "code",
   "execution_count": 27,
   "id": "b6aa656f",
   "metadata": {},
   "outputs": [
    {
     "data": {
      "text/plain": [
       "numpy.ndarray"
      ]
     },
     "execution_count": 27,
     "metadata": {},
     "output_type": "execute_result"
    }
   ],
   "source": [
    "type(arr1)"
   ]
  },
  {
   "cell_type": "code",
   "execution_count": 29,
   "id": "b456b7a9",
   "metadata": {},
   "outputs": [
    {
     "data": {
      "text/plain": [
       "dtype('<U11')"
      ]
     },
     "execution_count": 29,
     "metadata": {},
     "output_type": "execute_result"
    }
   ],
   "source": [
    "arr1.dtype"
   ]
  },
  {
   "cell_type": "code",
   "execution_count": 30,
   "id": "49289c88",
   "metadata": {},
   "outputs": [],
   "source": [
    "arr3=np.array([1,2,3,4,5])"
   ]
  },
  {
   "cell_type": "code",
   "execution_count": 31,
   "id": "29c7d77c",
   "metadata": {},
   "outputs": [
    {
     "data": {
      "text/plain": [
       "array([1, 2, 3, 4, 5])"
      ]
     },
     "execution_count": 31,
     "metadata": {},
     "output_type": "execute_result"
    }
   ],
   "source": [
    "arr3"
   ]
  },
  {
   "cell_type": "code",
   "execution_count": 32,
   "id": "f2a24064",
   "metadata": {},
   "outputs": [
    {
     "data": {
      "text/plain": [
       "array([1, 2])"
      ]
     },
     "execution_count": 32,
     "metadata": {},
     "output_type": "execute_result"
    }
   ],
   "source": [
    "arr3[0:2]"
   ]
  },
  {
   "cell_type": "code",
   "execution_count": 35,
   "id": "6710ab17",
   "metadata": {},
   "outputs": [
    {
     "data": {
      "text/plain": [
       "array([1, 2, 3, 4])"
      ]
     },
     "execution_count": 35,
     "metadata": {},
     "output_type": "execute_result"
    }
   ],
   "source": [
    "arr3[0:4]"
   ]
  },
  {
   "cell_type": "code",
   "execution_count": 36,
   "id": "f844c283",
   "metadata": {},
   "outputs": [
    {
     "data": {
      "text/plain": [
       "array([1, 2, 3, 4, 5])"
      ]
     },
     "execution_count": 36,
     "metadata": {},
     "output_type": "execute_result"
    }
   ],
   "source": [
    "arr3[:]"
   ]
  },
  {
   "cell_type": "markdown",
   "id": "e59736c4",
   "metadata": {},
   "source": [
    "# mean , median"
   ]
  },
  {
   "cell_type": "code",
   "execution_count": 37,
   "id": "0283ddae",
   "metadata": {},
   "outputs": [
    {
     "data": {
      "text/plain": [
       "3.0"
      ]
     },
     "execution_count": 37,
     "metadata": {},
     "output_type": "execute_result"
    }
   ],
   "source": [
    "np.mean(arr3)"
   ]
  },
  {
   "cell_type": "code",
   "execution_count": 38,
   "id": "5e270b4b",
   "metadata": {},
   "outputs": [
    {
     "data": {
      "text/plain": [
       "3.0"
      ]
     },
     "execution_count": 38,
     "metadata": {},
     "output_type": "execute_result"
    }
   ],
   "source": [
    "arr3.mean()"
   ]
  },
  {
   "cell_type": "code",
   "execution_count": 40,
   "id": "0ba2c0a5",
   "metadata": {},
   "outputs": [
    {
     "data": {
      "text/plain": [
       "3.0"
      ]
     },
     "execution_count": 40,
     "metadata": {},
     "output_type": "execute_result"
    }
   ],
   "source": [
    "np.median(arr3) #find median"
   ]
  },
  {
   "cell_type": "markdown",
   "id": "d1c63d43",
   "metadata": {},
   "source": [
    "# min and max"
   ]
  },
  {
   "cell_type": "code",
   "execution_count": 45,
   "id": "1baec391",
   "metadata": {},
   "outputs": [
    {
     "data": {
      "text/plain": [
       "1"
      ]
     },
     "execution_count": 45,
     "metadata": {},
     "output_type": "execute_result"
    }
   ],
   "source": [
    "#min\n",
    "#max\n",
    "np.min(arr3)"
   ]
  },
  {
   "cell_type": "code",
   "execution_count": 46,
   "id": "b1bd3c7b",
   "metadata": {},
   "outputs": [
    {
     "data": {
      "text/plain": [
       "5"
      ]
     },
     "execution_count": 46,
     "metadata": {},
     "output_type": "execute_result"
    }
   ],
   "source": [
    "np.max(arr3)"
   ]
  },
  {
   "cell_type": "code",
   "execution_count": 47,
   "id": "2a1f5524",
   "metadata": {},
   "outputs": [],
   "source": [
    "# we need index"
   ]
  },
  {
   "cell_type": "code",
   "execution_count": 48,
   "id": "d75f0e36",
   "metadata": {},
   "outputs": [
    {
     "data": {
      "text/plain": [
       "0"
      ]
     },
     "execution_count": 48,
     "metadata": {},
     "output_type": "execute_result"
    }
   ],
   "source": [
    "np.argmin(arr3)"
   ]
  },
  {
   "cell_type": "code",
   "execution_count": 49,
   "id": "e277e179",
   "metadata": {},
   "outputs": [
    {
     "data": {
      "text/plain": [
       "4"
      ]
     },
     "execution_count": 49,
     "metadata": {},
     "output_type": "execute_result"
    }
   ],
   "source": [
    "np.argmax(arr3)"
   ]
  },
  {
   "cell_type": "markdown",
   "id": "bb7aa3f3",
   "metadata": {},
   "source": [
    "# searching "
   ]
  },
  {
   "cell_type": "code",
   "execution_count": 50,
   "id": "808d37de",
   "metadata": {},
   "outputs": [],
   "source": [
    "arr4=np.array([130,167,149,150,120])"
   ]
  },
  {
   "cell_type": "code",
   "execution_count": 51,
   "id": "d1fae05c",
   "metadata": {},
   "outputs": [
    {
     "data": {
      "text/plain": [
       "array([130, 167, 149, 150, 120])"
      ]
     },
     "execution_count": 51,
     "metadata": {},
     "output_type": "execute_result"
    }
   ],
   "source": [
    "arr4"
   ]
  },
  {
   "cell_type": "code",
   "execution_count": 52,
   "id": "fbec1fbb",
   "metadata": {},
   "outputs": [
    {
     "data": {
      "text/plain": [
       "(array([1, 2, 3], dtype=int64),)"
      ]
     },
     "execution_count": 52,
     "metadata": {},
     "output_type": "execute_result"
    }
   ],
   "source": [
    "# value greater than >135\n",
    "np.where(arr4>=135) # where returns index"
   ]
  },
  {
   "cell_type": "code",
   "execution_count": 53,
   "id": "2eff832b",
   "metadata": {},
   "outputs": [],
   "source": [
    "x=np.where(arr4>=135)"
   ]
  },
  {
   "cell_type": "code",
   "execution_count": 54,
   "id": "e3860d2a",
   "metadata": {},
   "outputs": [
    {
     "data": {
      "text/plain": [
       "(array([1, 2, 3], dtype=int64),)"
      ]
     },
     "execution_count": 54,
     "metadata": {},
     "output_type": "execute_result"
    }
   ],
   "source": [
    "x"
   ]
  },
  {
   "cell_type": "code",
   "execution_count": 55,
   "id": "b0f6f460",
   "metadata": {},
   "outputs": [
    {
     "data": {
      "text/plain": [
       "array([167, 149, 150])"
      ]
     },
     "execution_count": 55,
     "metadata": {},
     "output_type": "execute_result"
    }
   ],
   "source": [
    "arr4[x] # x is index"
   ]
  },
  {
   "cell_type": "markdown",
   "id": "be4a36df",
   "metadata": {},
   "source": [
    "## other way"
   ]
  },
  {
   "cell_type": "code",
   "execution_count": 56,
   "id": "fe7f766c",
   "metadata": {},
   "outputs": [
    {
     "data": {
      "text/plain": [
       "array([False,  True,  True,  True, False])"
      ]
     },
     "execution_count": 56,
     "metadata": {},
     "output_type": "execute_result"
    }
   ],
   "source": [
    "arr4>=135"
   ]
  },
  {
   "cell_type": "code",
   "execution_count": 57,
   "id": "d4576cb8",
   "metadata": {},
   "outputs": [],
   "source": [
    "filter=(arr4>=135)"
   ]
  },
  {
   "cell_type": "code",
   "execution_count": 58,
   "id": "75615b90",
   "metadata": {},
   "outputs": [
    {
     "data": {
      "text/plain": [
       "array([False,  True,  True,  True, False])"
      ]
     },
     "execution_count": 58,
     "metadata": {},
     "output_type": "execute_result"
    }
   ],
   "source": [
    "filter"
   ]
  },
  {
   "cell_type": "code",
   "execution_count": 59,
   "id": "757652de",
   "metadata": {},
   "outputs": [
    {
     "data": {
      "text/plain": [
       "array([167, 149, 150])"
      ]
     },
     "execution_count": 59,
     "metadata": {},
     "output_type": "execute_result"
    }
   ],
   "source": [
    "arr4[filter]"
   ]
  },
  {
   "cell_type": "markdown",
   "id": "7e5c05e9",
   "metadata": {},
   "source": [
    "# sorting"
   ]
  },
  {
   "cell_type": "code",
   "execution_count": 60,
   "id": "cb9fe693",
   "metadata": {},
   "outputs": [
    {
     "data": {
      "text/plain": [
       "array([130, 167, 149, 150, 120])"
      ]
     },
     "execution_count": 60,
     "metadata": {},
     "output_type": "execute_result"
    }
   ],
   "source": [
    "arr4"
   ]
  },
  {
   "cell_type": "code",
   "execution_count": 61,
   "id": "07e10ef4",
   "metadata": {},
   "outputs": [
    {
     "data": {
      "text/plain": [
       "array([120, 130, 149, 150, 167])"
      ]
     },
     "execution_count": 61,
     "metadata": {},
     "output_type": "execute_result"
    }
   ],
   "source": [
    "np.sort(arr4) #return new sort array "
   ]
  },
  {
   "cell_type": "code",
   "execution_count": 62,
   "id": "2bf2d910",
   "metadata": {},
   "outputs": [
    {
     "data": {
      "text/plain": [
       "array([130, 167, 149, 150, 120])"
      ]
     },
     "execution_count": 62,
     "metadata": {},
     "output_type": "execute_result"
    }
   ],
   "source": [
    "arr4"
   ]
  },
  {
   "cell_type": "code",
   "execution_count": 63,
   "id": "25a63c87",
   "metadata": {},
   "outputs": [],
   "source": [
    "arr4.sort() # change in the original array"
   ]
  },
  {
   "cell_type": "code",
   "execution_count": 64,
   "id": "488c1d4d",
   "metadata": {},
   "outputs": [
    {
     "data": {
      "text/plain": [
       "array([120, 130, 149, 150, 167])"
      ]
     },
     "execution_count": 64,
     "metadata": {},
     "output_type": "execute_result"
    }
   ],
   "source": [
    "arr4"
   ]
  },
  {
   "cell_type": "markdown",
   "id": "92608319",
   "metadata": {},
   "source": [
    "# add"
   ]
  },
  {
   "cell_type": "code",
   "execution_count": null,
   "id": "40a211d3",
   "metadata": {},
   "outputs": [],
   "source": [
    "\n",
    "    "
   ]
  }
 ],
 "metadata": {
  "kernelspec": {
   "display_name": "Python 3 (ipykernel)",
   "language": "python",
   "name": "python3"
  },
  "language_info": {
   "codemirror_mode": {
    "name": "ipython",
    "version": 3
   },
   "file_extension": ".py",
   "mimetype": "text/x-python",
   "name": "python",
   "nbconvert_exporter": "python",
   "pygments_lexer": "ipython3",
   "version": "3.11.5"
  }
 },
 "nbformat": 4,
 "nbformat_minor": 5
}
