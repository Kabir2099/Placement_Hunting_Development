{
 "cells": [
  {
   "cell_type": "markdown",
   "id": "5c18576a",
   "metadata": {},
   "source": [
    "# matrix -> all the element from second row"
   ]
  },
  {
   "cell_type": "code",
   "execution_count": 1,
   "id": "9f7ff2c2",
   "metadata": {},
   "outputs": [],
   "source": [
    "import numpy as np"
   ]
  },
  {
   "cell_type": "code",
   "execution_count": 3,
   "id": "82582486",
   "metadata": {},
   "outputs": [],
   "source": [
    "arr=np.random.randint(1,100,size=(5,5))"
   ]
  },
  {
   "cell_type": "code",
   "execution_count": 4,
   "id": "5d8fdff5",
   "metadata": {},
   "outputs": [
    {
     "data": {
      "text/plain": [
       "array([[11, 16, 52, 73, 49],\n",
       "       [75,  7, 37,  8, 33],\n",
       "       [93, 78, 89, 32, 39],\n",
       "       [39, 14, 47, 19, 93],\n",
       "       [57, 66, 34, 49, 77]])"
      ]
     },
     "execution_count": 4,
     "metadata": {},
     "output_type": "execute_result"
    }
   ],
   "source": [
    "arr"
   ]
  },
  {
   "cell_type": "code",
   "execution_count": 5,
   "id": "c6259984",
   "metadata": {},
   "outputs": [
    {
     "data": {
      "text/plain": [
       "array([75,  7, 37,  8, 33])"
      ]
     },
     "execution_count": 5,
     "metadata": {},
     "output_type": "execute_result"
    }
   ],
   "source": [
    "arr[1]"
   ]
  },
  {
   "cell_type": "code",
   "execution_count": 6,
   "id": "ae7b8aca",
   "metadata": {},
   "outputs": [],
   "source": [
    "# all the element from 3rd col"
   ]
  },
  {
   "cell_type": "code",
   "execution_count": 8,
   "id": "ce90d7fe",
   "metadata": {},
   "outputs": [
    {
     "data": {
      "text/plain": [
       "array([52, 37, 89, 47, 34])"
      ]
     },
     "execution_count": 8,
     "metadata": {},
     "output_type": "execute_result"
    }
   ],
   "source": [
    "arr[:,2]"
   ]
  },
  {
   "cell_type": "code",
   "execution_count": 9,
   "id": "95e7f478",
   "metadata": {},
   "outputs": [
    {
     "data": {
      "text/plain": [
       "array([[11, 16, 52],\n",
       "       [75,  7, 37],\n",
       "       [93, 78, 89]])"
      ]
     },
     "execution_count": 9,
     "metadata": {},
     "output_type": "execute_result"
    }
   ],
   "source": [
    "#from above matrix 3*3 matrix selection\n",
    "arr[0:3,0:3]"
   ]
  },
  {
   "cell_type": "code",
   "execution_count": 10,
   "id": "2067f4a2",
   "metadata": {},
   "outputs": [],
   "source": [
    "# all the element greater than 30"
   ]
  },
  {
   "cell_type": "code",
   "execution_count": 11,
   "id": "cbf86ae7",
   "metadata": {},
   "outputs": [],
   "source": [
    "filter = arr>30"
   ]
  },
  {
   "cell_type": "code",
   "execution_count": 12,
   "id": "7c2519c4",
   "metadata": {},
   "outputs": [
    {
     "data": {
      "text/plain": [
       "array([[False, False,  True,  True,  True],\n",
       "       [ True, False,  True, False,  True],\n",
       "       [ True,  True,  True,  True,  True],\n",
       "       [ True, False,  True, False,  True],\n",
       "       [ True,  True,  True,  True,  True]])"
      ]
     },
     "execution_count": 12,
     "metadata": {},
     "output_type": "execute_result"
    }
   ],
   "source": [
    "filter"
   ]
  },
  {
   "cell_type": "code",
   "execution_count": 13,
   "id": "ed3d5aa4",
   "metadata": {},
   "outputs": [
    {
     "data": {
      "text/plain": [
       "array([52, 73, 49, 75, 37, 33, 93, 78, 89, 32, 39, 39, 47, 93, 57, 66, 34,\n",
       "       49, 77])"
      ]
     },
     "execution_count": 13,
     "metadata": {},
     "output_type": "execute_result"
    }
   ],
   "source": [
    "arr[filter]"
   ]
  },
  {
   "cell_type": "code",
   "execution_count": 14,
   "id": "d6d989ff",
   "metadata": {},
   "outputs": [
    {
     "data": {
      "text/plain": [
       "<function where at 0x00000290F3AF5170>"
      ]
     },
     "execution_count": 14,
     "metadata": {},
     "output_type": "execute_result"
    }
   ],
   "source": [
    "np.where #try"
   ]
  },
  {
   "cell_type": "markdown",
   "id": "3666bc35",
   "metadata": {},
   "source": [
    "# find all the even element from array"
   ]
  },
  {
   "cell_type": "code",
   "execution_count": 15,
   "id": "b68c0c6e",
   "metadata": {},
   "outputs": [],
   "source": [
    "arr1 = np.arange(1,30)"
   ]
  },
  {
   "cell_type": "code",
   "execution_count": 16,
   "id": "c58bed67",
   "metadata": {},
   "outputs": [
    {
     "data": {
      "text/plain": [
       "array([ 1,  2,  3,  4,  5,  6,  7,  8,  9, 10, 11, 12, 13, 14, 15, 16, 17,\n",
       "       18, 19, 20, 21, 22, 23, 24, 25, 26, 27, 28, 29])"
      ]
     },
     "execution_count": 16,
     "metadata": {},
     "output_type": "execute_result"
    }
   ],
   "source": [
    "arr1"
   ]
  },
  {
   "cell_type": "code",
   "execution_count": 19,
   "id": "84755d68",
   "metadata": {},
   "outputs": [],
   "source": [
    "filter = arr1%2==0"
   ]
  },
  {
   "cell_type": "code",
   "execution_count": 20,
   "id": "b2ddef11",
   "metadata": {},
   "outputs": [
    {
     "data": {
      "text/plain": [
       "array([False,  True, False,  True, False,  True, False,  True, False,\n",
       "        True, False,  True, False,  True, False,  True, False,  True,\n",
       "       False,  True, False,  True, False,  True, False,  True, False,\n",
       "        True, False])"
      ]
     },
     "execution_count": 20,
     "metadata": {},
     "output_type": "execute_result"
    }
   ],
   "source": [
    "filter"
   ]
  },
  {
   "cell_type": "code",
   "execution_count": 21,
   "id": "82e53166",
   "metadata": {},
   "outputs": [
    {
     "data": {
      "text/plain": [
       "array([ 2,  4,  6,  8, 10, 12, 14, 16, 18, 20, 22, 24, 26, 28])"
      ]
     },
     "execution_count": 21,
     "metadata": {},
     "output_type": "execute_result"
    }
   ],
   "source": [
    "arr1[filter]"
   ]
  },
  {
   "cell_type": "markdown",
   "id": "5267cb2f",
   "metadata": {},
   "source": [
    "# replace all multiply of 3 with -1"
   ]
  },
  {
   "cell_type": "code",
   "execution_count": 23,
   "id": "a3c4798d",
   "metadata": {},
   "outputs": [
    {
     "data": {
      "text/plain": [
       "array([ 1,  2,  3,  4,  5,  6,  7,  8,  9, 10, 11, 12, 13, 14, 15, 16, 17,\n",
       "       18, 19, 20, 21, 22, 23, 24, 25, 26, 27, 28, 29])"
      ]
     },
     "execution_count": 23,
     "metadata": {},
     "output_type": "execute_result"
    }
   ],
   "source": [
    "arr1"
   ]
  },
  {
   "cell_type": "code",
   "execution_count": 25,
   "id": "4925efa9",
   "metadata": {},
   "outputs": [
    {
     "data": {
      "text/plain": [
       "array([False, False,  True, False, False,  True, False, False,  True,\n",
       "       False, False,  True, False, False,  True, False, False,  True,\n",
       "       False, False,  True, False, False,  True, False, False,  True,\n",
       "       False, False])"
      ]
     },
     "execution_count": 25,
     "metadata": {},
     "output_type": "execute_result"
    }
   ],
   "source": [
    "arr1%3==0"
   ]
  },
  {
   "cell_type": "code",
   "execution_count": 26,
   "id": "51ddbf54",
   "metadata": {},
   "outputs": [
    {
     "data": {
      "text/plain": [
       "array([ 1,  2, -1,  4,  5, -1,  7,  8, -1, 10, 11, -1, 13, 14, -1, 16, 17,\n",
       "       -1, 19, 20, -1, 22, 23, -1, 25, 26, -1, 28, 29])"
      ]
     },
     "execution_count": 26,
     "metadata": {},
     "output_type": "execute_result"
    }
   ],
   "source": [
    "np.where(arr1%3==0, -1, arr1 )"
   ]
  },
  {
   "cell_type": "code",
   "execution_count": 27,
   "id": "7fb836ee",
   "metadata": {},
   "outputs": [],
   "source": [
    "# np.where(condition,val1,val2) "
   ]
  },
  {
   "cell_type": "code",
   "execution_count": 28,
   "id": "7dc13b12",
   "metadata": {},
   "outputs": [
    {
     "data": {
      "text/plain": [
       "array([[11, 75, 93, 39, 57],\n",
       "       [16,  7, 78, 14, 66],\n",
       "       [52, 37, 89, 47, 34],\n",
       "       [73,  8, 32, 19, 49],\n",
       "       [49, 33, 39, 93, 77]])"
      ]
     },
     "execution_count": 28,
     "metadata": {},
     "output_type": "execute_result"
    }
   ],
   "source": [
    "arr.T"
   ]
  },
  {
   "cell_type": "code",
   "execution_count": null,
   "id": "f3561960",
   "metadata": {},
   "outputs": [],
   "source": []
  }
 ],
 "metadata": {
  "kernelspec": {
   "display_name": "Python 3 (ipykernel)",
   "language": "python",
   "name": "python3"
  },
  "language_info": {
   "codemirror_mode": {
    "name": "ipython",
    "version": 3
   },
   "file_extension": ".py",
   "mimetype": "text/x-python",
   "name": "python",
   "nbconvert_exporter": "python",
   "pygments_lexer": "ipython3",
   "version": "3.11.5"
  }
 },
 "nbformat": 4,
 "nbformat_minor": 5
}
